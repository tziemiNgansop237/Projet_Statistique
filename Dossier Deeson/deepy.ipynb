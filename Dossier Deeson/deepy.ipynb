{
 "cells": [
  {
   "cell_type": "code",
   "execution_count": 96,
   "metadata": {},
   "outputs": [
    {
     "data": {
      "text/html": [
       "<div>\n",
       "<style scoped>\n",
       "    .dataframe tbody tr th:only-of-type {\n",
       "        vertical-align: middle;\n",
       "    }\n",
       "\n",
       "    .dataframe tbody tr th {\n",
       "        vertical-align: top;\n",
       "    }\n",
       "\n",
       "    .dataframe thead th {\n",
       "        text-align: right;\n",
       "    }\n",
       "</style>\n",
       "<table border=\"1\" class=\"dataframe\">\n",
       "  <thead>\n",
       "    <tr style=\"text-align: right;\">\n",
       "      <th></th>\n",
       "      <th>unique_learner_id</th>\n",
       "      <th>days_between_signup_and_first_activity</th>\n",
       "      <th>days_between_order_and_first_activity</th>\n",
       "      <th>first_theory_activity_date</th>\n",
       "      <th>days_between_first_and_last_activities</th>\n",
       "      <th>chapter_before_success_count</th>\n",
       "      <th>serie_before_success_count</th>\n",
       "      <th>quiz_before_success_count</th>\n",
       "      <th>theory_activities_total</th>\n",
       "      <th>weekly_study_objective</th>\n",
       "      <th>...</th>\n",
       "      <th>nb_weeks_weekly_study_objective_reached_80pct</th>\n",
       "      <th>nb_weeks_weekly_study_objective_reached_75pct</th>\n",
       "      <th>nb_weeks_weekly_study_objective_reached_70pct</th>\n",
       "      <th>nb_weeks_weekly_study_objective_not_reached</th>\n",
       "      <th>nb_weeks_no_activity</th>\n",
       "      <th>nb_weeks_no_weekly_study_objective</th>\n",
       "      <th>pct_study_objective_reached</th>\n",
       "      <th>pct_study_objective_not_reached</th>\n",
       "      <th>pct_study_objective_no_activity</th>\n",
       "      <th>pct_no_objective_weeks</th>\n",
       "    </tr>\n",
       "  </thead>\n",
       "  <tbody>\n",
       "    <tr>\n",
       "      <th>0</th>\n",
       "      <td>3838161406066513919</td>\n",
       "      <td>41</td>\n",
       "      <td>0</td>\n",
       "      <td>2017-12-17 15:00:23.000000</td>\n",
       "      <td>265</td>\n",
       "      <td>0</td>\n",
       "      <td>3</td>\n",
       "      <td>0</td>\n",
       "      <td>3</td>\n",
       "      <td>&lt;NA&gt;</td>\n",
       "      <td>...</td>\n",
       "      <td>0</td>\n",
       "      <td>0</td>\n",
       "      <td>0</td>\n",
       "      <td>0</td>\n",
       "      <td>0</td>\n",
       "      <td>1</td>\n",
       "      <td>0.0</td>\n",
       "      <td>0.0</td>\n",
       "      <td>0.0</td>\n",
       "      <td>100.0</td>\n",
       "    </tr>\n",
       "    <tr>\n",
       "      <th>1</th>\n",
       "      <td>5829430568065349352</td>\n",
       "      <td>0</td>\n",
       "      <td>0</td>\n",
       "      <td>2022-07-07 12:02:53.000000</td>\n",
       "      <td>27</td>\n",
       "      <td>0</td>\n",
       "      <td>0</td>\n",
       "      <td>0</td>\n",
       "      <td>11</td>\n",
       "      <td>&lt;NA&gt;</td>\n",
       "      <td>...</td>\n",
       "      <td>0</td>\n",
       "      <td>0</td>\n",
       "      <td>0</td>\n",
       "      <td>0</td>\n",
       "      <td>0</td>\n",
       "      <td>1</td>\n",
       "      <td>0.0</td>\n",
       "      <td>0.0</td>\n",
       "      <td>0.0</td>\n",
       "      <td>100.0</td>\n",
       "    </tr>\n",
       "    <tr>\n",
       "      <th>2</th>\n",
       "      <td>7677180318050051984</td>\n",
       "      <td>787</td>\n",
       "      <td>788</td>\n",
       "      <td>2022-05-10 01:35:49.000000</td>\n",
       "      <td>295</td>\n",
       "      <td>0</td>\n",
       "      <td>0</td>\n",
       "      <td>0</td>\n",
       "      <td>73</td>\n",
       "      <td>240</td>\n",
       "      <td>...</td>\n",
       "      <td>0</td>\n",
       "      <td>0</td>\n",
       "      <td>0</td>\n",
       "      <td>1</td>\n",
       "      <td>0</td>\n",
       "      <td>0</td>\n",
       "      <td>0.0</td>\n",
       "      <td>100.0</td>\n",
       "      <td>0.0</td>\n",
       "      <td>0.0</td>\n",
       "    </tr>\n",
       "    <tr>\n",
       "      <th>3</th>\n",
       "      <td>-5150597998144597550</td>\n",
       "      <td>615</td>\n",
       "      <td>616</td>\n",
       "      <td>2024-04-18 04:56:03.262330</td>\n",
       "      <td>138</td>\n",
       "      <td>0</td>\n",
       "      <td>0</td>\n",
       "      <td>0</td>\n",
       "      <td>75</td>\n",
       "      <td>&lt;NA&gt;</td>\n",
       "      <td>...</td>\n",
       "      <td>0</td>\n",
       "      <td>0</td>\n",
       "      <td>0</td>\n",
       "      <td>0</td>\n",
       "      <td>0</td>\n",
       "      <td>1</td>\n",
       "      <td>0.0</td>\n",
       "      <td>0.0</td>\n",
       "      <td>0.0</td>\n",
       "      <td>100.0</td>\n",
       "    </tr>\n",
       "    <tr>\n",
       "      <th>4</th>\n",
       "      <td>969323468959211246</td>\n",
       "      <td>169</td>\n",
       "      <td>170</td>\n",
       "      <td>2019-03-19 12:32:56.000000</td>\n",
       "      <td>554</td>\n",
       "      <td>0</td>\n",
       "      <td>0</td>\n",
       "      <td>0</td>\n",
       "      <td>41</td>\n",
       "      <td>120</td>\n",
       "      <td>...</td>\n",
       "      <td>0</td>\n",
       "      <td>0</td>\n",
       "      <td>0</td>\n",
       "      <td>1</td>\n",
       "      <td>0</td>\n",
       "      <td>0</td>\n",
       "      <td>0.0</td>\n",
       "      <td>100.0</td>\n",
       "      <td>0.0</td>\n",
       "      <td>0.0</td>\n",
       "    </tr>\n",
       "    <tr>\n",
       "      <th>...</th>\n",
       "      <td>...</td>\n",
       "      <td>...</td>\n",
       "      <td>...</td>\n",
       "      <td>...</td>\n",
       "      <td>...</td>\n",
       "      <td>...</td>\n",
       "      <td>...</td>\n",
       "      <td>...</td>\n",
       "      <td>...</td>\n",
       "      <td>...</td>\n",
       "      <td>...</td>\n",
       "      <td>...</td>\n",
       "      <td>...</td>\n",
       "      <td>...</td>\n",
       "      <td>...</td>\n",
       "      <td>...</td>\n",
       "      <td>...</td>\n",
       "      <td>...</td>\n",
       "      <td>...</td>\n",
       "      <td>...</td>\n",
       "      <td>...</td>\n",
       "    </tr>\n",
       "    <tr>\n",
       "      <th>199995</th>\n",
       "      <td>1306435320134834461</td>\n",
       "      <td>0</td>\n",
       "      <td>-4</td>\n",
       "      <td>2021-02-25 10:11:13.000000</td>\n",
       "      <td>7</td>\n",
       "      <td>0</td>\n",
       "      <td>0</td>\n",
       "      <td>0</td>\n",
       "      <td>11</td>\n",
       "      <td>240</td>\n",
       "      <td>...</td>\n",
       "      <td>0</td>\n",
       "      <td>0</td>\n",
       "      <td>0</td>\n",
       "      <td>1</td>\n",
       "      <td>0</td>\n",
       "      <td>0</td>\n",
       "      <td>0.0</td>\n",
       "      <td>100.0</td>\n",
       "      <td>0.0</td>\n",
       "      <td>0.0</td>\n",
       "    </tr>\n",
       "    <tr>\n",
       "      <th>199996</th>\n",
       "      <td>5732789662758255879</td>\n",
       "      <td>0</td>\n",
       "      <td>0</td>\n",
       "      <td>2017-12-06 15:46:14.000000</td>\n",
       "      <td>45</td>\n",
       "      <td>0</td>\n",
       "      <td>0</td>\n",
       "      <td>0</td>\n",
       "      <td>7</td>\n",
       "      <td>&lt;NA&gt;</td>\n",
       "      <td>...</td>\n",
       "      <td>0</td>\n",
       "      <td>0</td>\n",
       "      <td>0</td>\n",
       "      <td>0</td>\n",
       "      <td>0</td>\n",
       "      <td>1</td>\n",
       "      <td>0.0</td>\n",
       "      <td>0.0</td>\n",
       "      <td>0.0</td>\n",
       "      <td>100.0</td>\n",
       "    </tr>\n",
       "    <tr>\n",
       "      <th>199997</th>\n",
       "      <td>3325713948509922176</td>\n",
       "      <td>17</td>\n",
       "      <td>9</td>\n",
       "      <td>2019-07-21 18:24:08.000000</td>\n",
       "      <td>229</td>\n",
       "      <td>0</td>\n",
       "      <td>0</td>\n",
       "      <td>0</td>\n",
       "      <td>83</td>\n",
       "      <td>&lt;NA&gt;</td>\n",
       "      <td>...</td>\n",
       "      <td>0</td>\n",
       "      <td>0</td>\n",
       "      <td>0</td>\n",
       "      <td>0</td>\n",
       "      <td>0</td>\n",
       "      <td>1</td>\n",
       "      <td>0.0</td>\n",
       "      <td>0.0</td>\n",
       "      <td>0.0</td>\n",
       "      <td>100.0</td>\n",
       "    </tr>\n",
       "    <tr>\n",
       "      <th>199998</th>\n",
       "      <td>7446387329160512320</td>\n",
       "      <td>68</td>\n",
       "      <td>57</td>\n",
       "      <td>2021-10-28 19:09:58.000000</td>\n",
       "      <td>172</td>\n",
       "      <td>0</td>\n",
       "      <td>242</td>\n",
       "      <td>0</td>\n",
       "      <td>310</td>\n",
       "      <td>120</td>\n",
       "      <td>...</td>\n",
       "      <td>0</td>\n",
       "      <td>0</td>\n",
       "      <td>0</td>\n",
       "      <td>15</td>\n",
       "      <td>0</td>\n",
       "      <td>0</td>\n",
       "      <td>0.0</td>\n",
       "      <td>100.0</td>\n",
       "      <td>0.0</td>\n",
       "      <td>0.0</td>\n",
       "    </tr>\n",
       "    <tr>\n",
       "      <th>199999</th>\n",
       "      <td>-426531306216685800</td>\n",
       "      <td>0</td>\n",
       "      <td>0</td>\n",
       "      <td>2021-07-25 16:20:25.000000</td>\n",
       "      <td>14</td>\n",
       "      <td>0</td>\n",
       "      <td>0</td>\n",
       "      <td>0</td>\n",
       "      <td>145</td>\n",
       "      <td>240</td>\n",
       "      <td>...</td>\n",
       "      <td>0</td>\n",
       "      <td>0</td>\n",
       "      <td>0</td>\n",
       "      <td>1</td>\n",
       "      <td>0</td>\n",
       "      <td>0</td>\n",
       "      <td>0.0</td>\n",
       "      <td>100.0</td>\n",
       "      <td>0.0</td>\n",
       "      <td>0.0</td>\n",
       "    </tr>\n",
       "  </tbody>\n",
       "</table>\n",
       "<p>200000 rows × 477 columns</p>\n",
       "</div>"
      ],
      "text/plain": [
       "           unique_learner_id  days_between_signup_and_first_activity  \\\n",
       "0        3838161406066513919                                      41   \n",
       "1        5829430568065349352                                       0   \n",
       "2        7677180318050051984                                     787   \n",
       "3       -5150597998144597550                                     615   \n",
       "4         969323468959211246                                     169   \n",
       "...                      ...                                     ...   \n",
       "199995   1306435320134834461                                       0   \n",
       "199996   5732789662758255879                                       0   \n",
       "199997   3325713948509922176                                      17   \n",
       "199998   7446387329160512320                                      68   \n",
       "199999   -426531306216685800                                       0   \n",
       "\n",
       "        days_between_order_and_first_activity first_theory_activity_date  \\\n",
       "0                                           0 2017-12-17 15:00:23.000000   \n",
       "1                                           0 2022-07-07 12:02:53.000000   \n",
       "2                                         788 2022-05-10 01:35:49.000000   \n",
       "3                                         616 2024-04-18 04:56:03.262330   \n",
       "4                                         170 2019-03-19 12:32:56.000000   \n",
       "...                                       ...                        ...   \n",
       "199995                                     -4 2021-02-25 10:11:13.000000   \n",
       "199996                                      0 2017-12-06 15:46:14.000000   \n",
       "199997                                      9 2019-07-21 18:24:08.000000   \n",
       "199998                                     57 2021-10-28 19:09:58.000000   \n",
       "199999                                      0 2021-07-25 16:20:25.000000   \n",
       "\n",
       "        days_between_first_and_last_activities  chapter_before_success_count  \\\n",
       "0                                          265                             0   \n",
       "1                                           27                             0   \n",
       "2                                          295                             0   \n",
       "3                                          138                             0   \n",
       "4                                          554                             0   \n",
       "...                                        ...                           ...   \n",
       "199995                                       7                             0   \n",
       "199996                                      45                             0   \n",
       "199997                                     229                             0   \n",
       "199998                                     172                             0   \n",
       "199999                                      14                             0   \n",
       "\n",
       "        serie_before_success_count  quiz_before_success_count  \\\n",
       "0                                3                          0   \n",
       "1                                0                          0   \n",
       "2                                0                          0   \n",
       "3                                0                          0   \n",
       "4                                0                          0   \n",
       "...                            ...                        ...   \n",
       "199995                           0                          0   \n",
       "199996                           0                          0   \n",
       "199997                           0                          0   \n",
       "199998                         242                          0   \n",
       "199999                           0                          0   \n",
       "\n",
       "        theory_activities_total  weekly_study_objective  ...  \\\n",
       "0                             3                    <NA>  ...   \n",
       "1                            11                    <NA>  ...   \n",
       "2                            73                     240  ...   \n",
       "3                            75                    <NA>  ...   \n",
       "4                            41                     120  ...   \n",
       "...                         ...                     ...  ...   \n",
       "199995                       11                     240  ...   \n",
       "199996                        7                    <NA>  ...   \n",
       "199997                       83                    <NA>  ...   \n",
       "199998                      310                     120  ...   \n",
       "199999                      145                     240  ...   \n",
       "\n",
       "        nb_weeks_weekly_study_objective_reached_80pct  \\\n",
       "0                                                   0   \n",
       "1                                                   0   \n",
       "2                                                   0   \n",
       "3                                                   0   \n",
       "4                                                   0   \n",
       "...                                               ...   \n",
       "199995                                              0   \n",
       "199996                                              0   \n",
       "199997                                              0   \n",
       "199998                                              0   \n",
       "199999                                              0   \n",
       "\n",
       "        nb_weeks_weekly_study_objective_reached_75pct  \\\n",
       "0                                                   0   \n",
       "1                                                   0   \n",
       "2                                                   0   \n",
       "3                                                   0   \n",
       "4                                                   0   \n",
       "...                                               ...   \n",
       "199995                                              0   \n",
       "199996                                              0   \n",
       "199997                                              0   \n",
       "199998                                              0   \n",
       "199999                                              0   \n",
       "\n",
       "        nb_weeks_weekly_study_objective_reached_70pct  \\\n",
       "0                                                   0   \n",
       "1                                                   0   \n",
       "2                                                   0   \n",
       "3                                                   0   \n",
       "4                                                   0   \n",
       "...                                               ...   \n",
       "199995                                              0   \n",
       "199996                                              0   \n",
       "199997                                              0   \n",
       "199998                                              0   \n",
       "199999                                              0   \n",
       "\n",
       "        nb_weeks_weekly_study_objective_not_reached  nb_weeks_no_activity  \\\n",
       "0                                                 0                     0   \n",
       "1                                                 0                     0   \n",
       "2                                                 1                     0   \n",
       "3                                                 0                     0   \n",
       "4                                                 1                     0   \n",
       "...                                             ...                   ...   \n",
       "199995                                            1                     0   \n",
       "199996                                            0                     0   \n",
       "199997                                            0                     0   \n",
       "199998                                           15                     0   \n",
       "199999                                            1                     0   \n",
       "\n",
       "        nb_weeks_no_weekly_study_objective  pct_study_objective_reached  \\\n",
       "0                                        1                          0.0   \n",
       "1                                        1                          0.0   \n",
       "2                                        0                          0.0   \n",
       "3                                        1                          0.0   \n",
       "4                                        0                          0.0   \n",
       "...                                    ...                          ...   \n",
       "199995                                   0                          0.0   \n",
       "199996                                   1                          0.0   \n",
       "199997                                   1                          0.0   \n",
       "199998                                   0                          0.0   \n",
       "199999                                   0                          0.0   \n",
       "\n",
       "        pct_study_objective_not_reached  pct_study_objective_no_activity  \\\n",
       "0                                   0.0                              0.0   \n",
       "1                                   0.0                              0.0   \n",
       "2                                 100.0                              0.0   \n",
       "3                                   0.0                              0.0   \n",
       "4                                 100.0                              0.0   \n",
       "...                                 ...                              ...   \n",
       "199995                            100.0                              0.0   \n",
       "199996                              0.0                              0.0   \n",
       "199997                              0.0                              0.0   \n",
       "199998                            100.0                              0.0   \n",
       "199999                            100.0                              0.0   \n",
       "\n",
       "        pct_no_objective_weeks  \n",
       "0                        100.0  \n",
       "1                        100.0  \n",
       "2                          0.0  \n",
       "3                        100.0  \n",
       "4                          0.0  \n",
       "...                        ...  \n",
       "199995                     0.0  \n",
       "199996                   100.0  \n",
       "199997                   100.0  \n",
       "199998                     0.0  \n",
       "199999                     0.0  \n",
       "\n",
       "[200000 rows x 477 columns]"
      ]
     },
     "execution_count": 96,
     "metadata": {},
     "output_type": "execute_result"
    }
   ],
   "source": [
    "import pandas as pd\n",
    "import matplotlib.pyplot as plt\n",
    "base_Edu=pd.read_parquet(\"D:\\\\2AD ENSAE\\\\Projet de statistique appliquée\\\\Dossier travail\\\\base_Edu.parquet\")\n",
    "base_Edu"
   ]
  },
  {
   "cell_type": "code",
   "execution_count": 97,
   "metadata": {},
   "outputs": [
    {
     "name": "stdout",
     "output_type": "stream",
     "text": [
      "<class 'pandas.core.frame.DataFrame'>\n",
      "RangeIndex: 200000 entries, 0 to 199999\n",
      "Columns: 477 entries, unique_learner_id to pct_no_objective_weeks\n",
      "dtypes: Int64(72), boolean(254), datetime64[us](1), float64(150)\n",
      "memory usage: 450.9 MB\n",
      "None\n"
     ]
    }
   ],
   "source": [
    "print(base_Edu.info())\n"
   ]
  },
  {
   "cell_type": "markdown",
   "metadata": {},
   "source": [
    "La base de données compte donc 477 variables dont 72 de type Int, 254 de type boolean, 1 de type datetime et 150 de type float soit au total 254 variables qualitatives (**boolean**) et 221 variables quantitatives(**float + int** en excluant les identifiants) sans oublier la variable de type **datetime**. "
   ]
  },
  {
   "cell_type": "code",
   "execution_count": 98,
   "metadata": {},
   "outputs": [
    {
     "data": {
      "text/plain": [
       "count    404.000000\n",
       "mean       0.743390\n",
       "std        0.279055\n",
       "min        0.047720\n",
       "25%        0.666710\n",
       "50%        0.842345\n",
       "75%        0.918625\n",
       "max        1.000000\n",
       "dtype: float64"
      ]
     },
     "execution_count": 98,
     "metadata": {},
     "output_type": "execute_result"
    }
   ],
   "source": [
    "missing_value=(base_Edu.isnull().sum()/len(base_Edu))\n",
    "missing_value[missing_value>0]\n",
    "missing_value[missing_value>0].describe()"
   ]
  },
  {
   "cell_type": "markdown",
   "metadata": {},
   "source": [
    "La base de données comporte donc 404 variables avec valeurs manquantes sur le total des 476 variables de la base ce qui n'est pas du tout négligeable. Voyons combien de valeurs manquantes at-on par type de variables. "
   ]
  },
  {
   "cell_type": "code",
   "execution_count": 99,
   "metadata": {},
   "outputs": [
    {
     "name": "stdout",
     "output_type": "stream",
     "text": [
      "48  variable de type int ont des valeurs manquantes\n",
      "103  variable de type float ont des valeurs manquantes\n",
      "253  variable de type boolean ont des valeurs manquantes\n",
      "0  variable de type datetime ont des valeurs manquantes\n"
     ]
    }
   ],
   "source": [
    "print(base_Edu.select_dtypes(\"int\").isnull().any().sum(),\" variable de type int ont des valeurs manquantes\")\n",
    "print(base_Edu.select_dtypes(\"float\").isnull().any().sum(),\" variable de type float ont des valeurs manquantes\")\n",
    "print(base_Edu.select_dtypes(\"boolean\").isnull().any().sum(),\" variable de type boolean ont des valeurs manquantes\")\n",
    "print(base_Edu.select_dtypes(\"datetime\").isnull().any().sum(),\" variable de type datetime ont des valeurs manquantes\")"
   ]
  },
  {
   "cell_type": "markdown",
   "metadata": {},
   "source": [
    "La seule variable de type datetime n'a donc pas de valeurs manquantes.  Analysons de plus près les proportions de valeurs manquantes des autres types"
   ]
  },
  {
   "cell_type": "code",
   "execution_count": 100,
   "metadata": {},
   "outputs": [
    {
     "data": {
      "text/plain": [
       "count    253.000000\n",
       "mean       0.903116\n",
       "std        0.072136\n",
       "min        0.695085\n",
       "25%        0.837765\n",
       "50%        0.883305\n",
       "75%        1.000000\n",
       "max        1.000000\n",
       "dtype: float64"
      ]
     },
     "execution_count": 100,
     "metadata": {},
     "output_type": "execute_result"
    }
   ],
   "source": [
    "miss_bool=base_Edu.select_dtypes(\"boolean\").isnull().sum()/len(base_Edu)\n",
    "miss_bool[miss_bool>0].describe()"
   ]
  },
  {
   "cell_type": "markdown",
   "metadata": {},
   "source": [
    "Les variables de type boolean comporte pratiquement tous assez de valeurs manquantes avec un minimum de 69% et un maximum de 100% du total des observations"
   ]
  },
  {
   "cell_type": "markdown",
   "metadata": {},
   "source": [
    "Les valeurs manquantes de la base ne sont pas complètement aléatoires. Elles ne sont pas pour la plupart le fruit d'une mauvaise collecte de données. La présence de valeurs manquantes dans cette base est due à diverses raisons notamment le fait que plusieurs individus de la base n'ont pas encore passé d'examen pour le permis. Plusieurs questions(variables) n'ont de sens que dans le cas où le premier examen est passé. Il y a donc une part d'information apporté par ces valeurs manquantes que nous devons inclure dans nos analyses. Pour les variables booléenne, nous pouvons régler ce prblème c'est à dire prendre en compte l'information apportée par ces valeurs manquantes en transformant les variables booléennes en variable catégorielles en considérant les valeurs manquantes comme une catégorie(True=1,False=0 et NA=2)."
   ]
  },
  {
   "cell_type": "code",
   "execution_count": 101,
   "metadata": {},
   "outputs": [],
   "source": [
    "#print(base_Edu.select_dtypes('category'))\n",
    "def encode_column_with_na(col):\n",
    "    mapping = {True: 1, False: 0, pd.NA: 2}  # Encoder les valeurs booléennes et <NA>\n",
    "    return col.map(mapping)\n",
    "colboo=base_Edu.select_dtypes(\"boolean\").columns\n",
    "for col in colboo:\n",
    "    base_Edu[col] = encode_column_with_na(base_Edu[col]).astype(\"category\")\n",
    "#base_Edu[\"is_first_exam_success\"].cat.categories\n"
   ]
  },
  {
   "cell_type": "markdown",
   "metadata": {},
   "source": [
    "Passons maintenant aux variables quantitatives (int+float)"
   ]
  },
  {
   "cell_type": "code",
   "execution_count": 102,
   "metadata": {},
   "outputs": [
    {
     "data": {
      "text/plain": [
       "count    151.000000\n",
       "mean       0.475770\n",
       "std        0.292138\n",
       "min        0.047720\n",
       "25%        0.184915\n",
       "50%        0.483995\n",
       "75%        0.736010\n",
       "max        0.941710\n",
       "dtype: float64"
      ]
     },
     "execution_count": 102,
     "metadata": {},
     "output_type": "execute_result"
    }
   ],
   "source": [
    "miss_quant=base_Edu.select_dtypes(include=[\"int\",\"float\"]).isnull().sum()/len(base_Edu)\n",
    "miss_quant[miss_quant>0].describe()"
   ]
  },
  {
   "cell_type": "markdown",
   "metadata": {},
   "source": [
    "Pour les variables quantitatives, la distribution des valeurs manquantes est plus étendue. On enregistre 151 variables qualitatives avec valeurs manquantes. On a un minimum de 4% et un maximum de 94% de valeurs manquantes par rapport au total d'observation(nous rappelons 200000 obervations). La nature des variables et la distribution des valeurs manquantes dans ce cas ne facilite pas la capture de l'information apportée par la présence de ces valeurs manquantes. On pourrait opter pour une imputation par KNN ou par imputation itération mais cela risque de modifier et significativement les corrélations existant déjà entre les variables introduisant ainsi un important biais et au vue de la taille de l'echantillon, cela demanderait un temps d'excution énorme. On choisit ici donc de procéder à une imputation par la médiane après suppression des variables avant un yaux élevé de valeurs manquantes pour minimiser le biais. C'est donc une manière de supposé que si les individus était dans les conditions pour répondre, il aurait les valeurs moyenne à la place des valeurs manquantes."
   ]
  },
  {
   "cell_type": "code",
   "execution_count": 103,
   "metadata": {},
   "outputs": [
    {
     "data": {
      "text/plain": [
       "count    118.000000\n",
       "mean       0.054362\n",
       "std        0.074368\n",
       "min        0.000000\n",
       "25%        0.000000\n",
       "50%        0.000000\n",
       "75%        0.106310\n",
       "max        0.194530\n",
       "dtype: float64"
      ]
     },
     "execution_count": 103,
     "metadata": {},
     "output_type": "execute_result"
    }
   ],
   "source": [
    "miss_quant[miss_quant<=0.20].describe()"
   ]
  },
  {
   "cell_type": "markdown",
   "metadata": {},
   "source": [
    "Nous choisissons le seuil de 20% de valeurs manquantes. Ce seuil nous parait raisonnable puisqu'il est relativement faible et n'entraine pas la suppression d'un grand nombre de variables quantitatives (118 sont conservées sur un total de 151)"
   ]
  },
  {
   "cell_type": "code",
   "execution_count": 104,
   "metadata": {},
   "outputs": [],
   "source": [
    "#suppression des variables avec plus de 20% de valeurs manquantes\n",
    "base_Edu=base_Edu.drop(columns=miss_quant[miss_quant>0.20].index)\n",
    "#Imputation par la médiane\n",
    "col=base_Edu.select_dtypes(exclude='category').columns\n",
    "base_Edu[col] = base_Edu[col].fillna(base_Edu[col].median())"
   ]
  },
  {
   "cell_type": "code",
   "execution_count": 107,
   "metadata": {},
   "outputs": [
    {
     "data": {
      "text/plain": [
       "0"
      ]
     },
     "execution_count": 107,
     "metadata": {},
     "output_type": "execute_result"
    }
   ],
   "source": [
    "base_Edu.isnull().any().sum()"
   ]
  },
  {
   "cell_type": "markdown",
   "metadata": {},
   "source": [
    "Plus aucune valeur manquante. La base de données enfin prête, on peut passer aux opérations de réduction de dimension"
   ]
  },
  {
   "cell_type": "code",
   "execution_count": 106,
   "metadata": {},
   "outputs": [
    {
     "data": {
      "text/plain": [
       "0"
      ]
     },
     "execution_count": 106,
     "metadata": {},
     "output_type": "execute_result"
    }
   ],
   "source": []
  }
 ],
 "metadata": {
  "kernelspec": {
   "display_name": "base",
   "language": "python",
   "name": "python3"
  },
  "language_info": {
   "codemirror_mode": {
    "name": "ipython",
    "version": 3
   },
   "file_extension": ".py",
   "mimetype": "text/x-python",
   "name": "python",
   "nbconvert_exporter": "python",
   "pygments_lexer": "ipython3",
   "version": "3.10.13"
  }
 },
 "nbformat": 4,
 "nbformat_minor": 2
}
