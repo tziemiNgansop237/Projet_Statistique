{
 "cells": [
  {
   "cell_type": "markdown",
   "metadata": {},
   "source": [
    "<h1 style=\"font-family: 'Georgia', serif; text-align: center; font-size: 30px; color:rgb(52, 152, 219); text-shadow: 2px 2px 5px rgba(0, 0, 0, 0.3)\">Préparation des données</h1>\n",
    "<br/>\n",
    "<br/>"
   ]
  },
  {
   "cell_type": "code",
   "execution_count": null,
   "metadata": {},
   "outputs": [],
   "source": [
    "!pip install fastparquet\n",
    "!pip install rpy2\n",
    "!pip install pandas\n",
    "!pip install matplotlib"
   ]
  },
  {
   "cell_type": "code",
   "execution_count": 2,
   "metadata": {},
   "outputs": [],
   "source": [
    "#importation des packages\n",
    "import pandas as pd\n",
    "import matplotlib.pyplot as plt\n",
    "import numpy as np\n",
    "from sklearn.decomposition import PCA\n",
    "from sklearn.preprocessing import StandardScaler\n",
    "import seaborn as sns"
   ]
  },
  {
   "cell_type": "code",
   "execution_count": 3,
   "metadata": {},
   "outputs": [
    {
     "data": {
      "text/html": [
       "<div>\n",
       "<style scoped>\n",
       "    .dataframe tbody tr th:only-of-type {\n",
       "        vertical-align: middle;\n",
       "    }\n",
       "\n",
       "    .dataframe tbody tr th {\n",
       "        vertical-align: top;\n",
       "    }\n",
       "\n",
       "    .dataframe thead th {\n",
       "        text-align: right;\n",
       "    }\n",
       "</style>\n",
       "<table border=\"1\" class=\"dataframe\">\n",
       "  <thead>\n",
       "    <tr style=\"text-align: right;\">\n",
       "      <th></th>\n",
       "      <th>unique_learner_id</th>\n",
       "      <th>days_between_signup_and_first_activity</th>\n",
       "      <th>days_between_order_and_first_activity</th>\n",
       "      <th>first_theory_activity_date</th>\n",
       "      <th>days_between_first_and_last_activities</th>\n",
       "      <th>chapter_before_success_count</th>\n",
       "      <th>serie_before_success_count</th>\n",
       "      <th>quiz_before_success_count</th>\n",
       "      <th>theory_activities_total</th>\n",
       "      <th>weekly_study_objective</th>\n",
       "      <th>...</th>\n",
       "      <th>nb_weeks_weekly_study_objective_reached_80pct</th>\n",
       "      <th>nb_weeks_weekly_study_objective_reached_75pct</th>\n",
       "      <th>nb_weeks_weekly_study_objective_reached_70pct</th>\n",
       "      <th>nb_weeks_weekly_study_objective_not_reached</th>\n",
       "      <th>nb_weeks_no_activity</th>\n",
       "      <th>nb_weeks_no_weekly_study_objective</th>\n",
       "      <th>pct_study_objective_reached</th>\n",
       "      <th>pct_study_objective_not_reached</th>\n",
       "      <th>pct_study_objective_no_activity</th>\n",
       "      <th>pct_no_objective_weeks</th>\n",
       "    </tr>\n",
       "  </thead>\n",
       "  <tbody>\n",
       "    <tr>\n",
       "      <th>0</th>\n",
       "      <td>3838161406066513919</td>\n",
       "      <td>41</td>\n",
       "      <td>0</td>\n",
       "      <td>2017-12-17 15:00:23.000000</td>\n",
       "      <td>265</td>\n",
       "      <td>0</td>\n",
       "      <td>3</td>\n",
       "      <td>0</td>\n",
       "      <td>3</td>\n",
       "      <td>&lt;NA&gt;</td>\n",
       "      <td>...</td>\n",
       "      <td>0</td>\n",
       "      <td>0</td>\n",
       "      <td>0</td>\n",
       "      <td>0</td>\n",
       "      <td>0</td>\n",
       "      <td>1</td>\n",
       "      <td>0.0</td>\n",
       "      <td>0.0</td>\n",
       "      <td>0.0</td>\n",
       "      <td>100.0</td>\n",
       "    </tr>\n",
       "    <tr>\n",
       "      <th>1</th>\n",
       "      <td>5829430568065349352</td>\n",
       "      <td>0</td>\n",
       "      <td>0</td>\n",
       "      <td>2022-07-07 12:02:53.000000</td>\n",
       "      <td>27</td>\n",
       "      <td>0</td>\n",
       "      <td>0</td>\n",
       "      <td>0</td>\n",
       "      <td>11</td>\n",
       "      <td>&lt;NA&gt;</td>\n",
       "      <td>...</td>\n",
       "      <td>0</td>\n",
       "      <td>0</td>\n",
       "      <td>0</td>\n",
       "      <td>0</td>\n",
       "      <td>0</td>\n",
       "      <td>1</td>\n",
       "      <td>0.0</td>\n",
       "      <td>0.0</td>\n",
       "      <td>0.0</td>\n",
       "      <td>100.0</td>\n",
       "    </tr>\n",
       "    <tr>\n",
       "      <th>2</th>\n",
       "      <td>7677180318050051984</td>\n",
       "      <td>787</td>\n",
       "      <td>788</td>\n",
       "      <td>2022-05-10 01:35:49.000000</td>\n",
       "      <td>295</td>\n",
       "      <td>0</td>\n",
       "      <td>0</td>\n",
       "      <td>0</td>\n",
       "      <td>73</td>\n",
       "      <td>240</td>\n",
       "      <td>...</td>\n",
       "      <td>0</td>\n",
       "      <td>0</td>\n",
       "      <td>0</td>\n",
       "      <td>1</td>\n",
       "      <td>0</td>\n",
       "      <td>0</td>\n",
       "      <td>0.0</td>\n",
       "      <td>100.0</td>\n",
       "      <td>0.0</td>\n",
       "      <td>0.0</td>\n",
       "    </tr>\n",
       "    <tr>\n",
       "      <th>3</th>\n",
       "      <td>-5150597998144597550</td>\n",
       "      <td>615</td>\n",
       "      <td>616</td>\n",
       "      <td>2024-04-18 04:56:03.262330</td>\n",
       "      <td>138</td>\n",
       "      <td>0</td>\n",
       "      <td>0</td>\n",
       "      <td>0</td>\n",
       "      <td>75</td>\n",
       "      <td>&lt;NA&gt;</td>\n",
       "      <td>...</td>\n",
       "      <td>0</td>\n",
       "      <td>0</td>\n",
       "      <td>0</td>\n",
       "      <td>0</td>\n",
       "      <td>0</td>\n",
       "      <td>1</td>\n",
       "      <td>0.0</td>\n",
       "      <td>0.0</td>\n",
       "      <td>0.0</td>\n",
       "      <td>100.0</td>\n",
       "    </tr>\n",
       "    <tr>\n",
       "      <th>4</th>\n",
       "      <td>969323468959211246</td>\n",
       "      <td>169</td>\n",
       "      <td>170</td>\n",
       "      <td>2019-03-19 12:32:56.000000</td>\n",
       "      <td>554</td>\n",
       "      <td>0</td>\n",
       "      <td>0</td>\n",
       "      <td>0</td>\n",
       "      <td>41</td>\n",
       "      <td>120</td>\n",
       "      <td>...</td>\n",
       "      <td>0</td>\n",
       "      <td>0</td>\n",
       "      <td>0</td>\n",
       "      <td>1</td>\n",
       "      <td>0</td>\n",
       "      <td>0</td>\n",
       "      <td>0.0</td>\n",
       "      <td>100.0</td>\n",
       "      <td>0.0</td>\n",
       "      <td>0.0</td>\n",
       "    </tr>\n",
       "  </tbody>\n",
       "</table>\n",
       "<p>5 rows × 477 columns</p>\n",
       "</div>"
      ],
      "text/plain": [
       "      unique_learner_id  days_between_signup_and_first_activity  \\\n",
       "0   3838161406066513919                                      41   \n",
       "1   5829430568065349352                                       0   \n",
       "2   7677180318050051984                                     787   \n",
       "3  -5150597998144597550                                     615   \n",
       "4    969323468959211246                                     169   \n",
       "\n",
       "   days_between_order_and_first_activity first_theory_activity_date  \\\n",
       "0                                      0 2017-12-17 15:00:23.000000   \n",
       "1                                      0 2022-07-07 12:02:53.000000   \n",
       "2                                    788 2022-05-10 01:35:49.000000   \n",
       "3                                    616 2024-04-18 04:56:03.262330   \n",
       "4                                    170 2019-03-19 12:32:56.000000   \n",
       "\n",
       "   days_between_first_and_last_activities  chapter_before_success_count  \\\n",
       "0                                     265                             0   \n",
       "1                                      27                             0   \n",
       "2                                     295                             0   \n",
       "3                                     138                             0   \n",
       "4                                     554                             0   \n",
       "\n",
       "   serie_before_success_count  quiz_before_success_count  \\\n",
       "0                           3                          0   \n",
       "1                           0                          0   \n",
       "2                           0                          0   \n",
       "3                           0                          0   \n",
       "4                           0                          0   \n",
       "\n",
       "   theory_activities_total  weekly_study_objective  ...  \\\n",
       "0                        3                    <NA>  ...   \n",
       "1                       11                    <NA>  ...   \n",
       "2                       73                     240  ...   \n",
       "3                       75                    <NA>  ...   \n",
       "4                       41                     120  ...   \n",
       "\n",
       "   nb_weeks_weekly_study_objective_reached_80pct  \\\n",
       "0                                              0   \n",
       "1                                              0   \n",
       "2                                              0   \n",
       "3                                              0   \n",
       "4                                              0   \n",
       "\n",
       "   nb_weeks_weekly_study_objective_reached_75pct  \\\n",
       "0                                              0   \n",
       "1                                              0   \n",
       "2                                              0   \n",
       "3                                              0   \n",
       "4                                              0   \n",
       "\n",
       "   nb_weeks_weekly_study_objective_reached_70pct  \\\n",
       "0                                              0   \n",
       "1                                              0   \n",
       "2                                              0   \n",
       "3                                              0   \n",
       "4                                              0   \n",
       "\n",
       "   nb_weeks_weekly_study_objective_not_reached  nb_weeks_no_activity  \\\n",
       "0                                            0                     0   \n",
       "1                                            0                     0   \n",
       "2                                            1                     0   \n",
       "3                                            0                     0   \n",
       "4                                            1                     0   \n",
       "\n",
       "   nb_weeks_no_weekly_study_objective  pct_study_objective_reached  \\\n",
       "0                                   1                          0.0   \n",
       "1                                   1                          0.0   \n",
       "2                                   0                          0.0   \n",
       "3                                   1                          0.0   \n",
       "4                                   0                          0.0   \n",
       "\n",
       "   pct_study_objective_not_reached  pct_study_objective_no_activity  \\\n",
       "0                              0.0                              0.0   \n",
       "1                              0.0                              0.0   \n",
       "2                            100.0                              0.0   \n",
       "3                              0.0                              0.0   \n",
       "4                            100.0                              0.0   \n",
       "\n",
       "   pct_no_objective_weeks  \n",
       "0                   100.0  \n",
       "1                   100.0  \n",
       "2                     0.0  \n",
       "3                   100.0  \n",
       "4                     0.0  \n",
       "\n",
       "[5 rows x 477 columns]"
      ]
     },
     "execution_count": 3,
     "metadata": {},
     "output_type": "execute_result"
    }
   ],
   "source": [
    "#chemin de la Base de données; \n",
    "#commentez l'url et vous remplacez par votre chemin sans supprimer!!!!!\n",
    "\n",
    "url=\"/home/onyxia/work/Projet_Statistique/data/base_Edu.parquet\"\n",
    "base_Edu=pd.read_parquet(url)\n",
    "base_Edu.head()"
   ]
  },
  {
   "cell_type": "code",
   "execution_count": 4,
   "metadata": {},
   "outputs": [
    {
     "name": "stdout",
     "output_type": "stream",
     "text": [
      "<class 'pandas.core.frame.DataFrame'>\n",
      "RangeIndex: 200000 entries, 0 to 199999\n",
      "Columns: 477 entries, unique_learner_id to pct_no_objective_weeks\n",
      "dtypes: Int64(72), boolean(254), datetime64[us](1), float64(150)\n",
      "memory usage: 450.9 MB\n",
      "None\n"
     ]
    }
   ],
   "source": [
    "print(base_Edu.info())"
   ]
  },
  {
   "cell_type": "markdown",
   "metadata": {},
   "source": [
    "La base de données compte donc 477 variables dont 72 de type Int, 254 de type boolean, 1 de type datetime et 150 de type float soit au total 254 variables qualitatives (**boolean**) et 221 variables quantitatives(**float + int** en excluant les identifiants) sans oublier la variable de type **datetime**."
   ]
  },
  {
   "cell_type": "markdown",
   "metadata": {},
   "source": [
    "Nous commencons par épurer la base données avant de passer à la réduction de dimension. On s'intéressera aux valeurs manquantes. "
   ]
  },
  {
   "cell_type": "code",
   "execution_count": 5,
   "metadata": {},
   "outputs": [
    {
     "data": {
      "text/plain": [
       "count    404.000000\n",
       "mean       0.743390\n",
       "std        0.279055\n",
       "min        0.047720\n",
       "25%        0.666710\n",
       "50%        0.842345\n",
       "75%        0.918625\n",
       "max        1.000000\n",
       "dtype: float64"
      ]
     },
     "execution_count": 5,
     "metadata": {},
     "output_type": "execute_result"
    }
   ],
   "source": [
    "missing_value=(base_Edu.isnull().sum()/len(base_Edu))\n",
    "missing_value[missing_value>0]\n",
    "missing_value[missing_value>0].describe()"
   ]
  },
  {
   "cell_type": "markdown",
   "metadata": {},
   "source": [
    "La base de données comporte donc 404 variables avec valeurs manquantes sur le total des 476 variables de la base ce qui n'est pas du tout négligeable. Voyons combien de valeurs manquantes at-on par type de variables. "
   ]
  },
  {
   "cell_type": "code",
   "execution_count": 6,
   "metadata": {},
   "outputs": [
    {
     "name": "stdout",
     "output_type": "stream",
     "text": [
      "48  variables de type int ont des valeurs manquantes\n",
      "103  variables de type float ont des valeurs manquantes\n",
      "253  variables de type boolean ont des valeurs manquantes\n",
      "0  variables de type datetime ont des valeurs manquantes\n"
     ]
    }
   ],
   "source": [
    "print(base_Edu.select_dtypes(\"int\").isnull().any().sum(),\" variables de type int ont des valeurs manquantes\")\n",
    "print(base_Edu.select_dtypes(\"float\").isnull().any().sum(),\" variables de type float ont des valeurs manquantes\")\n",
    "print(base_Edu.select_dtypes(\"boolean\").isnull().any().sum(),\" variables de type boolean ont des valeurs manquantes\")\n",
    "print(base_Edu.select_dtypes(\"datetime\").isnull().any().sum(),\" variables de type datetime ont des valeurs manquantes\")"
   ]
  },
  {
   "cell_type": "markdown",
   "metadata": {},
   "source": [
    "La seule variable de type datetime n'a donc pas de valeurs manquantes.  Analysons de plus près les proportions de valeurs manquantes des autres types:"
   ]
  },
  {
   "cell_type": "code",
   "execution_count": 7,
   "metadata": {},
   "outputs": [
    {
     "data": {
      "text/plain": [
       "count    253.000000\n",
       "mean       0.903116\n",
       "std        0.072136\n",
       "min        0.695085\n",
       "25%        0.837765\n",
       "50%        0.883305\n",
       "75%        1.000000\n",
       "max        1.000000\n",
       "dtype: float64"
      ]
     },
     "execution_count": 7,
     "metadata": {},
     "output_type": "execute_result"
    }
   ],
   "source": [
    "miss_bool=base_Edu.select_dtypes(\"boolean\").isnull().sum()/len(base_Edu)\n",
    "miss_bool[miss_bool>0].describe()"
   ]
  },
  {
   "cell_type": "markdown",
   "metadata": {},
   "source": [
    "Les variables de type boolean comporte pratiquement tous assez de valeurs manquantes avec un minimum de 69% et un maximum de 100% du total des observations"
   ]
  },
  {
   "cell_type": "markdown",
   "metadata": {},
   "source": [
    "Les valeurs manquantes de la base ne sont pas complètement aléatoires. Elles ne sont pas pour la plupart le fruit d'une mauvaise collecte de données. La présence de valeurs manquantes dans cette base est due à diverses raisons notamment le fait que plusieurs individus de la base n'ont pas encore passé d'examen pour le permis. Plusieurs questions(variables) n'ont de sens que dans le cas où le premier examen est passé. Il y a donc une part d'information apporté par ces valeurs manquantes que nous devons inclure dans nos analyses. Pour les variables booléenne, nous pouvons régler ce prblème c'est à dire prendre en compte l'information apportée par ces valeurs manquantes en transformant les variables booléennes en variable catégorielles en considérant les valeurs manquantes comme une catégorie(True=1,False=0 et NA=2)."
   ]
  },
  {
   "cell_type": "code",
   "execution_count": 8,
   "metadata": {},
   "outputs": [],
   "source": [
    "#print(base_Edu.select_dtypes('category'))\n",
    "def encode_column_with_na(col):\n",
    "    mapping = {True: 1, False: 0, pd.NA: 2}  # Encoder les valeurs booléennes et <NA>\n",
    "    return col.map(mapping)\n",
    "colboo=base_Edu.select_dtypes(\"boolean\").columns\n",
    "for col in colboo:\n",
    "    base_Edu[col] = encode_column_with_na(base_Edu[col]).astype(\"category\")\n",
    "#base_Edu[\"is_first_exam_success\"].cat.categories\n"
   ]
  },
  {
   "cell_type": "markdown",
   "metadata": {},
   "source": [
    "Passons maintenant aux variables quantitatives (int+float)"
   ]
  },
  {
   "cell_type": "code",
   "execution_count": 9,
   "metadata": {},
   "outputs": [
    {
     "data": {
      "text/plain": [
       "count    151.000000\n",
       "mean       0.475770\n",
       "std        0.292138\n",
       "min        0.047720\n",
       "25%        0.184915\n",
       "50%        0.483995\n",
       "75%        0.736010\n",
       "max        0.941710\n",
       "dtype: float64"
      ]
     },
     "execution_count": 9,
     "metadata": {},
     "output_type": "execute_result"
    }
   ],
   "source": [
    "miss_quant=base_Edu.select_dtypes(include=[\"int\",\"float\"]).isnull().sum()/len(base_Edu)\n",
    "miss_quant[miss_quant>0].describe()"
   ]
  },
  {
   "cell_type": "markdown",
   "metadata": {},
   "source": [
    "Pour les variables quantitatives, la distribution des valeurs manquantes est plus étendue. On enregistre 151 variables quantitatives avec valeurs manquantes. On a un minimum de 4% et un maximum de 94% de valeurs manquantes par rapport au total d'observation(nous rappelons 200000 obervations). La nature des variables et la distribution des valeurs manquantes dans ce cas ne facilite pas la capture de l'information apportée par la présence de ces valeurs manquantes. On pourrait opter pour une imputation par KNN ou par imputation itérative (MICE) mais cela risque de modifier et significativement les corrélations existant déjà entre les variables introduisant ainsi un important biais et au vue de la taille de l'echantillon, cela demanderait un temps d'excution énorme. On choisit ici donc de procéder à une imputation par la médiane après suppression des variables avant un taux élevé de valeurs manquantes pour minimiser le biais. Cela permettra de ne pas trop distordre les distributions existentes."
   ]
  },
  {
   "cell_type": "code",
   "execution_count": 10,
   "metadata": {},
   "outputs": [
    {
     "data": {
      "text/plain": [
       "count    118.000000\n",
       "mean       0.054362\n",
       "std        0.074368\n",
       "min        0.000000\n",
       "25%        0.000000\n",
       "50%        0.000000\n",
       "75%        0.106310\n",
       "max        0.194530\n",
       "dtype: float64"
      ]
     },
     "execution_count": 10,
     "metadata": {},
     "output_type": "execute_result"
    }
   ],
   "source": [
    "miss_quant[miss_quant<=0.20].describe()"
   ]
  },
  {
   "cell_type": "markdown",
   "metadata": {},
   "source": [
    "Nous choisissons le seuil de 20% de valeurs manquantes. Ce seuil nous parait raisonnable puisqu'il est relativement faible et n'entraine pas la suppression d'un grand nombre de variables quantitatives (118 sont conservées sur un total de 151)."
   ]
  },
  {
   "cell_type": "code",
   "execution_count": 11,
   "metadata": {},
   "outputs": [],
   "source": [
    "#suppression des variables avec plus de 20% de valeurs manquantes\n",
    "base_Edu=base_Edu.drop(columns=miss_quant[miss_quant>0.20].index)\n",
    "#Imputation par la médiane\n",
    "col=base_Edu.select_dtypes(exclude='category').columns\n",
    "base_Edu[col] = base_Edu[col].fillna(base_Edu[col].median())"
   ]
  },
  {
   "cell_type": "code",
   "execution_count": 12,
   "metadata": {},
   "outputs": [
    {
     "data": {
      "text/plain": [
       "np.int64(0)"
      ]
     },
     "execution_count": 12,
     "metadata": {},
     "output_type": "execute_result"
    }
   ],
   "source": [
    "base_Edu.isnull().any().sum()"
   ]
  },
  {
   "cell_type": "code",
   "execution_count": 13,
   "metadata": {},
   "outputs": [
    {
     "name": "stdout",
     "output_type": "stream",
     "text": [
      "<class 'pandas.core.frame.DataFrame'>\n",
      "RangeIndex: 200000 entries, 0 to 199999\n",
      "Columns: 372 entries, unique_learner_id to pct_no_objective_weeks\n",
      "dtypes: Int64(47), category(254), float64(71)\n",
      "memory usage: 237.5 MB\n"
     ]
    }
   ],
   "source": [
    "df1 = base_Edu.select_dtypes(exclude=['datetime64'])  # Colonnes non datetime64\n",
    "df2 = base_Edu.select_dtypes(include=['datetime64']) #colonnes datetime\n",
    "df1.info()"
   ]
  },
  {
   "cell_type": "code",
   "execution_count": 14,
   "metadata": {},
   "outputs": [],
   "source": [
    "#sauvegarde des données sans var date\n",
    "df1.to_parquet('data_Edu.parquet', index=False)"
   ]
  },
  {
   "cell_type": "markdown",
   "metadata": {},
   "source": [
    "Plus aucune valeur manquante. La base de données enfin prête, on peut passer aux opérations de réduction de dimension"
   ]
  },
  {
   "cell_type": "markdown",
   "metadata": {},
   "source": [
    "<br/>\n",
    "<p style=\"font-family: 'Georgia', serif; text-align: center;color:rgb(47, 99, 220);font-size: 30px\">\n",
    "<u>\n",
    "Réduction de dimension</u>\n",
    "</p>\n",
    "<br/>"
   ]
  },
  {
   "cell_type": "markdown",
   "metadata": {},
   "source": [
    "Etant donnée la dimension de la base de données( beaucoup de variables), ce sera très complexe voir impossible de faire des analyses ou entrainer un modèle directement sur cette base. Il est donc important voir optimale de faire au préalable une réduction de dimension. Pour ce faire, nous allons utiliser différentes approches de réduction de dimension, faire des comparaisons puis retenir la meilleure approche dans ce cas. Il s'agira principalement de faire une **analyse enn composante principale (ACP)** , une **FAMD** et utiliser **un autoencodeur**."
   ]
  },
  {
   "cell_type": "markdown",
   "metadata": {},
   "source": [
    "<br/>\n",
    "<p style=\"font-family: 'Georgia', serif; text-align: center;font-size: 25px\">\n",
    "<u>\n",
    "1- Analyse en composantes principales (ACP) </u>\n",
    "</p>\n",
    "<br/>"
   ]
  },
  {
   "cell_type": "markdown",
   "metadata": {},
   "source": [
    "Pour effectuer l'ACP il faut restreindre la base aux variables quantitatives."
   ]
  },
  {
   "cell_type": "code",
   "execution_count": 15,
   "metadata": {},
   "outputs": [],
   "source": [
    "data=base_Edu.select_dtypes(include=[\"int\",\"float\"])\n",
    "data=data.drop([\"unique_learner_id\"], axis=1)"
   ]
  },
  {
   "cell_type": "markdown",
   "metadata": {},
   "source": [
    "Par la suite, nous allons standardiser les variables afin de faire qu'elles aient toutes la même échelle car l'ACP dépend fortement de l'échelle des variables."
   ]
  },
  {
   "cell_type": "code",
   "execution_count": 16,
   "metadata": {},
   "outputs": [],
   "source": [
    "scaler =StandardScaler()\n",
    "X_scaled =scaler.fit_transform(data)"
   ]
  },
  {
   "cell_type": "markdown",
   "metadata": {},
   "source": [
    "<br/>\n",
    "<p style=\"font-family: 'Georgia', serif; text-align: center;font-size: 23px\">\n",
    " a)- Choix du nombre de composantes principales\n",
    "</p>\n",
    "<br/>"
   ]
  },
  {
   "cell_type": "markdown",
   "metadata": {},
   "source": [
    "#### **Règle du coude**"
   ]
  },
  {
   "cell_type": "markdown",
   "metadata": {},
   "source": [
    "Il s'agit ici de construire la courbe de décroissance des valeurs propres et de détecter des \"coudes\" (ou \"cassures\") signalant un changement de structure."
   ]
  },
  {
   "cell_type": "code",
   "execution_count": 38,
   "metadata": {},
   "outputs": [
    {
     "data": {
      "text/plain": [
       "Text(0.5, 0, 'Principal components')"
      ]
     },
     "execution_count": 38,
     "metadata": {},
     "output_type": "execute_result"
    },
    {
     "data": {
      "image/png": "[encoded data removed]",
      "text/plain": [
       "<Figure size 1000x400 with 1 Axes>"
      ]
     },
     "metadata": {},
     "output_type": "display_data"
    }
   ],
   "source": [
    "plt.figure(figsize=(10, 4))\n",
    "pca=PCA(n_components=15)\n",
    "pca.fit(X_scaled)\n",
    "sns.barplot(x= np.arange(1,16) , y=pca.explained_variance_ratio_*100, hue=np.arange(1,16), legend=False)\n",
    "plt.ylabel(\"Explain variance\")\n",
    "plt.xlabel(\"Principal components\")"
   ]
  },
  {
   "cell_type": "markdown",
   "metadata": {},
   "source": [
    "On observe de ce graphique qu'il y a deux coudes possibles, l'un à la deuxième composante et l'autre à la sixième composante. La première composante principale explique 11,66% de la variance totale, la deuxième en explique 8,05%, la troisième 7,27%, et à partir de la sixième composante principale, le pourcentage de variable expliquée devient inférieur à 3%. Les facteurs restants ont donc un apport d'information négligeable.\n",
    "\n",
    "A ce graphique, on ajoute le graphique qui décrit l'évolution de la variance expliquée par les axes."
   ]
  },
  {
   "cell_type": "code",
   "execution_count": 19,
   "metadata": {},
   "outputs": [
    {
     "data": {
      "image/png": "[encoded data removed]",
      "text/plain": [
       "<Figure size 800x500 with 1 Axes>"
      ]
     },
     "metadata": {},
     "output_type": "display_data"
    }
   ],
   "source": [
    "explained_variances=[]\n",
    "for n in range(1,16):\n",
    "    pca =PCA(n_components=n)\n",
    "    pca.fit(X_scaled)\n",
    "    explained_variances.append(np.sum(pca.explained_variance_ratio_))\n",
    "\n",
    "plt.figure(figsize=(8,5))\n",
    "plt.plot(range(1,16), explained_variances, marker='o')\n",
    "plt.xlabel(\"number of components\")\n",
    "plt.ylabel(\"cumulative explain variance\")\n",
    "plt.show()"
   ]
  },
  {
   "cell_type": "markdown",
   "metadata": {},
   "source": [
    "Ce graphique montre que les 6 premières composantes principales expliquent environ 39% de l'information. Considerer deux composantes principales n'est pas une bonne idée car on perdrais le gain d'information substanciel qu'apporte les 4 composantes principales suivantes."
   ]
  },
  {
   "cell_type": "markdown",
   "metadata": {},
   "source": [
    "#### **Test des « bâtons brisés »**"
   ]
  },
  {
   "cell_type": "markdown",
   "metadata": {},
   "source": [
    "Ce test est du à Frontier (1976) et Legendre-Legendre (1983). Il repose sur l’idée que si l’inertie totale était dispatchée aléatoirement sur les axes, la distribution des valeurs propres suivrait la loi des \n",
    "« bâtons brisés » (broken-stick). La valeur critique pour le choix des composantes principales s'écrit comme suit:\n",
    "$$ b_{k} = \\sum_{i=k}^{p} \\frac 1 {i}$$\n",
    "\n",
    "où p représente le nombre de variables."
   ]
  },
  {
   "cell_type": "code",
   "execution_count": 20,
   "metadata": {},
   "outputs": [],
   "source": [
    "baton_coef=[]\n",
    "for i in np.arange(1,16):\n",
    "    n=0\n",
    "    for j in range(i,117):\n",
    "        n=n+(1/j)\n",
    "    baton_coef.append(n)"
   ]
  },
  {
   "cell_type": "code",
   "execution_count": 21,
   "metadata": {},
   "outputs": [
    {
     "data": {
      "text/html": [
       "<div>\n",
       "<style scoped>\n",
       "    .dataframe tbody tr th:only-of-type {\n",
       "        vertical-align: middle;\n",
       "    }\n",
       "\n",
       "    .dataframe tbody tr th {\n",
       "        vertical-align: top;\n",
       "    }\n",
       "\n",
       "    .dataframe thead th {\n",
       "        text-align: right;\n",
       "    }\n",
       "</style>\n",
       "<table border=\"1\" class=\"dataframe\">\n",
       "  <thead>\n",
       "    <tr style=\"text-align: right;\">\n",
       "      <th></th>\n",
       "      <th>eigen_values</th>\n",
       "      <th>b_k</th>\n",
       "    </tr>\n",
       "  </thead>\n",
       "  <tbody>\n",
       "    <tr>\n",
       "      <th>PC1</th>\n",
       "      <td>11.433010</td>\n",
       "      <td>5.335110</td>\n",
       "    </tr>\n",
       "    <tr>\n",
       "      <th>PC2</th>\n",
       "      <td>7.889850</td>\n",
       "      <td>4.335110</td>\n",
       "    </tr>\n",
       "    <tr>\n",
       "      <th>PC3</th>\n",
       "      <td>7.125282</td>\n",
       "      <td>3.835110</td>\n",
       "    </tr>\n",
       "    <tr>\n",
       "      <th>PC4</th>\n",
       "      <td>4.303661</td>\n",
       "      <td>3.501777</td>\n",
       "    </tr>\n",
       "    <tr>\n",
       "      <th>PC5</th>\n",
       "      <td>3.656646</td>\n",
       "      <td>3.251777</td>\n",
       "    </tr>\n",
       "    <tr>\n",
       "      <th>PC6</th>\n",
       "      <td>3.079446</td>\n",
       "      <td>3.051777</td>\n",
       "    </tr>\n",
       "    <tr>\n",
       "      <th>PC7</th>\n",
       "      <td>2.793093</td>\n",
       "      <td>2.885110</td>\n",
       "    </tr>\n",
       "    <tr>\n",
       "      <th>PC8</th>\n",
       "      <td>2.510063</td>\n",
       "      <td>2.742253</td>\n",
       "    </tr>\n",
       "    <tr>\n",
       "      <th>PC9</th>\n",
       "      <td>2.316068</td>\n",
       "      <td>2.617253</td>\n",
       "    </tr>\n",
       "    <tr>\n",
       "      <th>PC10</th>\n",
       "      <td>2.140029</td>\n",
       "      <td>2.506142</td>\n",
       "    </tr>\n",
       "    <tr>\n",
       "      <th>PC11</th>\n",
       "      <td>2.076625</td>\n",
       "      <td>2.406142</td>\n",
       "    </tr>\n",
       "    <tr>\n",
       "      <th>PC12</th>\n",
       "      <td>1.886215</td>\n",
       "      <td>2.315233</td>\n",
       "    </tr>\n",
       "    <tr>\n",
       "      <th>PC13</th>\n",
       "      <td>1.840417</td>\n",
       "      <td>2.231899</td>\n",
       "    </tr>\n",
       "    <tr>\n",
       "      <th>PC14</th>\n",
       "      <td>1.824181</td>\n",
       "      <td>2.154976</td>\n",
       "    </tr>\n",
       "    <tr>\n",
       "      <th>PC15</th>\n",
       "      <td>1.782250</td>\n",
       "      <td>2.083548</td>\n",
       "    </tr>\n",
       "  </tbody>\n",
       "</table>\n",
       "</div>"
      ],
      "text/plain": [
       "      eigen_values       b_k\n",
       "PC1      11.433010  5.335110\n",
       "PC2       7.889850  4.335110\n",
       "PC3       7.125282  3.835110\n",
       "PC4       4.303661  3.501777\n",
       "PC5       3.656646  3.251777\n",
       "PC6       3.079446  3.051777\n",
       "PC7       2.793093  2.885110\n",
       "PC8       2.510063  2.742253\n",
       "PC9       2.316068  2.617253\n",
       "PC10      2.140029  2.506142\n",
       "PC11      2.076625  2.406142\n",
       "PC12      1.886215  2.315233\n",
       "PC13      1.840417  2.231899\n",
       "PC14      1.824181  2.154976\n",
       "PC15      1.782250  2.083548"
      ]
     },
     "execution_count": 21,
     "metadata": {},
     "output_type": "execute_result"
    }
   ],
   "source": [
    "data1=pd.DataFrame(data=pca.explained_variance_, columns=[\"eigen_values\"])\n",
    "data1[\"b_k\"]=baton_coef\n",
    "data1.index=[\"PC{}\".format(i) for i in np.arange(1,16)]\n",
    "data1"
   ]
  },
  {
   "cell_type": "markdown",
   "metadata": {},
   "source": [
    "Avec ce test on retient bien 6 composantes principales, car jusqu'a la sixième composante principale, la valeur propre de chaque composante est bien supérieur au seuil calculé.\n",
    "\n",
    "Nous retiendrons donc 6 composantes principales dans la suite."
   ]
  },
  {
   "cell_type": "markdown",
   "metadata": {},
   "source": [
    "<br/>\n",
    "<p style=\"font-family: 'Georgia', serif; text-align: center;font-size: 23px\">\n",
    "b)- Entrainement du modèle\n",
    "</p>\n",
    "<br/>"
   ]
  },
  {
   "cell_type": "code",
   "execution_count": 22,
   "metadata": {},
   "outputs": [
    {
     "name": "stdout",
     "output_type": "stream",
     "text": [
      "Explain variance for each component : [0.11666279 0.08050827 0.0727066  0.04391469 0.03731253 0.03142276]\n",
      "cumulated variance : 0.3825276432979798\n"
     ]
    }
   ],
   "source": [
    "# training the model with 6 principal components\n",
    "pca = PCA(n_components=6)\n",
    "X_pca = pca.fit_transform(X_scaled)\n",
    "print(\"Explain variance for each component :\",pca.explained_variance_ratio_)\n",
    "print(\"cumulated variance :\",pca.explained_variance_ratio_.sum())"
   ]
  },
  {
   "cell_type": "code",
   "execution_count": 23,
   "metadata": {},
   "outputs": [
    {
     "name": "stdout",
     "output_type": "stream",
     "text": [
      "Composantes principales (coefficients) :\n"
     ]
    },
    {
     "data": {
      "text/html": [
       "<div>\n",
       "<style scoped>\n",
       "    .dataframe tbody tr th:only-of-type {\n",
       "        vertical-align: middle;\n",
       "    }\n",
       "\n",
       "    .dataframe tbody tr th {\n",
       "        vertical-align: top;\n",
       "    }\n",
       "\n",
       "    .dataframe thead th {\n",
       "        text-align: right;\n",
       "    }\n",
       "</style>\n",
       "<table border=\"1\" class=\"dataframe\">\n",
       "  <thead>\n",
       "    <tr style=\"text-align: right;\">\n",
       "      <th></th>\n",
       "      <th>days_between_signup_and_first_activity</th>\n",
       "      <th>days_between_order_and_first_activity</th>\n",
       "      <th>days_between_first_and_last_activities</th>\n",
       "      <th>chapter_before_success_count</th>\n",
       "      <th>serie_before_success_count</th>\n",
       "      <th>quiz_before_success_count</th>\n",
       "      <th>theory_activities_total</th>\n",
       "      <th>percentage_activities_2_3_4h_week</th>\n",
       "      <th>percentage_activities_5_6_7h_week</th>\n",
       "      <th>percentage_activities_23_0_1h_week</th>\n",
       "      <th>...</th>\n",
       "      <th>nb_weeks_weekly_study_objective_reached_80pct</th>\n",
       "      <th>nb_weeks_weekly_study_objective_reached_75pct</th>\n",
       "      <th>nb_weeks_weekly_study_objective_reached_70pct</th>\n",
       "      <th>nb_weeks_weekly_study_objective_not_reached</th>\n",
       "      <th>nb_weeks_no_activity</th>\n",
       "      <th>nb_weeks_no_weekly_study_objective</th>\n",
       "      <th>pct_study_objective_reached</th>\n",
       "      <th>pct_study_objective_not_reached</th>\n",
       "      <th>pct_study_objective_no_activity</th>\n",
       "      <th>pct_no_objective_weeks</th>\n",
       "    </tr>\n",
       "  </thead>\n",
       "  <tbody>\n",
       "    <tr>\n",
       "      <th>PC1</th>\n",
       "      <td>0.066023</td>\n",
       "      <td>0.075380</td>\n",
       "      <td>-0.004304</td>\n",
       "      <td>-2.775558e-17</td>\n",
       "      <td>0.117614</td>\n",
       "      <td>0.108084</td>\n",
       "      <td>0.151237</td>\n",
       "      <td>-0.005015</td>\n",
       "      <td>0.010848</td>\n",
       "      <td>0.006412</td>\n",
       "      <td>...</td>\n",
       "      <td>0.124556</td>\n",
       "      <td>0.124960</td>\n",
       "      <td>0.125143</td>\n",
       "      <td>0.096558</td>\n",
       "      <td>0.017135</td>\n",
       "      <td>-0.004208</td>\n",
       "      <td>0.089261</td>\n",
       "      <td>0.075793</td>\n",
       "      <td>0.014699</td>\n",
       "      <td>-0.085941</td>\n",
       "    </tr>\n",
       "    <tr>\n",
       "      <th>PC2</th>\n",
       "      <td>-0.008065</td>\n",
       "      <td>-0.011528</td>\n",
       "      <td>0.001866</td>\n",
       "      <td>-5.551115e-17</td>\n",
       "      <td>0.064442</td>\n",
       "      <td>0.019720</td>\n",
       "      <td>0.024426</td>\n",
       "      <td>0.005472</td>\n",
       "      <td>-0.002838</td>\n",
       "      <td>0.010552</td>\n",
       "      <td>...</td>\n",
       "      <td>0.309994</td>\n",
       "      <td>0.305893</td>\n",
       "      <td>0.300151</td>\n",
       "      <td>0.033900</td>\n",
       "      <td>0.009574</td>\n",
       "      <td>0.012058</td>\n",
       "      <td>0.210167</td>\n",
       "      <td>-0.048970</td>\n",
       "      <td>0.004089</td>\n",
       "      <td>0.027051</td>\n",
       "    </tr>\n",
       "    <tr>\n",
       "      <th>PC3</th>\n",
       "      <td>0.011085</td>\n",
       "      <td>0.024568</td>\n",
       "      <td>-0.029454</td>\n",
       "      <td>2.775558e-17</td>\n",
       "      <td>0.054100</td>\n",
       "      <td>-0.053615</td>\n",
       "      <td>0.048469</td>\n",
       "      <td>-0.009290</td>\n",
       "      <td>0.005750</td>\n",
       "      <td>-0.014141</td>\n",
       "      <td>...</td>\n",
       "      <td>-0.038576</td>\n",
       "      <td>-0.037714</td>\n",
       "      <td>-0.036979</td>\n",
       "      <td>-0.021818</td>\n",
       "      <td>-0.007792</td>\n",
       "      <td>0.092365</td>\n",
       "      <td>-0.025102</td>\n",
       "      <td>-0.109213</td>\n",
       "      <td>-0.007508</td>\n",
       "      <td>0.111340</td>\n",
       "    </tr>\n",
       "    <tr>\n",
       "      <th>PC4</th>\n",
       "      <td>0.012075</td>\n",
       "      <td>0.023671</td>\n",
       "      <td>0.102459</td>\n",
       "      <td>5.551115e-17</td>\n",
       "      <td>0.172124</td>\n",
       "      <td>0.000509</td>\n",
       "      <td>0.288040</td>\n",
       "      <td>0.011691</td>\n",
       "      <td>0.003262</td>\n",
       "      <td>0.014421</td>\n",
       "      <td>...</td>\n",
       "      <td>-0.053972</td>\n",
       "      <td>-0.051355</td>\n",
       "      <td>-0.047792</td>\n",
       "      <td>0.081472</td>\n",
       "      <td>0.001146</td>\n",
       "      <td>0.133412</td>\n",
       "      <td>-0.050539</td>\n",
       "      <td>-0.034476</td>\n",
       "      <td>-0.001302</td>\n",
       "      <td>0.039099</td>\n",
       "    </tr>\n",
       "    <tr>\n",
       "      <th>PC5</th>\n",
       "      <td>0.096317</td>\n",
       "      <td>0.049701</td>\n",
       "      <td>0.418382</td>\n",
       "      <td>5.551115e-17</td>\n",
       "      <td>0.002792</td>\n",
       "      <td>-0.017294</td>\n",
       "      <td>0.017500</td>\n",
       "      <td>0.011576</td>\n",
       "      <td>0.012686</td>\n",
       "      <td>0.004933</td>\n",
       "      <td>...</td>\n",
       "      <td>-0.000584</td>\n",
       "      <td>-0.000301</td>\n",
       "      <td>0.000041</td>\n",
       "      <td>0.023312</td>\n",
       "      <td>0.006522</td>\n",
       "      <td>0.019306</td>\n",
       "      <td>-0.008350</td>\n",
       "      <td>0.023635</td>\n",
       "      <td>0.005007</td>\n",
       "      <td>-0.022552</td>\n",
       "    </tr>\n",
       "    <tr>\n",
       "      <th>PC6</th>\n",
       "      <td>0.182581</td>\n",
       "      <td>0.171615</td>\n",
       "      <td>-0.019994</td>\n",
       "      <td>-5.551115e-17</td>\n",
       "      <td>-0.034044</td>\n",
       "      <td>-0.000467</td>\n",
       "      <td>0.027862</td>\n",
       "      <td>0.024514</td>\n",
       "      <td>0.005893</td>\n",
       "      <td>0.064625</td>\n",
       "      <td>...</td>\n",
       "      <td>-0.009708</td>\n",
       "      <td>-0.008219</td>\n",
       "      <td>-0.006514</td>\n",
       "      <td>0.060201</td>\n",
       "      <td>0.015828</td>\n",
       "      <td>-0.188849</td>\n",
       "      <td>0.006282</td>\n",
       "      <td>0.300840</td>\n",
       "      <td>0.016464</td>\n",
       "      <td>-0.301232</td>\n",
       "    </tr>\n",
       "  </tbody>\n",
       "</table>\n",
       "<p>6 rows × 117 columns</p>\n",
       "</div>"
      ],
      "text/plain": [
       "     days_between_signup_and_first_activity  \\\n",
       "PC1                                0.066023   \n",
       "PC2                               -0.008065   \n",
       "PC3                                0.011085   \n",
       "PC4                                0.012075   \n",
       "PC5                                0.096317   \n",
       "PC6                                0.182581   \n",
       "\n",
       "     days_between_order_and_first_activity  \\\n",
       "PC1                               0.075380   \n",
       "PC2                              -0.011528   \n",
       "PC3                               0.024568   \n",
       "PC4                               0.023671   \n",
       "PC5                               0.049701   \n",
       "PC6                               0.171615   \n",
       "\n",
       "     days_between_first_and_last_activities  chapter_before_success_count  \\\n",
       "PC1                               -0.004304                 -2.775558e-17   \n",
       "PC2                                0.001866                 -5.551115e-17   \n",
       "PC3                               -0.029454                  2.775558e-17   \n",
       "PC4                                0.102459                  5.551115e-17   \n",
       "PC5                                0.418382                  5.551115e-17   \n",
       "PC6                               -0.019994                 -5.551115e-17   \n",
       "\n",
       "     serie_before_success_count  quiz_before_success_count  \\\n",
       "PC1                    0.117614                   0.108084   \n",
       "PC2                    0.064442                   0.019720   \n",
       "PC3                    0.054100                  -0.053615   \n",
       "PC4                    0.172124                   0.000509   \n",
       "PC5                    0.002792                  -0.017294   \n",
       "PC6                   -0.034044                  -0.000467   \n",
       "\n",
       "     theory_activities_total  percentage_activities_2_3_4h_week  \\\n",
       "PC1                 0.151237                          -0.005015   \n",
       "PC2                 0.024426                           0.005472   \n",
       "PC3                 0.048469                          -0.009290   \n",
       "PC4                 0.288040                           0.011691   \n",
       "PC5                 0.017500                           0.011576   \n",
       "PC6                 0.027862                           0.024514   \n",
       "\n",
       "     percentage_activities_5_6_7h_week  percentage_activities_23_0_1h_week  \\\n",
       "PC1                           0.010848                            0.006412   \n",
       "PC2                          -0.002838                            0.010552   \n",
       "PC3                           0.005750                           -0.014141   \n",
       "PC4                           0.003262                            0.014421   \n",
       "PC5                           0.012686                            0.004933   \n",
       "PC6                           0.005893                            0.064625   \n",
       "\n",
       "     ...  nb_weeks_weekly_study_objective_reached_80pct  \\\n",
       "PC1  ...                                       0.124556   \n",
       "PC2  ...                                       0.309994   \n",
       "PC3  ...                                      -0.038576   \n",
       "PC4  ...                                      -0.053972   \n",
       "PC5  ...                                      -0.000584   \n",
       "PC6  ...                                      -0.009708   \n",
       "\n",
       "     nb_weeks_weekly_study_objective_reached_75pct  \\\n",
       "PC1                                       0.124960   \n",
       "PC2                                       0.305893   \n",
       "PC3                                      -0.037714   \n",
       "PC4                                      -0.051355   \n",
       "PC5                                      -0.000301   \n",
       "PC6                                      -0.008219   \n",
       "\n",
       "     nb_weeks_weekly_study_objective_reached_70pct  \\\n",
       "PC1                                       0.125143   \n",
       "PC2                                       0.300151   \n",
       "PC3                                      -0.036979   \n",
       "PC4                                      -0.047792   \n",
       "PC5                                       0.000041   \n",
       "PC6                                      -0.006514   \n",
       "\n",
       "     nb_weeks_weekly_study_objective_not_reached  nb_weeks_no_activity  \\\n",
       "PC1                                     0.096558              0.017135   \n",
       "PC2                                     0.033900              0.009574   \n",
       "PC3                                    -0.021818             -0.007792   \n",
       "PC4                                     0.081472              0.001146   \n",
       "PC5                                     0.023312              0.006522   \n",
       "PC6                                     0.060201              0.015828   \n",
       "\n",
       "     nb_weeks_no_weekly_study_objective  pct_study_objective_reached  \\\n",
       "PC1                           -0.004208                     0.089261   \n",
       "PC2                            0.012058                     0.210167   \n",
       "PC3                            0.092365                    -0.025102   \n",
       "PC4                            0.133412                    -0.050539   \n",
       "PC5                            0.019306                    -0.008350   \n",
       "PC6                           -0.188849                     0.006282   \n",
       "\n",
       "     pct_study_objective_not_reached  pct_study_objective_no_activity  \\\n",
       "PC1                         0.075793                         0.014699   \n",
       "PC2                        -0.048970                         0.004089   \n",
       "PC3                        -0.109213                        -0.007508   \n",
       "PC4                        -0.034476                        -0.001302   \n",
       "PC5                         0.023635                         0.005007   \n",
       "PC6                         0.300840                         0.016464   \n",
       "\n",
       "     pct_no_objective_weeks  \n",
       "PC1               -0.085941  \n",
       "PC2                0.027051  \n",
       "PC3                0.111340  \n",
       "PC4                0.039099  \n",
       "PC5               -0.022552  \n",
       "PC6               -0.301232  \n",
       "\n",
       "[6 rows x 117 columns]"
      ]
     },
     "execution_count": 23,
     "metadata": {},
     "output_type": "execute_result"
    }
   ],
   "source": [
    "# coefficients of the principal components \n",
    "print(\"Composantes principales (coefficients) :\")\n",
    "table_coef=pd.DataFrame(pca.components_, columns=data.select_dtypes(exclude='category').columns)\n",
    "table_coef.index=[\"PC{}\".format(i+1) for i in np.arange(0,6)]\n",
    "table_coef"
   ]
  },
  {
   "cell_type": "code",
   "execution_count": 24,
   "metadata": {},
   "outputs": [
    {
     "data": {
      "text/html": [
       "<div>\n",
       "<style scoped>\n",
       "    .dataframe tbody tr th:only-of-type {\n",
       "        vertical-align: middle;\n",
       "    }\n",
       "\n",
       "    .dataframe tbody tr th {\n",
       "        vertical-align: top;\n",
       "    }\n",
       "\n",
       "    .dataframe thead th {\n",
       "        text-align: right;\n",
       "    }\n",
       "</style>\n",
       "<table border=\"1\" class=\"dataframe\">\n",
       "  <thead>\n",
       "    <tr style=\"text-align: right;\">\n",
       "      <th></th>\n",
       "      <th>PC1</th>\n",
       "      <th>PC2</th>\n",
       "      <th>PC3</th>\n",
       "      <th>PC4</th>\n",
       "      <th>PC5</th>\n",
       "      <th>PC6</th>\n",
       "    </tr>\n",
       "  </thead>\n",
       "  <tbody>\n",
       "    <tr>\n",
       "      <th>days_between_signup_and_first_activity</th>\n",
       "      <td>1.329430e-01</td>\n",
       "      <td>1.368918e-03</td>\n",
       "      <td>2.335643e-03</td>\n",
       "      <td>1.673759e-03</td>\n",
       "      <td>9.048918e-02</td>\n",
       "      <td>2.738366e-01</td>\n",
       "    </tr>\n",
       "    <tr>\n",
       "      <th>days_between_order_and_first_activity</th>\n",
       "      <td>1.732939e-01</td>\n",
       "      <td>2.796750e-03</td>\n",
       "      <td>1.147270e-02</td>\n",
       "      <td>6.432332e-03</td>\n",
       "      <td>2.409466e-02</td>\n",
       "      <td>2.419320e-01</td>\n",
       "    </tr>\n",
       "    <tr>\n",
       "      <th>days_between_first_and_last_activities</th>\n",
       "      <td>5.648254e-04</td>\n",
       "      <td>7.329077e-05</td>\n",
       "      <td>1.648967e-02</td>\n",
       "      <td>1.205164e-01</td>\n",
       "      <td>1.707412e+00</td>\n",
       "      <td>3.283896e-03</td>\n",
       "    </tr>\n",
       "    <tr>\n",
       "      <th>chapter_before_success_count</th>\n",
       "      <td>2.349471e-32</td>\n",
       "      <td>6.485421e-32</td>\n",
       "      <td>1.464237e-32</td>\n",
       "      <td>3.537590e-32</td>\n",
       "      <td>3.005746e-32</td>\n",
       "      <td>2.531291e-32</td>\n",
       "    </tr>\n",
       "    <tr>\n",
       "      <th>serie_before_success_count</th>\n",
       "      <td>4.218814e-01</td>\n",
       "      <td>8.740119e-02</td>\n",
       "      <td>5.562899e-02</td>\n",
       "      <td>3.401181e-01</td>\n",
       "      <td>7.601261e-05</td>\n",
       "      <td>9.520390e-03</td>\n",
       "    </tr>\n",
       "  </tbody>\n",
       "</table>\n",
       "</div>"
      ],
      "text/plain": [
       "                                                 PC1           PC2  \\\n",
       "days_between_signup_and_first_activity  1.329430e-01  1.368918e-03   \n",
       "days_between_order_and_first_activity   1.732939e-01  2.796750e-03   \n",
       "days_between_first_and_last_activities  5.648254e-04  7.329077e-05   \n",
       "chapter_before_success_count            2.349471e-32  6.485421e-32   \n",
       "serie_before_success_count              4.218814e-01  8.740119e-02   \n",
       "\n",
       "                                                 PC3           PC4  \\\n",
       "days_between_signup_and_first_activity  2.335643e-03  1.673759e-03   \n",
       "days_between_order_and_first_activity   1.147270e-02  6.432332e-03   \n",
       "days_between_first_and_last_activities  1.648967e-02  1.205164e-01   \n",
       "chapter_before_success_count            1.464237e-32  3.537590e-32   \n",
       "serie_before_success_count              5.562899e-02  3.401181e-01   \n",
       "\n",
       "                                                 PC5           PC6  \n",
       "days_between_signup_and_first_activity  9.048918e-02  2.738366e-01  \n",
       "days_between_order_and_first_activity   2.409466e-02  2.419320e-01  \n",
       "days_between_first_and_last_activities  1.707412e+00  3.283896e-03  \n",
       "chapter_before_success_count            3.005746e-32  2.531291e-32  \n",
       "serie_before_success_count              7.601261e-05  9.520390e-03  "
      ]
     },
     "execution_count": 24,
     "metadata": {},
     "output_type": "execute_result"
    }
   ],
   "source": [
    "# contributions of the principal components\n",
    "loadings=pca.components_.T\n",
    "eigenvalues=pca.explained_variance_\n",
    "contributions=(loadings**2)*eigenvalues\n",
    "contrib_percent=contributions/(eigenvalues.sum())*100\n",
    "contrib_df=pd.DataFrame(contrib_percent, columns=[\"PC{}\".format(i+1) for i in np.arange(0,6)])\n",
    "contrib_df.index=data.columns\n",
    "contrib_df.head()"
   ]
  },
  {
   "cell_type": "markdown",
   "metadata": {},
   "source": [
    "<br/>\n",
    "<p style=\"font-family: 'Georgia', serif; text-align: center;font-size: 23px\">\n",
    "c)- Interprétaion des axes principaux\n",
    "</p>\n",
    "<br/>"
   ]
  },
  {
   "cell_type": "markdown",
   "metadata": {},
   "source": [
    "Seront considérées comme variables les plus contributrices à la formation d'un axe principale, les variables dont la contribution est supérieur à la contribution moyenne, c'est-à-dire: $$ 100/117 \\approx 0.855 $$  "
   ]
  },
  {
   "cell_type": "code",
   "execution_count": 25,
   "metadata": {},
   "outputs": [
    {
     "data": {
      "text/html": [
       "<div>\n",
       "<style scoped>\n",
       "    .dataframe tbody tr th:only-of-type {\n",
       "        vertical-align: middle;\n",
       "    }\n",
       "\n",
       "    .dataframe tbody tr th {\n",
       "        vertical-align: top;\n",
       "    }\n",
       "\n",
       "    .dataframe thead th {\n",
       "        text-align: right;\n",
       "    }\n",
       "</style>\n",
       "<table border=\"1\" class=\"dataframe\">\n",
       "  <thead>\n",
       "    <tr style=\"text-align: right;\">\n",
       "      <th></th>\n",
       "      <th>contribution</th>\n",
       "      <th>coefficient</th>\n",
       "    </tr>\n",
       "  </thead>\n",
       "  <tbody>\n",
       "    <tr>\n",
       "      <th>notions_diverses_number_of_activities</th>\n",
       "      <td>1.344225</td>\n",
       "      <td>0.209943</td>\n",
       "    </tr>\n",
       "    <tr>\n",
       "      <th>mecanique_equipements_number_of_activities</th>\n",
       "      <td>1.304631</td>\n",
       "      <td>0.206828</td>\n",
       "    </tr>\n",
       "    <tr>\n",
       "      <th>prendre_quitter_vehicule_number_of_activities</th>\n",
       "      <td>1.288815</td>\n",
       "      <td>0.205570</td>\n",
       "    </tr>\n",
       "    <tr>\n",
       "      <th>autres_usagers_number_of_activities</th>\n",
       "      <td>1.288610</td>\n",
       "      <td>0.205554</td>\n",
       "    </tr>\n",
       "    <tr>\n",
       "      <th>route_number_of_activities</th>\n",
       "      <td>1.269300</td>\n",
       "      <td>0.204008</td>\n",
       "    </tr>\n",
       "    <tr>\n",
       "      <th>securite_number_of_activities</th>\n",
       "      <td>1.264361</td>\n",
       "      <td>0.203611</td>\n",
       "    </tr>\n",
       "    <tr>\n",
       "      <th>premiers_secours_number_of_activities</th>\n",
       "      <td>1.257594</td>\n",
       "      <td>0.203065</td>\n",
       "    </tr>\n",
       "    <tr>\n",
       "      <th>environnement_number_of_activities</th>\n",
       "      <td>1.214696</td>\n",
       "      <td>0.199572</td>\n",
       "    </tr>\n",
       "    <tr>\n",
       "      <th>conducteur_number_of_activities</th>\n",
       "      <td>1.154733</td>\n",
       "      <td>0.194584</td>\n",
       "    </tr>\n",
       "    <tr>\n",
       "      <th>score_pct__quantile__q_0_4</th>\n",
       "      <td>0.999702</td>\n",
       "      <td>0.181051</td>\n",
       "    </tr>\n",
       "    <tr>\n",
       "      <th>score_pct__quantile__q_0_3</th>\n",
       "      <td>0.997561</td>\n",
       "      <td>0.180857</td>\n",
       "    </tr>\n",
       "    <tr>\n",
       "      <th>score_pct__c3__lag_1</th>\n",
       "      <td>0.991590</td>\n",
       "      <td>0.180315</td>\n",
       "    </tr>\n",
       "    <tr>\n",
       "      <th>score_pct__c3__lag_2</th>\n",
       "      <td>0.984116</td>\n",
       "      <td>0.179634</td>\n",
       "    </tr>\n",
       "    <tr>\n",
       "      <th>score_pct__c3__lag_3</th>\n",
       "      <td>0.973875</td>\n",
       "      <td>0.178697</td>\n",
       "    </tr>\n",
       "    <tr>\n",
       "      <th>score_pct__quantile__q_0_2</th>\n",
       "      <td>0.959321</td>\n",
       "      <td>0.177357</td>\n",
       "    </tr>\n",
       "    <tr>\n",
       "      <th>score_pct__quantile__q_0_1</th>\n",
       "      <td>0.857336</td>\n",
       "      <td>0.167664</td>\n",
       "    </tr>\n",
       "  </tbody>\n",
       "</table>\n",
       "</div>"
      ],
      "text/plain": [
       "                                               contribution  coefficient\n",
       "notions_diverses_number_of_activities              1.344225     0.209943\n",
       "mecanique_equipements_number_of_activities         1.304631     0.206828\n",
       "prendre_quitter_vehicule_number_of_activities      1.288815     0.205570\n",
       "autres_usagers_number_of_activities                1.288610     0.205554\n",
       "route_number_of_activities                         1.269300     0.204008\n",
       "securite_number_of_activities                      1.264361     0.203611\n",
       "premiers_secours_number_of_activities              1.257594     0.203065\n",
       "environnement_number_of_activities                 1.214696     0.199572\n",
       "conducteur_number_of_activities                    1.154733     0.194584\n",
       "score_pct__quantile__q_0_4                         0.999702     0.181051\n",
       "score_pct__quantile__q_0_3                         0.997561     0.180857\n",
       "score_pct__c3__lag_1                               0.991590     0.180315\n",
       "score_pct__c3__lag_2                               0.984116     0.179634\n",
       "score_pct__c3__lag_3                               0.973875     0.178697\n",
       "score_pct__quantile__q_0_2                         0.959321     0.177357\n",
       "score_pct__quantile__q_0_1                         0.857336     0.167664"
      ]
     },
     "execution_count": 25,
     "metadata": {},
     "output_type": "execute_result"
    }
   ],
   "source": [
    "contrib1=pd.DataFrame(data=contrib_df[\"PC1\"].sort_values(ascending=False)[:16].values, columns=[\"contribution\"]) \n",
    "contrib1.index=contrib_df[\"PC1\"].sort_values(ascending=False)[:16].index\n",
    "contrib1[\"coefficient\"]=table_coef[contrib1.index].iloc[0]\n",
    "contrib1"
   ]
  },
  {
   "cell_type": "markdown",
   "metadata": {},
   "source": [
    "Les variables qui contribuent le plus à la construction de la première composante principale sont des variables qui renseigne sur le nombre d'activité effectuer par thématique pour le permis de conduire (*notions_diverses_number_of_activities*, *mecanique_equipements_number_of_activities*,*securite_number_of_activities*, *route_number_of_activities*, *prendre_quitter_vehicule_number_of_activities*, *autres_usagers_number_of_activities*,etc.) et les statistiques qui résultent des scores en pourcentage obtenus aux différents examens notamment les quantiles d'ordre 1, 2, 3 et 4 (*score_pct__quantile__q_0_1*, *score_pct__quantile__q_0_2*, *score_pct__quantile__q_0_3*, *score_pct__quantile__q_0_4*), et .... Cet axe résume le signal et/ou la corrélation qui existe entre le nombre d'activités effectués par thématique et la distribution du score au différents examens. On pourrait donc dire qu'il traduit l'**efficacité** des étudiants.\n",
    "\n",
    "De plus, en analysant les coefficients de ces variables, ont constate qu'elles sont toutes positifs. Ainsi, un individu ayant un coefficient élevé sur cet axe, fait beaucoup d'activité sur les différentes thématiques d'apprentissage et a des scores élevés aux différents examens, ce qui signifie qu'il comprend bien ce qu'il fait."
   ]
  },
  {
   "cell_type": "code",
   "execution_count": 26,
   "metadata": {},
   "outputs": [
    {
     "data": {
      "text/html": [
       "<div>\n",
       "<style scoped>\n",
       "    .dataframe tbody tr th:only-of-type {\n",
       "        vertical-align: middle;\n",
       "    }\n",
       "\n",
       "    .dataframe tbody tr th {\n",
       "        vertical-align: top;\n",
       "    }\n",
       "\n",
       "    .dataframe thead th {\n",
       "        text-align: right;\n",
       "    }\n",
       "</style>\n",
       "<table border=\"1\" class=\"dataframe\">\n",
       "  <thead>\n",
       "    <tr style=\"text-align: right;\">\n",
       "      <th></th>\n",
       "      <th>contribution</th>\n",
       "      <th>coefficient</th>\n",
       "    </tr>\n",
       "  </thead>\n",
       "  <tbody>\n",
       "    <tr>\n",
       "      <th>nb_weeks_weekly_study_objective_reached_90pct</th>\n",
       "      <td>2.063731</td>\n",
       "      <td>0.313139</td>\n",
       "    </tr>\n",
       "    <tr>\n",
       "      <th>nb_weeks_weekly_study_objective_reached_85pct</th>\n",
       "      <td>2.052990</td>\n",
       "      <td>0.312323</td>\n",
       "    </tr>\n",
       "    <tr>\n",
       "      <th>nb_weeks_weekly_study_objective_reached_95pct</th>\n",
       "      <td>2.052586</td>\n",
       "      <td>0.312293</td>\n",
       "    </tr>\n",
       "    <tr>\n",
       "      <th>nb_weeks_weekly_study_objective_reached_99pct</th>\n",
       "      <td>2.034116</td>\n",
       "      <td>0.310884</td>\n",
       "    </tr>\n",
       "    <tr>\n",
       "      <th>nb_weeks_weekly_study_objective_reached</th>\n",
       "      <td>2.027262</td>\n",
       "      <td>0.310360</td>\n",
       "    </tr>\n",
       "    <tr>\n",
       "      <th>nb_weeks_weekly_study_objective_reached_80pct</th>\n",
       "      <td>2.022480</td>\n",
       "      <td>0.309994</td>\n",
       "    </tr>\n",
       "    <tr>\n",
       "      <th>nb_weeks_weekly_study_objective_reached_75pct</th>\n",
       "      <td>1.969327</td>\n",
       "      <td>0.305893</td>\n",
       "    </tr>\n",
       "    <tr>\n",
       "      <th>nb_weeks_weekly_study_objective_reached_70pct</th>\n",
       "      <td>1.896084</td>\n",
       "      <td>0.300151</td>\n",
       "    </tr>\n",
       "    <tr>\n",
       "      <th>pct_study_objective_reached</th>\n",
       "      <td>0.929620</td>\n",
       "      <td>0.210167</td>\n",
       "    </tr>\n",
       "  </tbody>\n",
       "</table>\n",
       "</div>"
      ],
      "text/plain": [
       "                                               contribution  coefficient\n",
       "nb_weeks_weekly_study_objective_reached_90pct      2.063731     0.313139\n",
       "nb_weeks_weekly_study_objective_reached_85pct      2.052990     0.312323\n",
       "nb_weeks_weekly_study_objective_reached_95pct      2.052586     0.312293\n",
       "nb_weeks_weekly_study_objective_reached_99pct      2.034116     0.310884\n",
       "nb_weeks_weekly_study_objective_reached            2.027262     0.310360\n",
       "nb_weeks_weekly_study_objective_reached_80pct      2.022480     0.309994\n",
       "nb_weeks_weekly_study_objective_reached_75pct      1.969327     0.305893\n",
       "nb_weeks_weekly_study_objective_reached_70pct      1.896084     0.300151\n",
       "pct_study_objective_reached                        0.929620     0.210167"
      ]
     },
     "execution_count": 26,
     "metadata": {},
     "output_type": "execute_result"
    }
   ],
   "source": [
    "contrib2=pd.DataFrame(data=contrib_df[\"PC2\"].sort_values(ascending=False)[:9].values, columns=[\"contribution\"]) \n",
    "contrib2.index=contrib_df[\"PC2\"].sort_values(ascending=False)[:9].index\n",
    "contrib2[\"coefficient\"]=table_coef[contrib2.index].iloc[1]\n",
    "contrib2"
   ]
  },
  {
   "cell_type": "markdown",
   "metadata": {},
   "source": [
    "Les variables qui contribuent fortement à la deuxième composante principale sont d'une part les variables qui renseignent sur le nombre de week-end où les objectifs d'étude hebdomadaire ont atteint un pourcentage donnée (90%,85%,95%,99%,75%,etc) et d'autre part les variables qui donnent le pourcentage d'objectifs d'études atteint le week-end (*nb_weeks_weekly_study_objective_reached*) et en dehors (*pct_study_objective_reached*). On pourrait dire que cet axe capture principalement l'information sur **l'intensité du travail personnel des étudiants**. \n",
    "\n",
    "De plus, le coefficient de toutes les variables qui contribuent le plus à la formation de l'axe 2 sont positifs. Donc, les individus qui ont un coefficient élevé et positif sur cet axe (se trouvant à une extrémité de l'axe) sont beaucoup investit personnellement dans la formation."
   ]
  },
  {
   "cell_type": "code",
   "execution_count": 27,
   "metadata": {},
   "outputs": [
    {
     "data": {
      "text/html": [
       "<div>\n",
       "<style scoped>\n",
       "    .dataframe tbody tr th:only-of-type {\n",
       "        vertical-align: middle;\n",
       "    }\n",
       "\n",
       "    .dataframe tbody tr th {\n",
       "        vertical-align: top;\n",
       "    }\n",
       "\n",
       "    .dataframe thead th {\n",
       "        text-align: right;\n",
       "    }\n",
       "</style>\n",
       "<table border=\"1\" class=\"dataframe\">\n",
       "  <thead>\n",
       "    <tr style=\"text-align: right;\">\n",
       "      <th></th>\n",
       "      <th>contribution</th>\n",
       "      <th>coefficient</th>\n",
       "    </tr>\n",
       "  </thead>\n",
       "  <tbody>\n",
       "    <tr>\n",
       "      <th>score_pct__quantile__q_0_2</th>\n",
       "      <td>1.265231</td>\n",
       "      <td>0.258006</td>\n",
       "    </tr>\n",
       "    <tr>\n",
       "      <th>score_pct__quantile__q_0_3</th>\n",
       "      <td>1.249015</td>\n",
       "      <td>0.256347</td>\n",
       "    </tr>\n",
       "    <tr>\n",
       "      <th>score_pct__quantile__q_0_1</th>\n",
       "      <td>1.215016</td>\n",
       "      <td>0.252834</td>\n",
       "    </tr>\n",
       "    <tr>\n",
       "      <th>score_pct__quantile__q_0_4</th>\n",
       "      <td>1.205133</td>\n",
       "      <td>0.251804</td>\n",
       "    </tr>\n",
       "    <tr>\n",
       "      <th>score_pct__linear_trend__attr_intercept</th>\n",
       "      <td>1.051538</td>\n",
       "      <td>0.235211</td>\n",
       "    </tr>\n",
       "    <tr>\n",
       "      <th>score_pct__c3__lag_1</th>\n",
       "      <td>1.035590</td>\n",
       "      <td>0.233420</td>\n",
       "    </tr>\n",
       "    <tr>\n",
       "      <th>score_pct__c3__lag_2</th>\n",
       "      <td>0.985957</td>\n",
       "      <td>0.227758</td>\n",
       "    </tr>\n",
       "    <tr>\n",
       "      <th>score_pct__c3__lag_3</th>\n",
       "      <td>0.931526</td>\n",
       "      <td>0.221382</td>\n",
       "    </tr>\n",
       "  </tbody>\n",
       "</table>\n",
       "</div>"
      ],
      "text/plain": [
       "                                         contribution  coefficient\n",
       "score_pct__quantile__q_0_2                   1.265231     0.258006\n",
       "score_pct__quantile__q_0_3                   1.249015     0.256347\n",
       "score_pct__quantile__q_0_1                   1.215016     0.252834\n",
       "score_pct__quantile__q_0_4                   1.205133     0.251804\n",
       "score_pct__linear_trend__attr_intercept      1.051538     0.235211\n",
       "score_pct__c3__lag_1                         1.035590     0.233420\n",
       "score_pct__c3__lag_2                         0.985957     0.227758\n",
       "score_pct__c3__lag_3                         0.931526     0.221382"
      ]
     },
     "execution_count": 27,
     "metadata": {},
     "output_type": "execute_result"
    }
   ],
   "source": [
    "contrib3=pd.DataFrame(data=contrib_df[\"PC3\"].sort_values(ascending=False)[:8].values, columns=[\"contribution\"]) #pas terminé\n",
    "contrib3.index=contrib_df[\"PC3\"].sort_values(ascending=False)[:8].index\n",
    "contrib3[\"coefficient\"]=table_coef[contrib3.index].iloc[2]\n",
    "contrib3 #pas terminé"
   ]
  },
  {
   "cell_type": "markdown",
   "metadata": {},
   "source": [
    "Les variables qui contribuent fortement à la 3e composante principale sont les variables qui caractérisent la distribution du score en pourcentage (notamment les quantiles et ...) aux différents examens renseignées pour chaque étudiant. On peut dire que cet axe capture l'information sur **la progression des étudiants en terme de résultats**. \n",
    "\n",
    "De plus, le fait que toutes ces variables ont un coefficient positif sur l'axe signifient qu'elles varient dans le même sens que l'axe. Donc un étudiant ayant un coefficient très faible (négatif) sur cet axe, obtient de mauvais résultats aux différents examens, ce qui traduit le fait qu'ils n'assimilent pas bien les connaissances."
   ]
  },
  {
   "cell_type": "code",
   "execution_count": 28,
   "metadata": {},
   "outputs": [
    {
     "data": {
      "text/html": [
       "<div>\n",
       "<style scoped>\n",
       "    .dataframe tbody tr th:only-of-type {\n",
       "        vertical-align: middle;\n",
       "    }\n",
       "\n",
       "    .dataframe tbody tr th {\n",
       "        vertical-align: top;\n",
       "    }\n",
       "\n",
       "    .dataframe thead th {\n",
       "        text-align: right;\n",
       "    }\n",
       "</style>\n",
       "<table border=\"1\" class=\"dataframe\">\n",
       "  <thead>\n",
       "    <tr style=\"text-align: right;\">\n",
       "      <th></th>\n",
       "      <th>contribution</th>\n",
       "      <th>coefficient</th>\n",
       "    </tr>\n",
       "  </thead>\n",
       "  <tbody>\n",
       "    <tr>\n",
       "      <th>score_pct__standard_deviation</th>\n",
       "      <td>1.236983</td>\n",
       "      <td>0.328253</td>\n",
       "    </tr>\n",
       "    <tr>\n",
       "      <th>score_pct__variation_coefficient</th>\n",
       "      <td>1.102432</td>\n",
       "      <td>0.309886</td>\n",
       "    </tr>\n",
       "    <tr>\n",
       "      <th>score_pct__minimum</th>\n",
       "      <td>1.070068</td>\n",
       "      <td>-0.305304</td>\n",
       "    </tr>\n",
       "    <tr>\n",
       "      <th>nb_failed_series</th>\n",
       "      <td>1.008303</td>\n",
       "      <td>0.296362</td>\n",
       "    </tr>\n",
       "    <tr>\n",
       "      <th>theory_activities_total</th>\n",
       "      <td>0.952472</td>\n",
       "      <td>0.288040</td>\n",
       "    </tr>\n",
       "    <tr>\n",
       "      <th>session_count</th>\n",
       "      <td>0.903266</td>\n",
       "      <td>0.280501</td>\n",
       "    </tr>\n",
       "  </tbody>\n",
       "</table>\n",
       "</div>"
      ],
      "text/plain": [
       "                                  contribution  coefficient\n",
       "score_pct__standard_deviation         1.236983     0.328253\n",
       "score_pct__variation_coefficient      1.102432     0.309886\n",
       "score_pct__minimum                    1.070068    -0.305304\n",
       "nb_failed_series                      1.008303     0.296362\n",
       "theory_activities_total               0.952472     0.288040\n",
       "session_count                         0.903266     0.280501"
      ]
     },
     "execution_count": 28,
     "metadata": {},
     "output_type": "execute_result"
    }
   ],
   "source": [
    "contrib4=pd.DataFrame(data=contrib_df[\"PC4\"].sort_values(ascending=False)[:6].values, columns=[\"contribution\"]) #pas terminé\n",
    "contrib4.index=contrib_df[\"PC4\"].sort_values(ascending=False)[:6].index\n",
    "contrib4[\"coefficient\"]=table_coef[contrib4.index].iloc[3]\n",
    "contrib4"
   ]
  },
  {
   "cell_type": "markdown",
   "metadata": {},
   "source": [
    "La mesure de la dispersion du score (*score_pct_standard_deviation*)  et la variation relative du score en pourcentage autour de la moyenne (*score_pct__variation_coefficient*)  contribuent majoritairement à la formation de la 4e composante principale. Aussi, le nombre d'examens échoués (*nb_failed_series*), le total d'activités théorique (*theory_activities_total*), le minimum du score en pourcentage (*score_pct_minimum*) , le nombre de session effectué (*session_count*), contribuent également fortement à la formation de cet axe. Cette composante semble donc être fortement influencé par des variables liées à **la performance académique, à la régularité aux examens**. \n",
    "\n",
    "De l'analyse des coefficients de ces variables, on observe que les variables qui donne le minimum du score en pourcentage et la dernière localisation du minimum du score ont des coefficients négatifs. On pourrait donc dire que les individus ayant un score élevé sur cette composante sont succeptibles d'avoir des performances très irrégulières (caractérisées par une dispersion élevée des scores), rencontrent régulièrement des échecs et mettent du temps à assimiler les compétences (nombre de series échoué élevé), ce qui impliquent qu'ils doivent faire plus d'activités, d'examen et de session (**theory_activities_total**,**session_count**)."
   ]
  },
  {
   "cell_type": "code",
   "execution_count": 30,
   "metadata": {},
   "outputs": [
    {
     "data": {
      "text/html": [
       "<div>\n",
       "<style scoped>\n",
       "    .dataframe tbody tr th:only-of-type {\n",
       "        vertical-align: middle;\n",
       "    }\n",
       "\n",
       "    .dataframe tbody tr th {\n",
       "        vertical-align: top;\n",
       "    }\n",
       "\n",
       "    .dataframe thead th {\n",
       "        text-align: right;\n",
       "    }\n",
       "</style>\n",
       "<table border=\"1\" class=\"dataframe\">\n",
       "  <thead>\n",
       "    <tr style=\"text-align: right;\">\n",
       "      <th></th>\n",
       "      <th>contribution</th>\n",
       "      <th>coefficient</th>\n",
       "    </tr>\n",
       "  </thead>\n",
       "  <tbody>\n",
       "    <tr>\n",
       "      <th>minutes_between_sessions_max</th>\n",
       "      <td>1.856332</td>\n",
       "      <td>0.436246</td>\n",
       "    </tr>\n",
       "    <tr>\n",
       "      <th>days_between_first_and_last_activities</th>\n",
       "      <td>1.707412</td>\n",
       "      <td>0.418382</td>\n",
       "    </tr>\n",
       "    <tr>\n",
       "      <th>minutes_between_sessions_avg</th>\n",
       "      <td>1.444263</td>\n",
       "      <td>0.384793</td>\n",
       "    </tr>\n",
       "    <tr>\n",
       "      <th>minutes_between_sessions_std</th>\n",
       "      <td>1.346260</td>\n",
       "      <td>0.371508</td>\n",
       "    </tr>\n",
       "  </tbody>\n",
       "</table>\n",
       "</div>"
      ],
      "text/plain": [
       "                                        contribution  coefficient\n",
       "minutes_between_sessions_max                1.856332     0.436246\n",
       "days_between_first_and_last_activities      1.707412     0.418382\n",
       "minutes_between_sessions_avg                1.444263     0.384793\n",
       "minutes_between_sessions_std                1.346260     0.371508"
      ]
     },
     "execution_count": 30,
     "metadata": {},
     "output_type": "execute_result"
    }
   ],
   "source": [
    "contrib5=pd.DataFrame(data=contrib_df[\"PC5\"].sort_values(ascending=False)[:4].values, columns=[\"contribution\"]) #pas terminé\n",
    "contrib5.index=contrib_df[\"PC5\"].sort_values(ascending=False)[:4].index\n",
    "contrib5[\"coefficient\"]=table_coef[contrib5.index].iloc[4]\n",
    "contrib5"
   ]
  },
  {
   "cell_type": "markdown",
   "metadata": {},
   "source": [
    "Le maximum (*minutes_between_sessions_max*), la moyenne (*minutes_between_sessions_avg*), l'écart type (*minutes_between_sessions_std*) qui mesurent **la régularité et la concentration des sessions d'apprentissage** contribuent fortement à la formation de la cinquième composante principale. Egalement, le nombre de jour entre la première activité et la dernière activité (*days_between_first_and_last_activities*) qui mesure **l'engagement totale de l'étudiant dans la formation**, contribue fortement à la formation de cet axe.\n",
    "\n",
    "Les coefficients de ces variables sont tous positifs, ce qui signifie que la composante varie dans le même sens que ces variables. Donc, les individus ayant un coefficient positif élevé sur cet axe (se situant à une extrémité de l'axe) ont une formation étalée sur une longue période, des sessions d'apprentissage très irrégulières, avec de longues périodes d'inactivité entre chaque session (un écart type élevé suggère des sessions très espacées dans le temps, et une médiane élevée indique des sessions moins fréquentes)."
   ]
  },
  {
   "cell_type": "code",
   "execution_count": 32,
   "metadata": {},
   "outputs": [
    {
     "data": {
      "text/html": [
       "<div>\n",
       "<style scoped>\n",
       "    .dataframe tbody tr th:only-of-type {\n",
       "        vertical-align: middle;\n",
       "    }\n",
       "\n",
       "    .dataframe tbody tr th {\n",
       "        vertical-align: top;\n",
       "    }\n",
       "\n",
       "    .dataframe thead th {\n",
       "        text-align: right;\n",
       "    }\n",
       "</style>\n",
       "<table border=\"1\" class=\"dataframe\">\n",
       "  <thead>\n",
       "    <tr style=\"text-align: right;\">\n",
       "      <th></th>\n",
       "      <th>contribution</th>\n",
       "      <th>coefficient</th>\n",
       "    </tr>\n",
       "  </thead>\n",
       "  <tbody>\n",
       "    <tr>\n",
       "      <th>n_activity_per_session_avg</th>\n",
       "      <td>0.815348</td>\n",
       "      <td>0.315051</td>\n",
       "    </tr>\n",
       "    <tr>\n",
       "      <th>percentage_serie_theme</th>\n",
       "      <td>0.775284</td>\n",
       "      <td>0.307213</td>\n",
       "    </tr>\n",
       "    <tr>\n",
       "      <th>pct_no_objective_weeks</th>\n",
       "      <td>0.745391</td>\n",
       "      <td>-0.301232</td>\n",
       "    </tr>\n",
       "    <tr>\n",
       "      <th>pct_study_objective_not_reached</th>\n",
       "      <td>0.743449</td>\n",
       "      <td>0.300840</td>\n",
       "    </tr>\n",
       "  </tbody>\n",
       "</table>\n",
       "</div>"
      ],
      "text/plain": [
       "                                 contribution  coefficient\n",
       "n_activity_per_session_avg           0.815348     0.315051\n",
       "percentage_serie_theme               0.775284     0.307213\n",
       "pct_no_objective_weeks               0.745391    -0.301232\n",
       "pct_study_objective_not_reached      0.743449     0.300840"
      ]
     },
     "execution_count": 32,
     "metadata": {},
     "output_type": "execute_result"
    }
   ],
   "source": [
    "# interpretation à revoir\n",
    "contrib6=pd.DataFrame(data=contrib_df[\"PC6\"].sort_values(ascending=False)[:4].values, columns=[\"contribution\"]) #pas terminé\n",
    "contrib6.index=contrib_df[\"PC6\"].sort_values(ascending=False)[:4].index\n",
    "contrib6[\"coefficient\"]=table_coef[contrib6.index].iloc[5]\n",
    "contrib6"
   ]
  },
  {
   "cell_type": "markdown",
   "metadata": {},
   "source": [
    "Sur la base du critère que l'on s'est fixé, on constate qu'aucune variable ne contribuent fortement à la formation de cet axe. Néamoins, si l'on considère les 4 premières variables, c'est-à-dire le nombre d'activité par session en moyenne (*n_activity_per_session_avg*), le pourcentage de series par thème (*percentage_serie_theme*), le pourcentage de week-end où l'étudiant n'avais aucun objectif d'étude (*pct_no_objective_weeks*), le pourcentage d'objectifs d'étude non atteint (*pct_study_objective_not_reached*), on peut dire que cet axe mesure **l'engagement des étudiants**.\n",
    "\n",
    "En analysant le coefficient de ces variables, ont constate que la variable *pct_no_objective_weeks* a un coefficient négatif. Donc les individus ayant des coefficients élevés positives sur cet axe font en moyenne un nombre élevé d'activité par session, se fixent des objectifs d'étude le week-end régulièrement mais atteignent rarement leur objectifs."
   ]
  },
  {
   "cell_type": "markdown",
   "metadata": {},
   "source": [
    "<br/>\n",
    "<p style=\"font-family: 'Georgia', serif; text-align: center;font-size: 23px\">\n",
    "d)- Graphique des individus\n",
    "</p>\n",
    "<br/>"
   ]
  },
  {
   "cell_type": "markdown",
   "metadata": {},
   "source": [
    "Nous allons représenter les 20 premiers individus de la base sur les différents axes factorielles afin de voir concrètement ce qu'ils traduisent."
   ]
  },
  {
   "cell_type": "code",
   "execution_count": 33,
   "metadata": {},
   "outputs": [],
   "source": [
    "X_pca=X_pca[1:20,:]"
   ]
  },
  {
   "cell_type": "code",
   "execution_count": 34,
   "metadata": {},
   "outputs": [
    {
     "data": {
      "image/png": "[encoded data removed]",
      "text/plain": [
       "<Figure size 1200x400 with 2 Axes>"
      ]
     },
     "metadata": {},
     "output_type": "display_data"
    }
   ],
   "source": [
    "plt.figure(figsize=(12, 4))\n",
    "plt.subplot(1, 2, 1)\n",
    "#plt.figure(figsize=(8, 6))\n",
    "plt.scatter(X_pca[:, 0], X_pca[:, 1])\n",
    "labels = data.iloc[1:20,:].index # Utiliser les indices du DataFrame comme étiquettes\n",
    "for i, label in enumerate(labels):\n",
    "    plt.annotate(label, (X_pca[i, 0], X_pca[i, 1]))\n",
    "plt.xlabel(\"First principal component\")\n",
    "plt.ylabel(\"Second principal component\")\n",
    "plt.title(\"Graph of individuals\")\n",
    "plt.grid(True)\n",
    "\n",
    "plt.subplot(1, 2, 2)\n",
    "plt.scatter(X_pca[:, 2], X_pca[:, 3])\n",
    "labels = data.iloc[1:20,:].index # Utiliser les indices du DataFrame comme étiquettes \n",
    "for i, label in enumerate(labels):\n",
    "    plt.annotate(label, (X_pca[i, 2], X_pca[i, 3]))\n",
    "plt.xlabel(\"third principal component\")\n",
    "plt.ylabel(\"fourth principal component\")\n",
    "plt.title(\"Graph of individuals\")\n",
    "plt.grid(True)\n"
   ]
  },
  {
   "cell_type": "code",
   "execution_count": 35,
   "metadata": {},
   "outputs": [
    {
     "data": {
      "image/png": "[encoded data removed]",
      "text/plain": [
       "<Figure size 1200x400 with 1 Axes>"
      ]
     },
     "metadata": {},
     "output_type": "display_data"
    }
   ],
   "source": [
    "plt.figure(figsize=(12, 4))\n",
    "plt.scatter(X_pca[:, 4], X_pca[:, 5])\n",
    "labels = data.iloc[1:20,:].index # Utiliser les indices du DataFrame comme étiquettes \n",
    "for i, label in enumerate(labels):\n",
    "    plt.annotate(label, (X_pca[i, 4], X_pca[i, 5]))\n",
    "plt.xlabel(\"Fifth principal component\")\n",
    "plt.ylabel(\"Sixth principal component\")\n",
    "plt.title(\"Graph of individuals\")\n",
    "plt.grid(True)"
   ]
  },
  {
   "cell_type": "markdown",
   "metadata": {},
   "source": [
    "Considérons l'individu numéro 17. Il a un coefficient élevé sur les deux premiers axes factoriels, ce qui signifie qu'il fait un grand nombre d'activités par thématique d'apprentissage et à de bons scores aux différentes session d'évaluation. De plus il a un coefficient négatif relativement faible sur le reste des axes factoriels, ce qui signifie qu'il a des scores peu dispersé autour de la moyenne, il a de bonne performance académique et est plus ou moins régulier aux sessions d'apprentissage. En bref, c'est un bon élève.\n",
    "\n",
    "Par contre, l'individu numéro 15 a un coefficient négatif sur le premier axe factoriel, proche de 0 sur le deuxième axe factoriel et négatif sur le troisième axe factoriel ce qui signifie qu'il ne fait relativement peu d'activités par thématique d'apprentissage et n'a pas de bonnes performances académique. De plus, il a un coefficient négatif sur le cinquième axe factoriel et proche de 0 sur le quatrième et sixième axe factoriel, ce qui traduit le fait qu'il est moin régulier aux examens et ses sessions d'apprentissage sont moins concentrées."
   ]
  },
  {
   "cell_type": "markdown",
   "metadata": {},
   "source": [
    "<br/>\n",
    "<p style=\"font-family: 'Georgia', serif; text-align: center;font-size: 25px\">\n",
    "<u>\n",
    "2- Analyse Factorielle des Composantes Mixtes (FAMD) </u>\n",
    "</p>\n",
    "<br/>"
   ]
  },
  {
   "cell_type": "code",
   "execution_count": 8,
   "metadata": {},
   "outputs": [
    {
     "name": "stdout",
     "output_type": "stream",
     "text": [
      "<class 'pandas.core.frame.DataFrame'>\n",
      "Index: 1000 entries, 119737 to 37920\n",
      "Columns: 372 entries, unique_learner_id to pct_no_objective_weeks\n",
      "dtypes: float64(71), int64(301)\n",
      "memory usage: 2.8 MB\n"
     ]
    }
   ],
   "source": [
    "import pandas as pd\n",
    "import matplotlib.pyplot as plt\n",
    "df= pd.read_parquet(\"data_Edu.parquet\")\n",
    "df_sample=df.sample(n=1000, random_state=42)\n",
    "df_sample.info()\n"
   ]
  },
  {
   "cell_type": "code",
   "execution_count": 9,
   "metadata": {},
   "outputs": [
    {
     "name": "stderr",
     "output_type": "stream",
     "text": [
      "C:\\Users\\damso\\AppData\\Roaming\\Python\\Python312\\site-packages\\rpy2\\robjects\\pandas2ri.py:65: UserWarning: Error while trying to convert the column \"unique_learner_id\". Fall back to string conversion. The error is: integer -5875158997658804378 does not fit 'int'\n",
      "  warnings.warn('Error while trying to convert '\n"
     ]
    },
    {
     "name": "stdout",
     "output_type": "stream",
     "text": [
      "\n",
      "Call:\n",
      "FAMD(base = data, ncp = 10, graph = FALSE) \n",
      "\n",
      "\n",
      "Eigenvalues\n",
      "                      Dim.1  Dim.2  Dim.3  Dim.4  Dim.5  Dim.6  Dim.7  Dim.8\n",
      "Variance             90.295 11.598  8.886  8.203  5.524  5.081  4.990  4.497\n",
      "% of var.             7.088  0.910  0.698  0.644  0.434  0.399  0.392  0.353\n",
      "Cumulative % of var.  7.088  7.998  8.695  9.339  9.773 10.172 10.563 10.916\n",
      "                      Dim.9 Dim.10\n",
      "Variance              4.264  4.161\n",
      "% of var.             0.335  0.327\n",
      "Cumulative % of var. 11.251 11.578\n",
      "\n",
      "Individuals (the 10 first)\n",
      "                                            Dist     Dim.1     ctr    cos2  \n",
      "0                                      |  40.694 | -12.141   0.163   0.089 |\n",
      "1                                      |  36.188 |  -3.602   0.014   0.010 |\n",
      "2                                      |  32.539 |   5.118   0.029   0.025 |\n",
      "3                                      |  34.746 |   4.484   0.022   0.017 |\n",
      "4                                      |  33.264 |   4.799   0.026   0.021 |\n",
      "5                                      |  34.367 |   4.180   0.019   0.015 |\n",
      "6                                      |  34.459 |   5.680   0.036   0.027 |\n",
      "7                                      |  34.940 |   1.910   0.004   0.003 |\n",
      "8                                      |  37.538 |  -4.242   0.020   0.013 |\n",
      "9                                      |  32.609 |   5.106   0.029   0.025 |\n",
      "                                         Dim.2     ctr    cos2     Dim.3\n",
      "0                                        0.604   0.003   0.000 |  -0.289\n",
      "1                                       -1.442   0.018   0.002 |  -1.601\n",
      "2                                        1.301   0.015   0.002 |   1.230\n",
      "3                                        3.346   0.097   0.009 |   3.190\n",
      "4                                        5.714   0.282   0.030 |  -1.862\n",
      "5                                        9.587   0.792   0.078 |  -0.377\n",
      "6                                       -4.316   0.161   0.016 |  -1.281\n",
      "7                                       -2.620   0.059   0.006 |  -0.938\n",
      "8                                        7.325   0.463   0.038 |  -0.964\n",
      "9                                       -0.814   0.006   0.001 |   0.832\n",
      "                                           ctr    cos2  \n",
      "0                                        0.001   0.000 |\n",
      "1                                        0.029   0.002 |\n",
      "2                                        0.017   0.001 |\n",
      "3                                        0.115   0.008 |\n",
      "4                                        0.039   0.003 |\n",
      "5                                        0.002   0.000 |\n",
      "6                                        0.018   0.001 |\n",
      "7                                        0.010   0.001 |\n",
      "8                                        0.010   0.001 |\n",
      "9                                        0.008   0.001 |\n",
      "\n",
      "Continuous variables (the 10 first)\n",
      "                                          Dim.1    ctr   cos2    Dim.2    ctr\n",
      "days_between_signup_and_first_activity | -0.245  0.066  0.060 |  0.111  0.106\n",
      "days_between_order_and_first_activity  | -0.246  0.067  0.060 |  0.173  0.259\n",
      "days_between_first_and_last_activities | -0.009  0.000  0.000 |  0.044  0.017\n",
      "chapter_before_success_count           |  0.000  0.000    Inf |  0.000  0.000\n",
      "serie_before_success_count             | -0.220  0.054  0.048 |  0.334  0.964\n",
      "quiz_before_success_count              | -0.199  0.044  0.040 |  0.308  0.820\n",
      "theory_activities_total                | -0.470  0.245  0.221 |  0.323  0.900\n",
      "is_first_exam_success                  |  0.167  0.031  0.028 | -0.352  1.071\n",
      "percentage_activities_2_3_4h_week      | -0.059  0.004  0.004 |  0.012  0.001\n",
      "percentage_activities_5_6_7h_week      | -0.061  0.004  0.004 |  0.020  0.003\n",
      "                                         cos2    Dim.3    ctr   cos2  \n",
      "days_between_signup_and_first_activity  0.012 |  0.027  0.008  0.001 |\n",
      "days_between_order_and_first_activity   0.030 |  0.000  0.000  0.000 |\n",
      "days_between_first_and_last_activities  0.002 |  0.018  0.004  0.000 |\n",
      "chapter_before_success_count              Inf |  0.000  0.000    Inf |\n",
      "serie_before_success_count              0.112 |  0.335  1.263  0.112 |\n",
      "quiz_before_success_count               0.095 | -0.029  0.010  0.001 |\n",
      "theory_activities_total                 0.104 |  0.170  0.324  0.029 |\n",
      "is_first_exam_success                   0.124 | -0.324  1.181  0.105 |\n",
      "percentage_activities_2_3_4h_week       0.000 |  0.075  0.064  0.006 |\n",
      "percentage_activities_5_6_7h_week       0.000 |  0.010  0.001  0.000 |\n",
      "\n",
      "Categories (the 10 first)\n",
      "                                           Dim.1     ctr    cos2  v.test  \n",
      "-1009099527612972675                   |   5.362   0.000   0.024   0.564 |\n",
      "-10323156494925315                     |  -2.629   0.000   0.005  -0.277 |\n",
      "-1036397182069928513                   |   6.475   0.001   0.019   0.681 |\n",
      "-1044924070068969629                   |   5.084   0.000   0.023   0.535 |\n",
      "-1056985342985315316                   |   5.732   0.000   0.026   0.603 |\n",
      "-1093369365641549066                   | -12.428   0.002   0.091  -1.308 |\n",
      "-1098865084807630514                   |  -5.249   0.000   0.020  -0.552 |\n",
      "-1129564215521063027                   |   5.656   0.000   0.027   0.595 |\n",
      "-1136112586635732693                   |   5.822   0.000   0.027   0.613 |\n",
      "-1145054973154029841                   | -27.198   0.009   0.359  -2.862 |\n",
      "                                         Dim.2     ctr    cos2  v.test  \n",
      "-1009099527612972675                    -0.645   0.000   0.000  -0.189 |\n",
      "-10323156494925315                       4.173   0.013   0.012   1.225 |\n",
      "-1036397182069928513                    -4.740   0.017   0.010  -1.392 |\n",
      "-1044924070068969629                     1.172   0.001   0.001   0.344 |\n",
      "-1056985342985315316                    -3.898   0.011   0.012  -1.145 |\n",
      "-1093369365641549066                    -0.263   0.000   0.000  -0.077 |\n",
      "-1098865084807630514                    -0.060   0.000   0.000  -0.018 |\n",
      "-1129564215521063027                    -2.560   0.005   0.006  -0.752 |\n",
      "-1136112586635732693                    -1.484   0.002   0.002  -0.436 |\n",
      "-1145054973154029841                    -0.860   0.001   0.000  -0.253 |\n",
      "                                         Dim.3     ctr    cos2  v.test  \n",
      "-1009099527612972675                     1.542   0.003   0.002   0.517 |\n",
      "-10323156494925315                      -3.690   0.017   0.010  -1.238 |\n",
      "-1036397182069928513                    -0.138   0.000   0.000  -0.046 |\n",
      "-1044924070068969629                     0.640   0.001   0.000   0.215 |\n",
      "-1056985342985315316                    -0.449   0.000   0.000  -0.151 |\n",
      "-1093369365641549066                     7.615   0.073   0.034   2.555 |\n",
      "-1098865084807630514                    -1.236   0.002   0.001  -0.415 |\n",
      "-1129564215521063027                    -0.072   0.000   0.000  -0.024 |\n",
      "-1136112586635732693                    -0.181   0.000   0.000  -0.061 |\n",
      "-1145054973154029841                    -0.578   0.000   0.000  -0.194 |\n",
      "<rpy2.rinterface_lib.sexp.NULLType object at 0x00000209BCCA5590> [0]\n",
      "<class 'pandas.core.frame.DataFrame'>\n",
      "Index: 372 entries, days_between_signup_and_first_activity to unique_learner_id\n",
      "Data columns (total 10 columns):\n",
      " #   Column  Non-Null Count  Dtype  \n",
      "---  ------  --------------  -----  \n",
      " 0   Dim.1   372 non-null    float64\n",
      " 1   Dim.2   372 non-null    float64\n",
      " 2   Dim.3   372 non-null    float64\n",
      " 3   Dim.4   372 non-null    float64\n",
      " 4   Dim.5   372 non-null    float64\n",
      " 5   Dim.6   372 non-null    float64\n",
      " 6   Dim.7   372 non-null    float64\n",
      " 7   Dim.8   372 non-null    float64\n",
      " 8   Dim.9   372 non-null    float64\n",
      " 9   Dim.10  372 non-null    float64\n",
      "dtypes: float64(10)\n",
      "memory usage: 32.0+ KB\n"
     ]
    }
   ],
   "source": [
    "import os\n",
    "import sys\n",
    "import io\n",
    "\n",
    "#sys.stdout = io.TextIOWrapper(sys.stdout.buffer, encoding='utf-8')\n",
    "\n",
    "\n",
    "#definir l'emplacement de l'environnement r et des librairies utilisés\n",
    "os.environ['R_HOME'] = r\"C:\\Program Files\\R\\R-4.4.2\"  # Exemple : '/home/user/anaconda3/envs/mon_env/lib/R'\n",
    "os.environ['R_LIBS_USER'] = r\"C:\\Users\\damso\\AppData\\Local\\R\\win-library\\4.4\"\n",
    "# Optionnel : Ajouter le chemin des DLLs de R pour éviter des erreurs de chargement\n",
    "#os.environ['PATH'] += os.pathsep + r\"C:\\Program Files\\R\\R-4.4.2\\bin\\x64\"\n",
    "\n",
    "# Importer rpy2 et activer la conversion pandas2ri\n",
    "import rpy2.robjects as ro\n",
    "from rpy2.robjects import pandas2ri\n",
    "pandas2ri.activate()\n",
    "\n",
    "#ro.r('library(factoextra)')\n",
    "#ro.r('library(FactoMineR)')\n",
    "\n",
    "# Charger les données dans R\n",
    "\n",
    "base_AE = df_sample.reset_index(drop=True)\n",
    "\n",
    "ro.globalenv['data'] = pandas2ri.py2rpy(base_AE)\n",
    "\n",
    "# Récupérer les colonnes de type 'category'\n",
    "category_columns = base_AE.select_dtypes(include=['category']).columns\n",
    "\n",
    "# Convertir les noms des colonnes en liste pour les passer à R\n",
    "ro.globalenv['category_columns'] = category_columns.tolist()\n",
    "\n",
    "\n",
    "ro.r('''\n",
    "    # Vérifier si les bibliothèques sont installées et les charger\n",
    "    #if (!require(\"ggplot2\")) install.packages(\"ggplot2\")\n",
    "    #if (!require(\"FactoMineR\")) install.packages(\"FactoMineR\")\n",
    "    #if (!require(\"factoextra\")) install.packages(\"factoextra\")\n",
    "     \n",
    "    # Récupérer les noms des colonnes de type 'category' de Python\n",
    "    category_columns <- as.character(category_columns)\n",
    "\n",
    "    # Appliquer la conversion en factor sur ces colonnes\n",
    "    data[category_columns] <- lapply(data[category_columns], as.factor)\n",
    "    # Afficher les niveaux de chaque variable factor\n",
    "    # Filtrer uniquement les variables de type factor\n",
    "    #library(RColorBrewer)\n",
    "    #library(ggplot2)\n",
    "    library(FactoMineR)\n",
    "    library(factoextra)\n",
    "    # Exemple pour toutes les variables qualitatives\n",
    "    result <- FAMD(data, ncp = 10, graph = FALSE)\n",
    "\n",
    "    res <-summary(result)\n",
    "    result_df <- as.data.frame(result$ind$coord) # Récupérer les coordonnées des individus\n",
    "    result_var_df <- as.data.frame(result$var$coord) # Récupérer les coordonnées des individus\n",
    "''')\n",
    "# #Récupérer les résultats en Python\n",
    "result_df = ro.r('result_df')\n",
    "result_var_df = ro.r('result_var_df')\n",
    "res = ro.r('res')\n",
    "print(res)\n",
    "\n",
    "result_df = pandas2ri.rpy2py(result_df)\n",
    "result_var_df = pandas2ri.rpy2py(result_var_df)\n",
    "result_var_df.info()\n",
    "#print(\"Résultats de la FAMD :\\n\", result_df)"
   ]
  },
  {
   "cell_type": "markdown",
   "metadata": {},
   "source": [
    " 10 variables ont été conservés et contiennent environ % de variance "
   ]
  },
  {
   "cell_type": "markdown",
   "metadata": {},
   "source": [
    "<br/>\n",
    "<p style=\"font-family: 'Georgia', serif; text-align: center;font-size: 25px\">\n",
    "<u>\n",
    "3- Auto Encoder </u>\n",
    "</p>\n",
    "<br/>"
   ]
  }
 ],
 "metadata": {
  "kernelspec": {
   "display_name": "base",
   "language": "python",
   "name": "python3"
  },
  "language_info": {
   "codemirror_mode": {
    "name": "ipython",
    "version": 3
   },
   "file_extension": ".py",
   "mimetype": "text/x-python",
   "name": "python",
   "nbconvert_exporter": "python",
   "pygments_lexer": "ipython3",
   "version": "3.12.7"
  }
 },
 "nbformat": 4,
 "nbformat_minor": 2
}
