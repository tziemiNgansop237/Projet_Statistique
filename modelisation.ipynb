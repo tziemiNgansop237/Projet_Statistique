{
 "cells": [
  {
   "cell_type": "markdown",
   "metadata": {},
   "source": [
    "<br/>\n",
    "<br/>\n",
    "\n",
    "<h1 style=\"font-family: 'Georgia', serif; text-align: center; font-size: 30px; color: #3498db\"> <u>Modélisation Du Sinistre </u></h1>\n",
    "<br/>\n",
    "    "
   ]
  },
  {
   "cell_type": "markdown",
   "metadata": {},
   "source": [
    "### Entrainement du modèle d'autoencodeur"
   ]
  },
  {
   "cell_type": "code",
   "execution_count": 1,
   "metadata": {},
   "outputs": [],
   "source": [
    "import numpy as np\n",
    "import tensorflow as tf\n",
    "import random\n",
    "import pandas as pd\n",
    "from tensorflow.keras import regularizers\n",
    "from tensorflow.keras.models import Model\n",
    "from tensorflow.keras.layers import Input, Dense\n",
    "from sklearn.model_selection import train_test_split\n",
    "from sklearn.preprocessing import OneHotEncoder, MinMaxScaler\n",
    "import matplotlib.pyplot as plt\n",
    "import os"
   ]
  },
  {
   "cell_type": "markdown",
   "metadata": {},
   "source": [
    "base_Edu_cleaned est le dataFrame qui a été exporté dans le fichier préparation avant les réductions des dimensions"
   ]
  },
  {
   "cell_type": "code",
   "execution_count": null,
   "metadata": {},
   "outputs": [],
   "source": [
    "base_assu= pd.read_parquet(\"C:/Users/damso/Documents/data/base_assu.parquet\")\n",
    "\n",
    "base_Edu=pd.read_csv(\"C:/Users/damso/Documents/data/base_Edu_cleaned.csv\")\n",
    "\n",
    "base_AE=base_Edu.select_dtypes(exclude=\"datetime\").drop(columns=\"unique_learner_id\",axis=1).head(30000)"
   ]
  },
  {
   "cell_type": "code",
   "execution_count": 10,
   "metadata": {},
   "outputs": [
    {
     "data": {
      "text/plain": [
       "104"
      ]
     },
     "execution_count": 10,
     "metadata": {},
     "output_type": "execute_result"
    }
   ],
   "source": [
    "base_Edu1 = pd.read_parquet(\"C:/Users/damso/Documents/data/base_Edu.parquet\")\n",
    "\n",
    "columns_delete= list(set(base_Edu1.columns) - set(base_Edu.columns))\n",
    "len(columns_delete)"
   ]
  },
  {
   "cell_type": "code",
   "execution_count": 24,
   "metadata": {},
   "outputs": [
    {
     "data": {
      "text/plain": [
       "['delay_between_lesson_hours_std',\n",
       " 'score_at_registration',\n",
       " 'proportion_activities_last_7d_before_theory_exam',\n",
       " 'time_q100_theme_score_pct_std_avg',\n",
       " 'serie_q75_training_score_pct_avg_avg',\n",
       " 'time_q100_theme_score_pct_avg_avg',\n",
       " 'delay_between_first_and_last_booking_days',\n",
       " 'delay_booking_lesson_days_std',\n",
       " 'time_q100_training_count_avg',\n",
       " 'serie_q25_training_score_pct_avg_avg',\n",
       " 'nb_completed_exam_series',\n",
       " 'proportion_activities_last_3d_before_theory_exam',\n",
       " 'delay_between_lesson_hours_max',\n",
       " 'serie_q50_exam_score_pct_std_avg',\n",
       " 'score_before_exam',\n",
       " 'time_q75_theme_score_pct_avg_avg',\n",
       " 'serie_q50_training_score_pct_std_avg',\n",
       " 'time_q75_theme_count_avg',\n",
       " 'nb_distinct_meeting_point',\n",
       " 'time_q50_exam_score_pct_std_avg',\n",
       " 'delay_booking_lesson_days_min',\n",
       " 'score_pct__fft_aggregated__aggtype_kurtosis',\n",
       " 'time_q25_training_count_avg',\n",
       " 'delay_annulation_lesson_days_avg',\n",
       " 'time_q100_training_score_pct_std_avg',\n",
       " 'time_q50_exam_score_pct_avg_avg',\n",
       " 'serie_q100_theme_score_pct_avg_avg',\n",
       " 'delay_annulation_lesson_days_min',\n",
       " 'serie_q100_exam_score_pct_avg_avg',\n",
       " 'delay_booking_creation_annulation_days_stddev',\n",
       " 'serie_q75_theme_score_pct_std_avg',\n",
       " 'time_q50_theme_score_pct_avg_avg',\n",
       " 'avg_correct_answer_rate_last_3d_before_theory_exam',\n",
       " 'days_between_first_activity_and_exam',\n",
       " 'delay_annulation_lesson_days_stddev',\n",
       " 'avg_self_assessment_gap',\n",
       " 'time_q50_training_count_avg',\n",
       " 'delay_annulation_lesson_days_max',\n",
       " 'serie_q50_theme_score_pct_avg_avg',\n",
       " 'time_q50_training_score_pct_avg_avg',\n",
       " 'serie_q25_theme_score_pct_std_avg',\n",
       " 'delay_between_lesson_hours_avg',\n",
       " 'serie_q50_theme_score_pct_std_avg',\n",
       " 'nb_mistakes_first_exam',\n",
       " 'time_q75_training_count_avg',\n",
       " 'serie_q25_exam_score_pct_avg_avg',\n",
       " 'time_q75_exam_score_pct_std_avg',\n",
       " 'serie_q50_training_score_pct_avg_avg',\n",
       " 'serie_q100_training_score_pct_avg_avg',\n",
       " 'time_q25_theme_score_pct_std_avg',\n",
       " 'time_q25_training_score_pct_avg_avg',\n",
       " 'time_q25_theme_score_pct_avg_avg',\n",
       " 'serie_q25_exam_score_pct_std_avg',\n",
       " 'delay_booking_lesson_days_max',\n",
       " 'delay_booking_creation_annulation_days_min',\n",
       " 'time_q100_training_score_pct_avg_avg',\n",
       " 'delay_between_lesson_hours_min',\n",
       " 'time_q75_theme_score_pct_std_avg',\n",
       " 'nb_lessons',\n",
       " 'time_q25_training_score_pct_std_avg',\n",
       " 'exam_series_increment_avg',\n",
       " 'serie_q100_training_score_pct_std_avg',\n",
       " 'serie_q100_exam_score_pct_std_avg',\n",
       " 'time_q75_training_score_pct_std_avg',\n",
       " 'bool_last_activity_exam_success',\n",
       " 'time_q75_exam_count_avg',\n",
       " 'delay_booking_creation_annulation_days_avg',\n",
       " 'serie_q25_theme_score_pct_avg_avg',\n",
       " 'time_q100_exam_score_pct_avg_avg',\n",
       " 'delay_booking_lesson_days_avg',\n",
       " 'time_q75_training_score_pct_avg_avg',\n",
       " 'nb_double_hours',\n",
       " 'serie_q75_exam_score_pct_avg_avg',\n",
       " 'serie_q75_theme_score_pct_avg_avg',\n",
       " 'time_q100_exam_count_avg',\n",
       " 'time_q100_exam_score_pct_std_avg',\n",
       " 'delay_booking_creation_annulation_days_max',\n",
       " 'avg_correct_answer_rate_last_7d_before_theory_exam',\n",
       " 'serie_q100_theme_score_pct_std_avg',\n",
       " 'time_q50_training_score_pct_std_avg',\n",
       " 'time_q25_exam_count_avg',\n",
       " 'nb_distinct_instructor',\n",
       " 'time_q25_exam_score_pct_std_avg',\n",
       " 'nb_cancellations',\n",
       " 'serie_q75_training_score_pct_std_avg',\n",
       " 'avg_self_assessment',\n",
       " 'ratio_multiple_hours',\n",
       " 'days_between_order_and_exam',\n",
       " 'delay_between_first_and_last_lesson',\n",
       " 'weekly_study_objective',\n",
       " 'time_q50_theme_count_avg',\n",
       " 'serie_q25_training_score_pct_std_avg',\n",
       " 'time_q50_theme_score_pct_std_avg',\n",
       " 'ratio_completed_exam_series',\n",
       " 'time_q50_exam_count_avg',\n",
       " 'time_q25_exam_score_pct_avg_avg',\n",
       " 'days_between_booking_and_exam',\n",
       " 'ratio_cancelled_bookings',\n",
       " 'time_q75_exam_score_pct_avg_avg',\n",
       " 'serie_q75_exam_score_pct_std_avg',\n",
       " 'time_q100_theme_count_avg',\n",
       " 'serie_q50_exam_score_pct_avg_avg',\n",
       " 'nb_bookings',\n",
       " 'time_q25_theme_count_avg']"
      ]
     },
     "execution_count": 24,
     "metadata": {},
     "output_type": "execute_result"
    }
   ],
   "source": [
    "columns_delete"
   ]
  },
  {
   "cell_type": "code",
   "execution_count": 11,
   "metadata": {},
   "outputs": [],
   "source": [
    "\n",
    "\n",
    "# === 1. Fixer les graines pour la reproductibilité ===\n",
    "seed_value = 123\n",
    "np.random.seed(seed_value)\n",
    "tf.random.set_seed(seed_value)\n",
    "random.seed(seed_value)\n",
    "os.environ['PYTHONHASHSEED'] = str(seed_value)\n",
    "os.environ['TF_DETERMINISTIC_OPS'] = '1'\n",
    "\n",
    "# === 2. Préparation des données ===\n",
    "# Récupérer les colonnes numériques et catégoriques\n",
    "numerical_cols = base_AE.select_dtypes(include=['int', 'float']).columns\n",
    "categorical_cols = base_AE.select_dtypes(include=['category', 'object']).columns\n",
    "\n",
    "# Encodage des variables catégoriques avec OneHotEncoder\n",
    "oneencoder = OneHotEncoder(sparse_output=False)\n",
    "encoded_cats = oneencoder.fit_transform(base_AE[categorical_cols])\n",
    "\n",
    "# Récupérer les noms des colonnes générées par OneHotEncoder\n",
    "encoded_cat_columns = oneencoder.get_feature_names_out(categorical_cols)\n",
    "\n",
    "# Centrage et réduction des variables numériques\n",
    "scaler = MinMaxScaler(feature_range=(0, 1))\n",
    "scaled_nums = scaler.fit_transform(base_AE[numerical_cols])\n",
    "\n",
    "# Fusionner les données encodées et normalisées\n",
    "final_data = np.hstack([encoded_cats, scaled_nums])\n",
    "\n",
    "# Concaténer les noms des colonnes finales\n",
    "final_columns = list(encoded_cat_columns) + list(numerical_cols)"
   ]
  },
  {
   "cell_type": "code",
   "execution_count": 33,
   "metadata": {},
   "outputs": [
    {
     "name": "stdout",
     "output_type": "stream",
     "text": [
      "Epoch 1/50\n",
      "\u001b[1m730/730\u001b[0m \u001b[32m━━━━━━━━━━━━━━━━━━━━\u001b[0m\u001b[37m\u001b[0m \u001b[1m15s\u001b[0m 10ms/step - loss: 0.0447 - val_loss: 0.0306\n",
      "Epoch 2/50\n",
      "\u001b[1m730/730\u001b[0m \u001b[32m━━━━━━━━━━━━━━━━━━━━\u001b[0m\u001b[37m\u001b[0m \u001b[1m5s\u001b[0m 6ms/step - loss: 0.0299 - val_loss: 0.0302\n",
      "Epoch 3/50\n",
      "\u001b[1m730/730\u001b[0m \u001b[32m━━━━━━━━━━━━━━━━━━━━\u001b[0m\u001b[37m\u001b[0m \u001b[1m5s\u001b[0m 6ms/step - loss: 0.0295 - val_loss: 0.0298\n",
      "Epoch 4/50\n",
      "\u001b[1m730/730\u001b[0m \u001b[32m━━━━━━━━━━━━━━━━━━━━\u001b[0m\u001b[37m\u001b[0m \u001b[1m5s\u001b[0m 6ms/step - loss: 0.0292 - val_loss: 0.0296\n",
      "Epoch 5/50\n",
      "\u001b[1m730/730\u001b[0m \u001b[32m━━━━━━━━━━━━━━━━━━━━\u001b[0m\u001b[37m\u001b[0m \u001b[1m5s\u001b[0m 6ms/step - loss: 0.0289 - val_loss: 0.0293\n",
      "Epoch 6/50\n",
      "\u001b[1m730/730\u001b[0m \u001b[32m━━━━━━━━━━━━━━━━━━━━\u001b[0m\u001b[37m\u001b[0m \u001b[1m5s\u001b[0m 6ms/step - loss: 0.0287 - val_loss: 0.0291\n",
      "Epoch 7/50\n",
      "\u001b[1m730/730\u001b[0m \u001b[32m━━━━━━━━━━━━━━━━━━━━\u001b[0m\u001b[37m\u001b[0m \u001b[1m5s\u001b[0m 7ms/step - loss: 0.0284 - val_loss: 0.0289\n",
      "Epoch 8/50\n",
      "\u001b[1m730/730\u001b[0m \u001b[32m━━━━━━━━━━━━━━━━━━━━\u001b[0m\u001b[37m\u001b[0m \u001b[1m5s\u001b[0m 7ms/step - loss: 0.0282 - val_loss: 0.0287\n",
      "Epoch 9/50\n",
      "\u001b[1m730/730\u001b[0m \u001b[32m━━━━━━━━━━━━━━━━━━━━\u001b[0m\u001b[37m\u001b[0m \u001b[1m5s\u001b[0m 7ms/step - loss: 0.0281 - val_loss: 0.0286\n",
      "Epoch 10/50\n",
      "\u001b[1m730/730\u001b[0m \u001b[32m━━━━━━━━━━━━━━━━━━━━\u001b[0m\u001b[37m\u001b[0m \u001b[1m5s\u001b[0m 7ms/step - loss: 0.0279 - val_loss: 0.0285\n",
      "Epoch 11/50\n",
      "\u001b[1m730/730\u001b[0m \u001b[32m━━━━━━━━━━━━━━━━━━━━\u001b[0m\u001b[37m\u001b[0m \u001b[1m5s\u001b[0m 7ms/step - loss: 0.0278 - val_loss: 0.0284\n",
      "Epoch 12/50\n",
      "\u001b[1m730/730\u001b[0m \u001b[32m━━━━━━━━━━━━━━━━━━━━\u001b[0m\u001b[37m\u001b[0m \u001b[1m5s\u001b[0m 7ms/step - loss: 0.0277 - val_loss: 0.0284\n",
      "Epoch 13/50\n",
      "\u001b[1m730/730\u001b[0m \u001b[32m━━━━━━━━━━━━━━━━━━━━\u001b[0m\u001b[37m\u001b[0m \u001b[1m5s\u001b[0m 7ms/step - loss: 0.0276 - val_loss: 0.0283\n",
      "Epoch 14/50\n",
      "\u001b[1m730/730\u001b[0m \u001b[32m━━━━━━━━━━━━━━━━━━━━\u001b[0m\u001b[37m\u001b[0m \u001b[1m5s\u001b[0m 7ms/step - loss: 0.0276 - val_loss: 0.0283\n",
      "Epoch 15/50\n",
      "\u001b[1m730/730\u001b[0m \u001b[32m━━━━━━━━━━━━━━━━━━━━\u001b[0m\u001b[37m\u001b[0m \u001b[1m6s\u001b[0m 8ms/step - loss: 0.0275 - val_loss: 0.0283\n",
      "Epoch 16/50\n",
      "\u001b[1m730/730\u001b[0m \u001b[32m━━━━━━━━━━━━━━━━━━━━\u001b[0m\u001b[37m\u001b[0m \u001b[1m5s\u001b[0m 6ms/step - loss: 0.0275 - val_loss: 0.0283\n",
      "Epoch 17/50\n",
      "\u001b[1m730/730\u001b[0m \u001b[32m━━━━━━━━━━━━━━━━━━━━\u001b[0m\u001b[37m\u001b[0m \u001b[1m5s\u001b[0m 6ms/step - loss: 0.0275 - val_loss: 0.0282\n",
      "Epoch 18/50\n",
      "\u001b[1m730/730\u001b[0m \u001b[32m━━━━━━━━━━━━━━━━━━━━\u001b[0m\u001b[37m\u001b[0m \u001b[1m5s\u001b[0m 6ms/step - loss: 0.0274 - val_loss: 0.0282\n",
      "Epoch 19/50\n",
      "\u001b[1m730/730\u001b[0m \u001b[32m━━━━━━━━━━━━━━━━━━━━\u001b[0m\u001b[37m\u001b[0m \u001b[1m6s\u001b[0m 8ms/step - loss: 0.0274 - val_loss: 0.0282\n",
      "Epoch 20/50\n",
      "\u001b[1m730/730\u001b[0m \u001b[32m━━━━━━━━━━━━━━━━━━━━\u001b[0m\u001b[37m\u001b[0m \u001b[1m5s\u001b[0m 6ms/step - loss: 0.0274 - val_loss: 0.0282\n",
      "Epoch 21/50\n",
      "\u001b[1m730/730\u001b[0m \u001b[32m━━━━━━━━━━━━━━━━━━━━\u001b[0m\u001b[37m\u001b[0m \u001b[1m7s\u001b[0m 9ms/step - loss: 0.0273 - val_loss: 0.0281\n",
      "Epoch 22/50\n",
      "\u001b[1m730/730\u001b[0m \u001b[32m━━━━━━━━━━━━━━━━━━━━\u001b[0m\u001b[37m\u001b[0m \u001b[1m5s\u001b[0m 7ms/step - loss: 0.0273 - val_loss: 0.0281\n",
      "Epoch 23/50\n",
      "\u001b[1m730/730\u001b[0m \u001b[32m━━━━━━━━━━━━━━━━━━━━\u001b[0m\u001b[37m\u001b[0m \u001b[1m5s\u001b[0m 7ms/step - loss: 0.0273 - val_loss: 0.0281\n",
      "Epoch 24/50\n",
      "\u001b[1m730/730\u001b[0m \u001b[32m━━━━━━━━━━━━━━━━━━━━\u001b[0m\u001b[37m\u001b[0m \u001b[1m5s\u001b[0m 7ms/step - loss: 0.0273 - val_loss: 0.0281\n",
      "Epoch 25/50\n",
      "\u001b[1m730/730\u001b[0m \u001b[32m━━━━━━━━━━━━━━━━━━━━\u001b[0m\u001b[37m\u001b[0m \u001b[1m5s\u001b[0m 7ms/step - loss: 0.0272 - val_loss: 0.0281\n",
      "Epoch 26/50\n",
      "\u001b[1m730/730\u001b[0m \u001b[32m━━━━━━━━━━━━━━━━━━━━\u001b[0m\u001b[37m\u001b[0m \u001b[1m5s\u001b[0m 7ms/step - loss: 0.0272 - val_loss: 0.0281\n",
      "Epoch 27/50\n",
      "\u001b[1m730/730\u001b[0m \u001b[32m━━━━━━━━━━━━━━━━━━━━\u001b[0m\u001b[37m\u001b[0m \u001b[1m5s\u001b[0m 7ms/step - loss: 0.0272 - val_loss: 0.0280\n",
      "Epoch 28/50\n",
      "\u001b[1m730/730\u001b[0m \u001b[32m━━━━━━━━━━━━━━━━━━━━\u001b[0m\u001b[37m\u001b[0m \u001b[1m5s\u001b[0m 7ms/step - loss: 0.0272 - val_loss: 0.0281\n",
      "Epoch 29/50\n",
      "\u001b[1m730/730\u001b[0m \u001b[32m━━━━━━━━━━━━━━━━━━━━\u001b[0m\u001b[37m\u001b[0m \u001b[1m5s\u001b[0m 7ms/step - loss: 0.0271 - val_loss: 0.0280\n",
      "Epoch 30/50\n",
      "\u001b[1m730/730\u001b[0m \u001b[32m━━━━━━━━━━━━━━━━━━━━\u001b[0m\u001b[37m\u001b[0m \u001b[1m5s\u001b[0m 7ms/step - loss: 0.0271 - val_loss: 0.0280\n",
      "Epoch 31/50\n",
      "\u001b[1m730/730\u001b[0m \u001b[32m━━━━━━━━━━━━━━━━━━━━\u001b[0m\u001b[37m\u001b[0m \u001b[1m5s\u001b[0m 7ms/step - loss: 0.0271 - val_loss: 0.0280\n",
      "Epoch 32/50\n",
      "\u001b[1m730/730\u001b[0m \u001b[32m━━━━━━━━━━━━━━━━━━━━\u001b[0m\u001b[37m\u001b[0m \u001b[1m5s\u001b[0m 7ms/step - loss: 0.0271 - val_loss: 0.0280\n",
      "Epoch 33/50\n",
      "\u001b[1m730/730\u001b[0m \u001b[32m━━━━━━━━━━━━━━━━━━━━\u001b[0m\u001b[37m\u001b[0m \u001b[1m5s\u001b[0m 7ms/step - loss: 0.0270 - val_loss: 0.0281\n",
      "Epoch 34/50\n",
      "\u001b[1m730/730\u001b[0m \u001b[32m━━━━━━━━━━━━━━━━━━━━\u001b[0m\u001b[37m\u001b[0m \u001b[1m5s\u001b[0m 7ms/step - loss: 0.0270 - val_loss: 0.0280\n",
      "Epoch 35/50\n",
      "\u001b[1m730/730\u001b[0m \u001b[32m━━━━━━━━━━━━━━━━━━━━\u001b[0m\u001b[37m\u001b[0m \u001b[1m5s\u001b[0m 7ms/step - loss: 0.0270 - val_loss: 0.0280\n",
      "Epoch 36/50\n",
      "\u001b[1m730/730\u001b[0m \u001b[32m━━━━━━━━━━━━━━━━━━━━\u001b[0m\u001b[37m\u001b[0m \u001b[1m5s\u001b[0m 7ms/step - loss: 0.0270 - val_loss: 0.0280\n",
      "Epoch 37/50\n",
      "\u001b[1m730/730\u001b[0m \u001b[32m━━━━━━━━━━━━━━━━━━━━\u001b[0m\u001b[37m\u001b[0m \u001b[1m5s\u001b[0m 7ms/step - loss: 0.0270 - val_loss: 0.0280\n",
      "Epoch 38/50\n",
      "\u001b[1m730/730\u001b[0m \u001b[32m━━━━━━━━━━━━━━━━━━━━\u001b[0m\u001b[37m\u001b[0m \u001b[1m5s\u001b[0m 7ms/step - loss: 0.0270 - val_loss: 0.0280\n",
      "Epoch 39/50\n",
      "\u001b[1m730/730\u001b[0m \u001b[32m━━━━━━━━━━━━━━━━━━━━\u001b[0m\u001b[37m\u001b[0m \u001b[1m5s\u001b[0m 7ms/step - loss: 0.0269 - val_loss: 0.0280\n",
      "Epoch 40/50\n",
      "\u001b[1m730/730\u001b[0m \u001b[32m━━━━━━━━━━━━━━━━━━━━\u001b[0m\u001b[37m\u001b[0m \u001b[1m5s\u001b[0m 7ms/step - loss: 0.0269 - val_loss: 0.0280\n",
      "Epoch 41/50\n",
      "\u001b[1m730/730\u001b[0m \u001b[32m━━━━━━━━━━━━━━━━━━━━\u001b[0m\u001b[37m\u001b[0m \u001b[1m5s\u001b[0m 7ms/step - loss: 0.0269 - val_loss: 0.0280\n",
      "Epoch 42/50\n",
      "\u001b[1m730/730\u001b[0m \u001b[32m━━━━━━━━━━━━━━━━━━━━\u001b[0m\u001b[37m\u001b[0m \u001b[1m5s\u001b[0m 7ms/step - loss: 0.0269 - val_loss: 0.0280\n",
      "Epoch 43/50\n",
      "\u001b[1m730/730\u001b[0m \u001b[32m━━━━━━━━━━━━━━━━━━━━\u001b[0m\u001b[37m\u001b[0m \u001b[1m5s\u001b[0m 7ms/step - loss: 0.0269 - val_loss: 0.0280\n",
      "Epoch 44/50\n",
      "\u001b[1m730/730\u001b[0m \u001b[32m━━━━━━━━━━━━━━━━━━━━\u001b[0m\u001b[37m\u001b[0m \u001b[1m6s\u001b[0m 8ms/step - loss: 0.0269 - val_loss: 0.0280\n",
      "Epoch 45/50\n",
      "\u001b[1m730/730\u001b[0m \u001b[32m━━━━━━━━━━━━━━━━━━━━\u001b[0m\u001b[37m\u001b[0m \u001b[1m5s\u001b[0m 7ms/step - loss: 0.0268 - val_loss: 0.0280\n",
      "Epoch 46/50\n",
      "\u001b[1m730/730\u001b[0m \u001b[32m━━━━━━━━━━━━━━━━━━━━\u001b[0m\u001b[37m\u001b[0m \u001b[1m5s\u001b[0m 7ms/step - loss: 0.0268 - val_loss: 0.0280\n",
      "Epoch 47/50\n",
      "\u001b[1m730/730\u001b[0m \u001b[32m━━━━━━━━━━━━━━━━━━━━\u001b[0m\u001b[37m\u001b[0m \u001b[1m5s\u001b[0m 7ms/step - loss: 0.0268 - val_loss: 0.0280\n",
      "Epoch 48/50\n",
      "\u001b[1m730/730\u001b[0m \u001b[32m━━━━━━━━━━━━━━━━━━━━\u001b[0m\u001b[37m\u001b[0m \u001b[1m5s\u001b[0m 7ms/step - loss: 0.0268 - val_loss: 0.0280\n",
      "Epoch 49/50\n",
      "\u001b[1m730/730\u001b[0m \u001b[32m━━━━━━━━━━━━━━━━━━━━\u001b[0m\u001b[37m\u001b[0m \u001b[1m5s\u001b[0m 7ms/step - loss: 0.0268 - val_loss: 0.0280\n",
      "Epoch 50/50\n",
      "\u001b[1m730/730\u001b[0m \u001b[32m━━━━━━━━━━━━━━━━━━━━\u001b[0m\u001b[37m\u001b[0m \u001b[1m6s\u001b[0m 9ms/step - loss: 0.0267 - val_loss: 0.0280\n",
      "\u001b[1m626/626\u001b[0m \u001b[32m━━━━━━━━━━━━━━━━━━━━\u001b[0m\u001b[37m\u001b[0m \u001b[1m1s\u001b[0m 1ms/step\n",
      "\u001b[1m626/626\u001b[0m \u001b[32m━━━━━━━━━━━━━━━━━━━━\u001b[0m\u001b[37m\u001b[0m \u001b[1m1s\u001b[0m 1ms/step\n"
     ]
    },
    {
     "data": {
      "image/png": "[encoded data removed]",
      "text/plain": [
       "<Figure size 2000x400 with 14 Axes>"
      ]
     },
     "metadata": {},
     "output_type": "display_data"
    },
    {
     "name": "stdout",
     "output_type": "stream",
     "text": [
      "Erreur moyenne de reconstruction : 0.0280\n"
     ]
    }
   ],
   "source": [
    "# Diviser les données en ensembles d'entraînement et de test\n",
    "x_train, x_test = train_test_split(final_data, test_size=0.3, random_state=seed_value)\n",
    "\n",
    "# Dimensions de l'entrée\n",
    "#input_dim = x_train.shape[1]\n",
    "\n",
    "# === 2. Définition de l'autoencodeur ===\n",
    "input_dim = x_train.shape[1]  # Assurez-vous que x_train est bien défini\n",
    "encoding_dim = 3\n",
    "\n",
    "# Initialisation déterministe des poids\n",
    "initializer = tf.keras.initializers.GlorotUniform(seed=seed_value)\n",
    "\n",
    "input_img = Input(shape=(input_dim,))\n",
    "# Encodeur\n",
    "Hidden1 = Dense(358, activation='relu', kernel_initializer=initializer)(input_img)\n",
    "#Hidden2 = Dense(128, activation='relu', kernel_initializer=initializer)(Hidden1)\n",
    "#Hidden3 = Dense(64, activation='relu', kernel_initializer=initializer)(Hidden2)\n",
    "encoded = Dense(encoding_dim, activation='linear', kernel_initializer=initializer)(Hidden1)\n",
    "\n",
    "# Décodeur\n",
    "Hidden_output1 = Dense(358, activation='relu', kernel_initializer=initializer)(encoded)\n",
    "#Hidden_output2 = Dense(128, activation='relu', kernel_initializer=initializer)(Hidden_output1)\n",
    "#Hidden_output3 = Dense(256, activation='relu', kernel_initializer=initializer)(Hidden_output2)\n",
    "decoded = Dense(input_dim, activation='sigmoid', kernel_initializer=initializer)(Hidden_output1)#Plus touche\n",
    "\n",
    "# Modèle autoencodeur\n",
    "autoencoder = Model(input_img, decoded)\n",
    "autoencoder.compile(optimizer='adam', loss='mse')\n",
    "\n",
    "# Entraînement du modèle\n",
    "history = autoencoder.fit(x_train, x_train,\n",
    "                          epochs=50,\n",
    "                          batch_size=128,\n",
    "                          shuffle=True,\n",
    "                          validation_data=(x_test, x_test),\n",
    "                          verbose=1)\n",
    "\n",
    "# Modèle de l'encodeur seul\n",
    "encoder = Model(input_img, encoded)\n",
    "\n",
    "# Représentations encodées (latent space)\n",
    "encoded_imgs = encoder.predict(x_test)\n",
    "decoded_imgs = autoencoder.predict(x_test)\n",
    "\n",
    "# === 4. Visualisation des performances ===\n",
    "n = 7\n",
    "plt.figure(figsize=(20, 4))\n",
    "\n",
    "for i in range(n):\n",
    "    # Données originales\n",
    "    ax = plt.subplot(2, n, i + 1)\n",
    "    plt.bar(range(len(x_test[i])), x_test[i])\n",
    "    plt.title(f\"Original {i+1}\")\n",
    "    plt.axis('off')\n",
    "\n",
    "    # Reconstructions\n",
    "    ax = plt.subplot(2, n, i + 1 + n)\n",
    "    plt.bar(range(len(decoded_imgs[i])), decoded_imgs[i])\n",
    "    plt.title(f\"Reconstructed {i+1}\")\n",
    "    plt.axis('off')\n",
    "\n",
    "plt.show()\n",
    "\n",
    "# Analyse des erreurs de reconstruction\n",
    "reconstruction_error = np.mean((x_test - decoded_imgs) ** 2, axis=1)\n",
    "print(f\"Erreur moyenne de reconstruction : {np.mean(reconstruction_error):.4f}\")"
   ]
  },
  {
   "cell_type": "markdown",
   "metadata": {},
   "source": [
    "### importation de la base"
   ]
  },
  {
   "cell_type": "code",
   "execution_count": 37,
   "metadata": {},
   "outputs": [
    {
     "data": {
      "text/html": [
       "<div>\n",
       "<style scoped>\n",
       "    .dataframe tbody tr th:only-of-type {\n",
       "        vertical-align: middle;\n",
       "    }\n",
       "\n",
       "    .dataframe tbody tr th {\n",
       "        vertical-align: top;\n",
       "    }\n",
       "\n",
       "    .dataframe thead th {\n",
       "        text-align: right;\n",
       "    }\n",
       "</style>\n",
       "<table border=\"1\" class=\"dataframe\">\n",
       "  <thead>\n",
       "    <tr style=\"text-align: right;\">\n",
       "      <th></th>\n",
       "      <th>count</th>\n",
       "      <th>mean</th>\n",
       "      <th>min</th>\n",
       "      <th>25%</th>\n",
       "      <th>50%</th>\n",
       "      <th>75%</th>\n",
       "      <th>max</th>\n",
       "      <th>std</th>\n",
       "    </tr>\n",
       "  </thead>\n",
       "  <tbody>\n",
       "    <tr>\n",
       "      <th>unique_learner_id</th>\n",
       "      <td>69398.0</td>\n",
       "      <td>3754957169445755.5</td>\n",
       "      <td>-9222849458566410240.0</td>\n",
       "      <td>-4598777253173660672.0</td>\n",
       "      <td>540777374478605.5</td>\n",
       "      <td>4626702790680507392.0</td>\n",
       "      <td>9223326892717478912.0</td>\n",
       "      <td>5329710092417094656.0</td>\n",
       "    </tr>\n",
       "    <tr>\n",
       "      <th>learner_id</th>\n",
       "      <td>69398.0</td>\n",
       "      <td>1583879.345644</td>\n",
       "      <td>364.0</td>\n",
       "      <td>728669.5</td>\n",
       "      <td>1497337.5</td>\n",
       "      <td>2308807.0</td>\n",
       "      <td>4457818.0</td>\n",
       "      <td>1001226.659264</td>\n",
       "    </tr>\n",
       "    <tr>\n",
       "      <th>days_between_signup_and_first_activity</th>\n",
       "      <td>69398.0</td>\n",
       "      <td>215.312142</td>\n",
       "      <td>0.0</td>\n",
       "      <td>0.0</td>\n",
       "      <td>27.0</td>\n",
       "      <td>269.0</td>\n",
       "      <td>3491.0</td>\n",
       "      <td>369.320062</td>\n",
       "    </tr>\n",
       "    <tr>\n",
       "      <th>days_between_order_and_first_activity</th>\n",
       "      <td>69398.0</td>\n",
       "      <td>141.204213</td>\n",
       "      <td>-2304.0</td>\n",
       "      <td>0.0</td>\n",
       "      <td>2.0</td>\n",
       "      <td>139.0</td>\n",
       "      <td>2912.0</td>\n",
       "      <td>338.464838</td>\n",
       "    </tr>\n",
       "    <tr>\n",
       "      <th>days_between_first_and_last_activities</th>\n",
       "      <td>69398.0</td>\n",
       "      <td>344.318583</td>\n",
       "      <td>0.0</td>\n",
       "      <td>85.0</td>\n",
       "      <td>241.0</td>\n",
       "      <td>489.0</td>\n",
       "      <td>2959.0</td>\n",
       "      <td>348.980921</td>\n",
       "    </tr>\n",
       "    <tr>\n",
       "      <th>...</th>\n",
       "      <td>...</td>\n",
       "      <td>...</td>\n",
       "      <td>...</td>\n",
       "      <td>...</td>\n",
       "      <td>...</td>\n",
       "      <td>...</td>\n",
       "      <td>...</td>\n",
       "      <td>...</td>\n",
       "    </tr>\n",
       "    <tr>\n",
       "      <th>var_Assurance11</th>\n",
       "      <td>69398.0</td>\n",
       "      <td>0.0</td>\n",
       "      <td>0.0</td>\n",
       "      <td>0.0</td>\n",
       "      <td>0.0</td>\n",
       "      <td>0.0</td>\n",
       "      <td>0.0</td>\n",
       "      <td>0.0</td>\n",
       "    </tr>\n",
       "    <tr>\n",
       "      <th>var_Assurance12</th>\n",
       "      <td>69398.0</td>\n",
       "      <td>0.0</td>\n",
       "      <td>0.0</td>\n",
       "      <td>0.0</td>\n",
       "      <td>0.0</td>\n",
       "      <td>0.0</td>\n",
       "      <td>0.0</td>\n",
       "      <td>0.0</td>\n",
       "    </tr>\n",
       "    <tr>\n",
       "      <th>var_Assurance13</th>\n",
       "      <td>69398.0</td>\n",
       "      <td>0.0</td>\n",
       "      <td>0.0</td>\n",
       "      <td>0.0</td>\n",
       "      <td>0.0</td>\n",
       "      <td>0.0</td>\n",
       "      <td>0.0</td>\n",
       "      <td>0.0</td>\n",
       "    </tr>\n",
       "    <tr>\n",
       "      <th>var_Assurance14</th>\n",
       "      <td>69398.0</td>\n",
       "      <td>0.0</td>\n",
       "      <td>0.0</td>\n",
       "      <td>0.0</td>\n",
       "      <td>0.0</td>\n",
       "      <td>0.0</td>\n",
       "      <td>0.0</td>\n",
       "      <td>0.0</td>\n",
       "    </tr>\n",
       "    <tr>\n",
       "      <th>var_Assurance15</th>\n",
       "      <td>69398.0</td>\n",
       "      <td>0.098029</td>\n",
       "      <td>0.0</td>\n",
       "      <td>0.0</td>\n",
       "      <td>0.0</td>\n",
       "      <td>0.0</td>\n",
       "      <td>5.0</td>\n",
       "      <td>0.340335</td>\n",
       "    </tr>\n",
       "  </tbody>\n",
       "</table>\n",
       "<p>448 rows × 8 columns</p>\n",
       "</div>"
      ],
      "text/plain": [
       "                                          count                mean  \\\n",
       "unique_learner_id                       69398.0  3754957169445755.5   \n",
       "learner_id                              69398.0      1583879.345644   \n",
       "days_between_signup_and_first_activity  69398.0          215.312142   \n",
       "days_between_order_and_first_activity   69398.0          141.204213   \n",
       "days_between_first_and_last_activities  69398.0          344.318583   \n",
       "...                                         ...                 ...   \n",
       "var_Assurance11                         69398.0                 0.0   \n",
       "var_Assurance12                         69398.0                 0.0   \n",
       "var_Assurance13                         69398.0                 0.0   \n",
       "var_Assurance14                         69398.0                 0.0   \n",
       "var_Assurance15                         69398.0            0.098029   \n",
       "\n",
       "                                                          min  \\\n",
       "unique_learner_id                      -9222849458566410240.0   \n",
       "learner_id                                              364.0   \n",
       "days_between_signup_and_first_activity                    0.0   \n",
       "days_between_order_and_first_activity                 -2304.0   \n",
       "days_between_first_and_last_activities                    0.0   \n",
       "...                                                       ...   \n",
       "var_Assurance11                                           0.0   \n",
       "var_Assurance12                                           0.0   \n",
       "var_Assurance13                                           0.0   \n",
       "var_Assurance14                                           0.0   \n",
       "var_Assurance15                                           0.0   \n",
       "\n",
       "                                                          25%  \\\n",
       "unique_learner_id                      -4598777253173660672.0   \n",
       "learner_id                                           728669.5   \n",
       "days_between_signup_and_first_activity                    0.0   \n",
       "days_between_order_and_first_activity                     0.0   \n",
       "days_between_first_and_last_activities                   85.0   \n",
       "...                                                       ...   \n",
       "var_Assurance11                                           0.0   \n",
       "var_Assurance12                                           0.0   \n",
       "var_Assurance13                                           0.0   \n",
       "var_Assurance14                                           0.0   \n",
       "var_Assurance15                                           0.0   \n",
       "\n",
       "                                                      50%  \\\n",
       "unique_learner_id                       540777374478605.5   \n",
       "learner_id                                      1497337.5   \n",
       "days_between_signup_and_first_activity               27.0   \n",
       "days_between_order_and_first_activity                 2.0   \n",
       "days_between_first_and_last_activities              241.0   \n",
       "...                                                   ...   \n",
       "var_Assurance11                                       0.0   \n",
       "var_Assurance12                                       0.0   \n",
       "var_Assurance13                                       0.0   \n",
       "var_Assurance14                                       0.0   \n",
       "var_Assurance15                                       0.0   \n",
       "\n",
       "                                                          75%  \\\n",
       "unique_learner_id                       4626702790680507392.0   \n",
       "learner_id                                          2308807.0   \n",
       "days_between_signup_and_first_activity                  269.0   \n",
       "days_between_order_and_first_activity                   139.0   \n",
       "days_between_first_and_last_activities                  489.0   \n",
       "...                                                       ...   \n",
       "var_Assurance11                                           0.0   \n",
       "var_Assurance12                                           0.0   \n",
       "var_Assurance13                                           0.0   \n",
       "var_Assurance14                                           0.0   \n",
       "var_Assurance15                                           0.0   \n",
       "\n",
       "                                                          max  \\\n",
       "unique_learner_id                       9223326892717478912.0   \n",
       "learner_id                                          4457818.0   \n",
       "days_between_signup_and_first_activity                 3491.0   \n",
       "days_between_order_and_first_activity                  2912.0   \n",
       "days_between_first_and_last_activities                 2959.0   \n",
       "...                                                       ...   \n",
       "var_Assurance11                                           0.0   \n",
       "var_Assurance12                                           0.0   \n",
       "var_Assurance13                                           0.0   \n",
       "var_Assurance14                                           0.0   \n",
       "var_Assurance15                                           5.0   \n",
       "\n",
       "                                                          std  \n",
       "unique_learner_id                       5329710092417094656.0  \n",
       "learner_id                                     1001226.659264  \n",
       "days_between_signup_and_first_activity             369.320062  \n",
       "days_between_order_and_first_activity              338.464838  \n",
       "days_between_first_and_last_activities             348.980921  \n",
       "...                                                       ...  \n",
       "var_Assurance11                                           0.0  \n",
       "var_Assurance12                                           0.0  \n",
       "var_Assurance13                                           0.0  \n",
       "var_Assurance14                                           0.0  \n",
       "var_Assurance15                                      0.340335  \n",
       "\n",
       "[448 rows x 8 columns]"
      ]
     },
     "execution_count": 37,
     "metadata": {},
     "output_type": "execute_result"
    }
   ],
   "source": [
    "#url = \"C:/Users/damso/Documents/data/base_Edu.parquet\"\n",
    "df=base_assu\n",
    "df.describe().T"
   ]
  },
  {
   "cell_type": "code",
   "execution_count": 38,
   "metadata": {},
   "outputs": [
    {
     "data": {
      "text/html": [
       "<div>\n",
       "<style scoped>\n",
       "    .dataframe tbody tr th:only-of-type {\n",
       "        vertical-align: middle;\n",
       "    }\n",
       "\n",
       "    .dataframe tbody tr th {\n",
       "        vertical-align: top;\n",
       "    }\n",
       "\n",
       "    .dataframe thead th {\n",
       "        text-align: right;\n",
       "    }\n",
       "</style>\n",
       "<table border=\"1\" class=\"dataframe\">\n",
       "  <thead>\n",
       "    <tr style=\"text-align: right;\">\n",
       "      <th></th>\n",
       "      <th>learner_id</th>\n",
       "      <th>job_number</th>\n",
       "      <th>unique_learner_id_1</th>\n",
       "      <th>days_between_signup_and_first_activity_1</th>\n",
       "      <th>days_between_order_and_first_activity_1</th>\n",
       "      <th>days_between_first_and_last_activities_1</th>\n",
       "      <th>chapter_before_success_count_1</th>\n",
       "      <th>serie_before_success_count_1</th>\n",
       "      <th>quiz_before_success_count_1</th>\n",
       "      <th>theory_activities_total_1</th>\n",
       "      <th>...</th>\n",
       "      <th>var_Assurance6</th>\n",
       "      <th>var_Assurance7</th>\n",
       "      <th>var_Assurance8</th>\n",
       "      <th>var_Assurance9</th>\n",
       "      <th>var_Assurance10</th>\n",
       "      <th>var_Assurance11</th>\n",
       "      <th>var_Assurance12</th>\n",
       "      <th>var_Assurance13</th>\n",
       "      <th>var_Assurance14</th>\n",
       "      <th>var_Assurance15</th>\n",
       "    </tr>\n",
       "  </thead>\n",
       "  <tbody>\n",
       "    <tr>\n",
       "      <th>0</th>\n",
       "      <td>2032674</td>\n",
       "      <td>5952452787</td>\n",
       "      <td>-5911177134761577615</td>\n",
       "      <td>157</td>\n",
       "      <td>157</td>\n",
       "      <td>195</td>\n",
       "      <td>0</td>\n",
       "      <td>0</td>\n",
       "      <td>0</td>\n",
       "      <td>42</td>\n",
       "      <td>...</td>\n",
       "      <td>0</td>\n",
       "      <td>0</td>\n",
       "      <td>0</td>\n",
       "      <td>0</td>\n",
       "      <td>0</td>\n",
       "      <td>0</td>\n",
       "      <td>0</td>\n",
       "      <td>0</td>\n",
       "      <td>0</td>\n",
       "      <td>0</td>\n",
       "    </tr>\n",
       "    <tr>\n",
       "      <th>1</th>\n",
       "      <td>893514</td>\n",
       "      <td>6956583814</td>\n",
       "      <td>8022228279541171063</td>\n",
       "      <td>7</td>\n",
       "      <td>8</td>\n",
       "      <td>819</td>\n",
       "      <td>0</td>\n",
       "      <td>0</td>\n",
       "      <td>0</td>\n",
       "      <td>26</td>\n",
       "      <td>...</td>\n",
       "      <td>0</td>\n",
       "      <td>0</td>\n",
       "      <td>0</td>\n",
       "      <td>0</td>\n",
       "      <td>0</td>\n",
       "      <td>0</td>\n",
       "      <td>0</td>\n",
       "      <td>0</td>\n",
       "      <td>0</td>\n",
       "      <td>0</td>\n",
       "    </tr>\n",
       "    <tr>\n",
       "      <th>2</th>\n",
       "      <td>2858364</td>\n",
       "      <td>1547176297</td>\n",
       "      <td>4508976855497020988</td>\n",
       "      <td>0</td>\n",
       "      <td>-32</td>\n",
       "      <td>0</td>\n",
       "      <td>0</td>\n",
       "      <td>0</td>\n",
       "      <td>0</td>\n",
       "      <td>1</td>\n",
       "      <td>...</td>\n",
       "      <td>0</td>\n",
       "      <td>0</td>\n",
       "      <td>0</td>\n",
       "      <td>0</td>\n",
       "      <td>0</td>\n",
       "      <td>0</td>\n",
       "      <td>0</td>\n",
       "      <td>0</td>\n",
       "      <td>0</td>\n",
       "      <td>0</td>\n",
       "    </tr>\n",
       "    <tr>\n",
       "      <th>3</th>\n",
       "      <td>1362204</td>\n",
       "      <td>3464728867</td>\n",
       "      <td>2395000730355774468</td>\n",
       "      <td>0</td>\n",
       "      <td>0</td>\n",
       "      <td>376</td>\n",
       "      <td>0</td>\n",
       "      <td>0</td>\n",
       "      <td>0</td>\n",
       "      <td>288</td>\n",
       "      <td>...</td>\n",
       "      <td>0</td>\n",
       "      <td>1</td>\n",
       "      <td>3</td>\n",
       "      <td>0</td>\n",
       "      <td>0</td>\n",
       "      <td>0</td>\n",
       "      <td>0</td>\n",
       "      <td>0</td>\n",
       "      <td>0</td>\n",
       "      <td>0</td>\n",
       "    </tr>\n",
       "    <tr>\n",
       "      <th>4</th>\n",
       "      <td>1054230</td>\n",
       "      <td>1534163688</td>\n",
       "      <td>1056703805299986938</td>\n",
       "      <td>64</td>\n",
       "      <td>0</td>\n",
       "      <td>691</td>\n",
       "      <td>0</td>\n",
       "      <td>109</td>\n",
       "      <td>0</td>\n",
       "      <td>156</td>\n",
       "      <td>...</td>\n",
       "      <td>0</td>\n",
       "      <td>0</td>\n",
       "      <td>0</td>\n",
       "      <td>0</td>\n",
       "      <td>0</td>\n",
       "      <td>0</td>\n",
       "      <td>0</td>\n",
       "      <td>0</td>\n",
       "      <td>0</td>\n",
       "      <td>0</td>\n",
       "    </tr>\n",
       "    <tr>\n",
       "      <th>...</th>\n",
       "      <td>...</td>\n",
       "      <td>...</td>\n",
       "      <td>...</td>\n",
       "      <td>...</td>\n",
       "      <td>...</td>\n",
       "      <td>...</td>\n",
       "      <td>...</td>\n",
       "      <td>...</td>\n",
       "      <td>...</td>\n",
       "      <td>...</td>\n",
       "      <td>...</td>\n",
       "      <td>...</td>\n",
       "      <td>...</td>\n",
       "      <td>...</td>\n",
       "      <td>...</td>\n",
       "      <td>...</td>\n",
       "      <td>...</td>\n",
       "      <td>...</td>\n",
       "      <td>...</td>\n",
       "      <td>...</td>\n",
       "      <td>...</td>\n",
       "    </tr>\n",
       "    <tr>\n",
       "      <th>69393</th>\n",
       "      <td>3793717</td>\n",
       "      <td>2234733812</td>\n",
       "      <td>-872146316430440559</td>\n",
       "      <td>0</td>\n",
       "      <td>0</td>\n",
       "      <td>372</td>\n",
       "      <td>0</td>\n",
       "      <td>57</td>\n",
       "      <td>18</td>\n",
       "      <td>193</td>\n",
       "      <td>...</td>\n",
       "      <td>0</td>\n",
       "      <td>0</td>\n",
       "      <td>0</td>\n",
       "      <td>0</td>\n",
       "      <td>0</td>\n",
       "      <td>0</td>\n",
       "      <td>0</td>\n",
       "      <td>0</td>\n",
       "      <td>0</td>\n",
       "      <td>0</td>\n",
       "    </tr>\n",
       "    <tr>\n",
       "      <th>69394</th>\n",
       "      <td>2775978</td>\n",
       "      <td>1784701608</td>\n",
       "      <td>-3415706474168471139</td>\n",
       "      <td>109</td>\n",
       "      <td>109</td>\n",
       "      <td>270</td>\n",
       "      <td>0</td>\n",
       "      <td>50</td>\n",
       "      <td>0</td>\n",
       "      <td>51</td>\n",
       "      <td>...</td>\n",
       "      <td>0</td>\n",
       "      <td>0</td>\n",
       "      <td>0</td>\n",
       "      <td>0</td>\n",
       "      <td>0</td>\n",
       "      <td>0</td>\n",
       "      <td>0</td>\n",
       "      <td>0</td>\n",
       "      <td>0</td>\n",
       "      <td>0</td>\n",
       "    </tr>\n",
       "    <tr>\n",
       "      <th>69395</th>\n",
       "      <td>2102507</td>\n",
       "      <td>7135995107</td>\n",
       "      <td>-1958338314080661076</td>\n",
       "      <td>672</td>\n",
       "      <td>665</td>\n",
       "      <td>613</td>\n",
       "      <td>0</td>\n",
       "      <td>93</td>\n",
       "      <td>321</td>\n",
       "      <td>603</td>\n",
       "      <td>...</td>\n",
       "      <td>0</td>\n",
       "      <td>0</td>\n",
       "      <td>0</td>\n",
       "      <td>0</td>\n",
       "      <td>0</td>\n",
       "      <td>0</td>\n",
       "      <td>0</td>\n",
       "      <td>0</td>\n",
       "      <td>0</td>\n",
       "      <td>0</td>\n",
       "    </tr>\n",
       "    <tr>\n",
       "      <th>69396</th>\n",
       "      <td>2862021</td>\n",
       "      <td>1866260241</td>\n",
       "      <td>-7394860117143701634</td>\n",
       "      <td>113</td>\n",
       "      <td>114</td>\n",
       "      <td>76</td>\n",
       "      <td>0</td>\n",
       "      <td>0</td>\n",
       "      <td>0</td>\n",
       "      <td>120</td>\n",
       "      <td>...</td>\n",
       "      <td>0</td>\n",
       "      <td>0</td>\n",
       "      <td>0</td>\n",
       "      <td>0</td>\n",
       "      <td>0</td>\n",
       "      <td>0</td>\n",
       "      <td>0</td>\n",
       "      <td>0</td>\n",
       "      <td>0</td>\n",
       "      <td>0</td>\n",
       "    </tr>\n",
       "    <tr>\n",
       "      <th>69397</th>\n",
       "      <td>3025251</td>\n",
       "      <td>4027814965</td>\n",
       "      <td>728065250042229337</td>\n",
       "      <td>0</td>\n",
       "      <td>1</td>\n",
       "      <td>595</td>\n",
       "      <td>0</td>\n",
       "      <td>0</td>\n",
       "      <td>0</td>\n",
       "      <td>193</td>\n",
       "      <td>...</td>\n",
       "      <td>0</td>\n",
       "      <td>0</td>\n",
       "      <td>0</td>\n",
       "      <td>0</td>\n",
       "      <td>0</td>\n",
       "      <td>0</td>\n",
       "      <td>0</td>\n",
       "      <td>0</td>\n",
       "      <td>0</td>\n",
       "      <td>0</td>\n",
       "    </tr>\n",
       "  </tbody>\n",
       "</table>\n",
       "<p>69398 rows × 487 columns</p>\n",
       "</div>"
      ],
      "text/plain": [
       "       learner_id  job_number   unique_learner_id_1  \\\n",
       "0         2032674  5952452787  -5911177134761577615   \n",
       "1          893514  6956583814   8022228279541171063   \n",
       "2         2858364  1547176297   4508976855497020988   \n",
       "3         1362204  3464728867   2395000730355774468   \n",
       "4         1054230  1534163688   1056703805299986938   \n",
       "...           ...         ...                   ...   \n",
       "69393     3793717  2234733812   -872146316430440559   \n",
       "69394     2775978  1784701608  -3415706474168471139   \n",
       "69395     2102507  7135995107  -1958338314080661076   \n",
       "69396     2862021  1866260241  -7394860117143701634   \n",
       "69397     3025251  4027814965    728065250042229337   \n",
       "\n",
       "       days_between_signup_and_first_activity_1  \\\n",
       "0                                           157   \n",
       "1                                             7   \n",
       "2                                             0   \n",
       "3                                             0   \n",
       "4                                            64   \n",
       "...                                         ...   \n",
       "69393                                         0   \n",
       "69394                                       109   \n",
       "69395                                       672   \n",
       "69396                                       113   \n",
       "69397                                         0   \n",
       "\n",
       "       days_between_order_and_first_activity_1  \\\n",
       "0                                          157   \n",
       "1                                            8   \n",
       "2                                          -32   \n",
       "3                                            0   \n",
       "4                                            0   \n",
       "...                                        ...   \n",
       "69393                                        0   \n",
       "69394                                      109   \n",
       "69395                                      665   \n",
       "69396                                      114   \n",
       "69397                                        1   \n",
       "\n",
       "       days_between_first_and_last_activities_1  \\\n",
       "0                                           195   \n",
       "1                                           819   \n",
       "2                                             0   \n",
       "3                                           376   \n",
       "4                                           691   \n",
       "...                                         ...   \n",
       "69393                                       372   \n",
       "69394                                       270   \n",
       "69395                                       613   \n",
       "69396                                        76   \n",
       "69397                                       595   \n",
       "\n",
       "       chapter_before_success_count_1  serie_before_success_count_1  \\\n",
       "0                                   0                             0   \n",
       "1                                   0                             0   \n",
       "2                                   0                             0   \n",
       "3                                   0                             0   \n",
       "4                                   0                           109   \n",
       "...                               ...                           ...   \n",
       "69393                               0                            57   \n",
       "69394                               0                            50   \n",
       "69395                               0                            93   \n",
       "69396                               0                             0   \n",
       "69397                               0                             0   \n",
       "\n",
       "       quiz_before_success_count_1  theory_activities_total_1  ...  \\\n",
       "0                                0                         42  ...   \n",
       "1                                0                         26  ...   \n",
       "2                                0                          1  ...   \n",
       "3                                0                        288  ...   \n",
       "4                                0                        156  ...   \n",
       "...                            ...                        ...  ...   \n",
       "69393                           18                        193  ...   \n",
       "69394                            0                         51  ...   \n",
       "69395                          321                        603  ...   \n",
       "69396                            0                        120  ...   \n",
       "69397                            0                        193  ...   \n",
       "\n",
       "       var_Assurance6  var_Assurance7  var_Assurance8  var_Assurance9  \\\n",
       "0                   0               0               0               0   \n",
       "1                   0               0               0               0   \n",
       "2                   0               0               0               0   \n",
       "3                   0               1               3               0   \n",
       "4                   0               0               0               0   \n",
       "...               ...             ...             ...             ...   \n",
       "69393               0               0               0               0   \n",
       "69394               0               0               0               0   \n",
       "69395               0               0               0               0   \n",
       "69396               0               0               0               0   \n",
       "69397               0               0               0               0   \n",
       "\n",
       "       var_Assurance10  var_Assurance11  var_Assurance12  var_Assurance13  \\\n",
       "0                    0                0                0                0   \n",
       "1                    0                0                0                0   \n",
       "2                    0                0                0                0   \n",
       "3                    0                0                0                0   \n",
       "4                    0                0                0                0   \n",
       "...                ...              ...              ...              ...   \n",
       "69393                0                0                0                0   \n",
       "69394                0                0                0                0   \n",
       "69395                0                0                0                0   \n",
       "69396                0                0                0                0   \n",
       "69397                0                0                0                0   \n",
       "\n",
       "       var_Assurance14  var_Assurance15  \n",
       "0                    0                0  \n",
       "1                    0                0  \n",
       "2                    0                0  \n",
       "3                    0                0  \n",
       "4                    0                0  \n",
       "...                ...              ...  \n",
       "69393                0                0  \n",
       "69394                0                0  \n",
       "69395                0                0  \n",
       "69396                0                0  \n",
       "69397                0                0  \n",
       "\n",
       "[69398 rows x 487 columns]"
      ]
     },
     "execution_count": 38,
     "metadata": {},
     "output_type": "execute_result"
    }
   ],
   "source": [
    "# restriction de la base Edu aux variables communes aux bases ASU et EDU\n",
    "# pour voir les variables qui ne sont pas communes aux deux bases dans la base asu \n",
    "columns=[] # contient les colonnes communes aux deux bases \n",
    "for column in base_Edu1.columns:\n",
    "    if column in df.columns:\n",
    "        columns.append(column)\n",
    "#base_AE=base_AE[columns]\n",
    "df.drop(columns, axis=1)\n"
   ]
  },
  {
   "cell_type": "code",
   "execution_count": 42,
   "metadata": {},
   "outputs": [
    {
     "data": {
      "text/html": [
       "<div>\n",
       "<style scoped>\n",
       "    .dataframe tbody tr th:only-of-type {\n",
       "        vertical-align: middle;\n",
       "    }\n",
       "\n",
       "    .dataframe tbody tr th {\n",
       "        vertical-align: top;\n",
       "    }\n",
       "\n",
       "    .dataframe thead th {\n",
       "        text-align: right;\n",
       "    }\n",
       "</style>\n",
       "<table border=\"1\" class=\"dataframe\">\n",
       "  <thead>\n",
       "    <tr style=\"text-align: right;\">\n",
       "      <th></th>\n",
       "      <th>unique_learner_id</th>\n",
       "      <th>learner_id</th>\n",
       "      <th>job_number</th>\n",
       "      <th>days_between_signup_and_first_activity</th>\n",
       "      <th>days_between_order_and_first_activity</th>\n",
       "      <th>days_between_first_and_last_activities</th>\n",
       "      <th>chapter_before_success_count</th>\n",
       "      <th>serie_before_success_count</th>\n",
       "      <th>quiz_before_success_count</th>\n",
       "      <th>theory_activities_total</th>\n",
       "      <th>...</th>\n",
       "      <th>var_Assurance6</th>\n",
       "      <th>var_Assurance7</th>\n",
       "      <th>var_Assurance8</th>\n",
       "      <th>var_Assurance9</th>\n",
       "      <th>var_Assurance10</th>\n",
       "      <th>var_Assurance11</th>\n",
       "      <th>var_Assurance12</th>\n",
       "      <th>var_Assurance13</th>\n",
       "      <th>var_Assurance14</th>\n",
       "      <th>var_Assurance15</th>\n",
       "    </tr>\n",
       "  </thead>\n",
       "  <tbody>\n",
       "    <tr>\n",
       "      <th>0</th>\n",
       "      <td>-5911177134761577615</td>\n",
       "      <td>2032674</td>\n",
       "      <td>5952452787</td>\n",
       "      <td>157</td>\n",
       "      <td>157</td>\n",
       "      <td>195</td>\n",
       "      <td>0</td>\n",
       "      <td>0</td>\n",
       "      <td>0</td>\n",
       "      <td>42</td>\n",
       "      <td>...</td>\n",
       "      <td>0</td>\n",
       "      <td>0</td>\n",
       "      <td>0</td>\n",
       "      <td>0</td>\n",
       "      <td>0</td>\n",
       "      <td>0</td>\n",
       "      <td>0</td>\n",
       "      <td>0</td>\n",
       "      <td>0</td>\n",
       "      <td>0</td>\n",
       "    </tr>\n",
       "    <tr>\n",
       "      <th>1</th>\n",
       "      <td>8022228279541171063</td>\n",
       "      <td>893514</td>\n",
       "      <td>6956583814</td>\n",
       "      <td>7</td>\n",
       "      <td>8</td>\n",
       "      <td>819</td>\n",
       "      <td>0</td>\n",
       "      <td>0</td>\n",
       "      <td>0</td>\n",
       "      <td>26</td>\n",
       "      <td>...</td>\n",
       "      <td>0</td>\n",
       "      <td>0</td>\n",
       "      <td>0</td>\n",
       "      <td>0</td>\n",
       "      <td>0</td>\n",
       "      <td>0</td>\n",
       "      <td>0</td>\n",
       "      <td>0</td>\n",
       "      <td>0</td>\n",
       "      <td>0</td>\n",
       "    </tr>\n",
       "    <tr>\n",
       "      <th>2</th>\n",
       "      <td>4508976855497020988</td>\n",
       "      <td>2858364</td>\n",
       "      <td>1547176297</td>\n",
       "      <td>0</td>\n",
       "      <td>-32</td>\n",
       "      <td>0</td>\n",
       "      <td>0</td>\n",
       "      <td>0</td>\n",
       "      <td>0</td>\n",
       "      <td>1</td>\n",
       "      <td>...</td>\n",
       "      <td>0</td>\n",
       "      <td>0</td>\n",
       "      <td>0</td>\n",
       "      <td>0</td>\n",
       "      <td>0</td>\n",
       "      <td>0</td>\n",
       "      <td>0</td>\n",
       "      <td>0</td>\n",
       "      <td>0</td>\n",
       "      <td>0</td>\n",
       "    </tr>\n",
       "    <tr>\n",
       "      <th>3</th>\n",
       "      <td>2395000730355774468</td>\n",
       "      <td>1362204</td>\n",
       "      <td>3464728867</td>\n",
       "      <td>0</td>\n",
       "      <td>0</td>\n",
       "      <td>376</td>\n",
       "      <td>0</td>\n",
       "      <td>0</td>\n",
       "      <td>0</td>\n",
       "      <td>288</td>\n",
       "      <td>...</td>\n",
       "      <td>0</td>\n",
       "      <td>1</td>\n",
       "      <td>3</td>\n",
       "      <td>0</td>\n",
       "      <td>0</td>\n",
       "      <td>0</td>\n",
       "      <td>0</td>\n",
       "      <td>0</td>\n",
       "      <td>0</td>\n",
       "      <td>0</td>\n",
       "    </tr>\n",
       "    <tr>\n",
       "      <th>4</th>\n",
       "      <td>1056703805299986938</td>\n",
       "      <td>1054230</td>\n",
       "      <td>1534163688</td>\n",
       "      <td>64</td>\n",
       "      <td>0</td>\n",
       "      <td>691</td>\n",
       "      <td>0</td>\n",
       "      <td>109</td>\n",
       "      <td>0</td>\n",
       "      <td>156</td>\n",
       "      <td>...</td>\n",
       "      <td>0</td>\n",
       "      <td>0</td>\n",
       "      <td>0</td>\n",
       "      <td>0</td>\n",
       "      <td>0</td>\n",
       "      <td>0</td>\n",
       "      <td>0</td>\n",
       "      <td>0</td>\n",
       "      <td>0</td>\n",
       "      <td>0</td>\n",
       "    </tr>\n",
       "  </tbody>\n",
       "</table>\n",
       "<p>5 rows × 489 columns</p>\n",
       "</div>"
      ],
      "text/plain": [
       "      unique_learner_id  learner_id  job_number  \\\n",
       "0  -5911177134761577615     2032674  5952452787   \n",
       "1   8022228279541171063      893514  6956583814   \n",
       "2   4508976855497020988     2858364  1547176297   \n",
       "3   2395000730355774468     1362204  3464728867   \n",
       "4   1056703805299986938     1054230  1534163688   \n",
       "\n",
       "   days_between_signup_and_first_activity  \\\n",
       "0                                     157   \n",
       "1                                       7   \n",
       "2                                       0   \n",
       "3                                       0   \n",
       "4                                      64   \n",
       "\n",
       "   days_between_order_and_first_activity  \\\n",
       "0                                    157   \n",
       "1                                      8   \n",
       "2                                    -32   \n",
       "3                                      0   \n",
       "4                                      0   \n",
       "\n",
       "   days_between_first_and_last_activities  chapter_before_success_count  \\\n",
       "0                                     195                             0   \n",
       "1                                     819                             0   \n",
       "2                                       0                             0   \n",
       "3                                     376                             0   \n",
       "4                                     691                             0   \n",
       "\n",
       "   serie_before_success_count  quiz_before_success_count  \\\n",
       "0                           0                          0   \n",
       "1                           0                          0   \n",
       "2                           0                          0   \n",
       "3                           0                          0   \n",
       "4                         109                          0   \n",
       "\n",
       "   theory_activities_total  ...  var_Assurance6  var_Assurance7  \\\n",
       "0                       42  ...               0               0   \n",
       "1                       26  ...               0               0   \n",
       "2                        1  ...               0               0   \n",
       "3                      288  ...               0               1   \n",
       "4                      156  ...               0               0   \n",
       "\n",
       "   var_Assurance8  var_Assurance9  var_Assurance10  var_Assurance11  \\\n",
       "0               0               0                0                0   \n",
       "1               0               0                0                0   \n",
       "2               0               0                0                0   \n",
       "3               3               0                0                0   \n",
       "4               0               0                0                0   \n",
       "\n",
       "   var_Assurance12  var_Assurance13  var_Assurance14  var_Assurance15  \n",
       "0                0                0                0                0  \n",
       "1                0                0                0                0  \n",
       "2                0                0                0                0  \n",
       "3                0                0                0                0  \n",
       "4                0                0                0                0  \n",
       "\n",
       "[5 rows x 489 columns]"
      ]
     },
     "execution_count": 42,
     "metadata": {},
     "output_type": "execute_result"
    }
   ],
   "source": [
    "#suppression des colonnes doubles\n",
    "columns_double=df.drop(columns, axis=1).drop(['learner_id',\t'job_number','unique_learner_id_1','var_Assurance0', 'var_Assurance1', 'var_Assurance2', 'var_Assurance3',\n",
    "       'var_Assurance4', 'var_Assurance5', 'var_Assurance6', 'var_Assurance7',\n",
    "       'var_Assurance8', 'var_Assurance9', 'var_Assurance10',\n",
    "       'var_Assurance11', 'var_Assurance12', 'var_Assurance13',\n",
    "       'var_Assurance14', 'var_Assurance15'],axis=1).columns\n",
    "\n",
    "df=df.drop(columns_double, axis=1)\n",
    "df.head()"
   ]
  },
  {
   "cell_type": "code",
   "execution_count": 43,
   "metadata": {},
   "outputs": [
    {
     "data": {
      "text/plain": [
       "(66692, 489)"
      ]
     },
     "execution_count": 43,
     "metadata": {},
     "output_type": "execute_result"
    }
   ],
   "source": [
    "# supression des lignes doubles\n",
    "df = df.drop_duplicates()\n",
    "df.shape"
   ]
  },
  {
   "cell_type": "code",
   "execution_count": 44,
   "metadata": {},
   "outputs": [
    {
     "data": {
      "text/plain": [
       "Index(['unique_learner_id', 'learner_id', 'job_number',\n",
       "       'days_between_signup_and_first_activity',\n",
       "       'days_between_order_and_first_activity',\n",
       "       'days_between_first_and_last_activities',\n",
       "       'chapter_before_success_count', 'serie_before_success_count',\n",
       "       'quiz_before_success_count', 'theory_activities_total',\n",
       "       ...\n",
       "       'var_Assurance6', 'var_Assurance7', 'var_Assurance8', 'var_Assurance9',\n",
       "       'var_Assurance10', 'var_Assurance11', 'var_Assurance12',\n",
       "       'var_Assurance13', 'var_Assurance14', 'var_Assurance15'],\n",
       "      dtype='object', length=489)"
      ]
     },
     "execution_count": 44,
     "metadata": {},
     "output_type": "execute_result"
    }
   ],
   "source": [
    "df.columns"
   ]
  },
  {
   "cell_type": "code",
   "execution_count": 45,
   "metadata": {},
   "outputs": [],
   "source": [
    "# on supprime les variables qui ont été supprimer dans la base edu, ainsi que les variables inutiles\n",
    "df_new=df.drop(columns_delete + [\"unique_learner_id\",\"learner_id\",\"job_number\",\"first_theory_activity_date\",'unique_learner_id_1'], axis=1)\n"
   ]
  },
  {
   "cell_type": "code",
   "execution_count": 46,
   "metadata": {},
   "outputs": [
    {
     "name": "stdout",
     "output_type": "stream",
     "text": [
      "24  variables de type int ont des valeurs manquantes\n",
      "24  variables de type float ont des valeurs manquantes\n",
      "253  variables de type boolean ont des valeurs manquantes\n",
      "0  variables de type datetime ont des valeurs manquantes\n"
     ]
    }
   ],
   "source": [
    "print(df_new.select_dtypes(\"int\").isnull().any().sum(),\" variables de type int ont des valeurs manquantes\")\n",
    "print(df_new.select_dtypes(\"float\").isnull().any().sum(),\" variables de type float ont des valeurs manquantes\")\n",
    "print(df_new.select_dtypes(\"boolean\").isnull().any().sum(),\" variables de type boolean ont des valeurs manquantes\")\n",
    "print(df_new.select_dtypes(\"datetime\").isnull().any().sum(),\" variables de type datetime ont des valeurs manquantes\")"
   ]
  },
  {
   "cell_type": "code",
   "execution_count": 47,
   "metadata": {},
   "outputs": [],
   "source": [
    "#print(base_Edu.select_dtypes('category'))\n",
    "def encode_column_with_na(col):\n",
    "    mapping = {True: 1, False: 0, pd.NA: 2}  # Encoder les valeurs booléennes et <NA>\n",
    "    return col.map(mapping)\n",
    "colboo=df_new.select_dtypes(\"boolean\").columns\n",
    "for col in colboo:\n",
    "    df_new[col] = encode_column_with_na(df_new[col]).astype(\"category\")\n",
    "#base_Edu[\"is_first_exam_success\"].cat.categories"
   ]
  },
  {
   "cell_type": "code",
   "execution_count": 48,
   "metadata": {},
   "outputs": [
    {
     "data": {
      "text/plain": [
       "count    0.0\n",
       "mean     NaN\n",
       "std      NaN\n",
       "min      NaN\n",
       "25%      NaN\n",
       "50%      NaN\n",
       "75%      NaN\n",
       "max      NaN\n",
       "dtype: float64"
      ]
     },
     "execution_count": 48,
     "metadata": {},
     "output_type": "execute_result"
    }
   ],
   "source": [
    "miss_quant=df_new.select_dtypes(include=[\"int\",\"float\"]).isnull().sum()/len(df_new)\n",
    "miss_quant[miss_quant>0.20].describe()"
   ]
  },
  {
   "cell_type": "code",
   "execution_count": 49,
   "metadata": {},
   "outputs": [],
   "source": [
    "#imputation par la médiane\n",
    "col=df_new.select_dtypes(exclude='category').columns\n",
    "df_new[col] = df_new[col].fillna(df_new[col].median())"
   ]
  },
  {
   "cell_type": "code",
   "execution_count": 50,
   "metadata": {},
   "outputs": [],
   "source": [
    "var_assurance=['var_Assurance0', 'var_Assurance1', 'var_Assurance2', 'var_Assurance3',\n",
    "       'var_Assurance4', 'var_Assurance5', 'var_Assurance6', 'var_Assurance7',\n",
    "       'var_Assurance8', 'var_Assurance9', 'var_Assurance10',\n",
    "       'var_Assurance11', 'var_Assurance12', 'var_Assurance13',\n",
    "       'var_Assurance14', 'var_Assurance15']"
   ]
  },
  {
   "cell_type": "markdown",
   "metadata": {},
   "source": [
    "### Projection des variables dans l'espace latent"
   ]
  },
  {
   "cell_type": "code",
   "execution_count": 51,
   "metadata": {},
   "outputs": [
    {
     "data": {
      "text/plain": [
       "(66693, 380)"
      ]
     },
     "execution_count": 51,
     "metadata": {},
     "output_type": "execute_result"
    }
   ],
   "source": [
    "#on duplique l'observation pour qu'il n'y ait pas d'erreur lors de la division des données en données d'entrainement et données de test car la \n",
    "# stratification voudrait au moins deux observations par classe\n",
    "df_duplicate = df_new[df_new[\"var_Assurance2\"]==3]  # Sélection des lignes à dupliquer\n",
    "df_new = pd.concat([df_new, df_duplicate], ignore_index=True)\n",
    "df_new.shape"
   ]
  },
  {
   "cell_type": "code",
   "execution_count": 52,
   "metadata": {},
   "outputs": [
    {
     "name": "stdout",
     "output_type": "stream",
     "text": [
      "\u001b[1m2085/2085\u001b[0m \u001b[32m━━━━━━━━━━━━━━━━━━━━\u001b[0m\u001b[37m\u001b[0m \u001b[1m2s\u001b[0m 998us/step\n"
     ]
    }
   ],
   "source": [
    "# traitement des données de la base ASU en entrée du modèle\n",
    "\n",
    "X_to_predict= df_new.drop(var_assurance, axis=1)\n",
    "# Récupérer les colonnes numériques et catégoriques\n",
    "numerical_cols = X_to_predict.select_dtypes(include=['int', 'float']).columns\n",
    "categorical_cols = X_to_predict.select_dtypes(include=['category', 'object','boolean']).columns\n",
    "\n",
    "# Encodage des variables catégoriques avec OneHotEncoder\n",
    "oneencoder = OneHotEncoder(sparse_output=False)\n",
    "encoded_cats = oneencoder.fit_transform(X_to_predict[categorical_cols])\n",
    "\n",
    "# Récupérer les noms des colonnes générées par OneHotEncoder\n",
    "encoded_cat_columns = oneencoder.get_feature_names_out(categorical_cols)\n",
    "\n",
    "# Centrage et réduction des variables numériques\n",
    "scaler = MinMaxScaler(feature_range=(0, 1))\n",
    "scaled_nums = scaler.fit_transform(X_to_predict[numerical_cols])\n",
    "\n",
    "# Fusionner les données encodées et normalisées\n",
    "final_data = np.hstack([encoded_cats, scaled_nums])\n",
    "\n",
    "# Concaténer les noms des colonnes finales\n",
    "final_columns = list(encoded_cat_columns) + list(numerical_cols)\n",
    "\n",
    "# construction du code latent pour la base ASU, projection dans l'espace latent de l'auto encodeur construit précédemment\n",
    "encoded_imgs = encoder.predict(final_data)\n"
   ]
  },
  {
   "cell_type": "markdown",
   "metadata": {},
   "source": [
    "### **Prédiction du risque corporel**"
   ]
  },
  {
   "cell_type": "code",
   "execution_count": 57,
   "metadata": {},
   "outputs": [
    {
     "data": {
      "text/html": [
       "<div>\n",
       "<style scoped>\n",
       "    .dataframe tbody tr th:only-of-type {\n",
       "        vertical-align: middle;\n",
       "    }\n",
       "\n",
       "    .dataframe tbody tr th {\n",
       "        vertical-align: top;\n",
       "    }\n",
       "\n",
       "    .dataframe thead th {\n",
       "        text-align: right;\n",
       "    }\n",
       "</style>\n",
       "<table border=\"1\" class=\"dataframe\">\n",
       "  <thead>\n",
       "    <tr style=\"text-align: right;\">\n",
       "      <th></th>\n",
       "      <th>var_Assurance0</th>\n",
       "      <th>var_Assurance1</th>\n",
       "      <th>var_Assurance2</th>\n",
       "      <th>var_Assurance3</th>\n",
       "      <th>var_Assurance4</th>\n",
       "      <th>var_Assurance5</th>\n",
       "      <th>var_Assurance6</th>\n",
       "      <th>var_Assurance7</th>\n",
       "      <th>var_Assurance8</th>\n",
       "      <th>var_Assurance9</th>\n",
       "      <th>var_Assurance10</th>\n",
       "      <th>var_Assurance11</th>\n",
       "      <th>var_Assurance12</th>\n",
       "      <th>var_Assurance13</th>\n",
       "      <th>var_Assurance14</th>\n",
       "      <th>var_Assurance15</th>\n",
       "      <th>facteur1</th>\n",
       "      <th>facteur2</th>\n",
       "      <th>facteur3</th>\n",
       "    </tr>\n",
       "  </thead>\n",
       "  <tbody>\n",
       "    <tr>\n",
       "      <th>0</th>\n",
       "      <td>80</td>\n",
       "      <td>2.75</td>\n",
       "      <td>0</td>\n",
       "      <td>0</td>\n",
       "      <td>0</td>\n",
       "      <td>0</td>\n",
       "      <td>0</td>\n",
       "      <td>0</td>\n",
       "      <td>0</td>\n",
       "      <td>0</td>\n",
       "      <td>0</td>\n",
       "      <td>0</td>\n",
       "      <td>0</td>\n",
       "      <td>0</td>\n",
       "      <td>0</td>\n",
       "      <td>0</td>\n",
       "      <td>1.837339</td>\n",
       "      <td>2.159837</td>\n",
       "      <td>29.258821</td>\n",
       "    </tr>\n",
       "    <tr>\n",
       "      <th>1</th>\n",
       "      <td>3</td>\n",
       "      <td>1.54</td>\n",
       "      <td>0</td>\n",
       "      <td>0</td>\n",
       "      <td>0</td>\n",
       "      <td>0</td>\n",
       "      <td>0</td>\n",
       "      <td>0</td>\n",
       "      <td>0</td>\n",
       "      <td>0</td>\n",
       "      <td>0</td>\n",
       "      <td>0</td>\n",
       "      <td>0</td>\n",
       "      <td>0</td>\n",
       "      <td>0</td>\n",
       "      <td>0</td>\n",
       "      <td>-8.336267</td>\n",
       "      <td>-0.476025</td>\n",
       "      <td>22.595692</td>\n",
       "    </tr>\n",
       "    <tr>\n",
       "      <th>2</th>\n",
       "      <td>78</td>\n",
       "      <td>1.00</td>\n",
       "      <td>0</td>\n",
       "      <td>0</td>\n",
       "      <td>0</td>\n",
       "      <td>0</td>\n",
       "      <td>0</td>\n",
       "      <td>0</td>\n",
       "      <td>0</td>\n",
       "      <td>0</td>\n",
       "      <td>0</td>\n",
       "      <td>0</td>\n",
       "      <td>0</td>\n",
       "      <td>0</td>\n",
       "      <td>0</td>\n",
       "      <td>0</td>\n",
       "      <td>1.800313</td>\n",
       "      <td>3.490731</td>\n",
       "      <td>29.080462</td>\n",
       "    </tr>\n",
       "    <tr>\n",
       "      <th>3</th>\n",
       "      <td>44</td>\n",
       "      <td>2.00</td>\n",
       "      <td>0</td>\n",
       "      <td>2</td>\n",
       "      <td>0</td>\n",
       "      <td>0</td>\n",
       "      <td>0</td>\n",
       "      <td>1</td>\n",
       "      <td>3</td>\n",
       "      <td>0</td>\n",
       "      <td>0</td>\n",
       "      <td>0</td>\n",
       "      <td>0</td>\n",
       "      <td>0</td>\n",
       "      <td>0</td>\n",
       "      <td>0</td>\n",
       "      <td>-8.192768</td>\n",
       "      <td>-1.574194</td>\n",
       "      <td>34.350758</td>\n",
       "    </tr>\n",
       "    <tr>\n",
       "      <th>4</th>\n",
       "      <td>91</td>\n",
       "      <td>1.88</td>\n",
       "      <td>0</td>\n",
       "      <td>0</td>\n",
       "      <td>0</td>\n",
       "      <td>0</td>\n",
       "      <td>0</td>\n",
       "      <td>0</td>\n",
       "      <td>0</td>\n",
       "      <td>0</td>\n",
       "      <td>0</td>\n",
       "      <td>0</td>\n",
       "      <td>0</td>\n",
       "      <td>0</td>\n",
       "      <td>0</td>\n",
       "      <td>0</td>\n",
       "      <td>1.790425</td>\n",
       "      <td>10.415071</td>\n",
       "      <td>17.511938</td>\n",
       "    </tr>\n",
       "  </tbody>\n",
       "</table>\n",
       "</div>"
      ],
      "text/plain": [
       "   var_Assurance0  var_Assurance1  var_Assurance2  var_Assurance3  \\\n",
       "0              80            2.75               0               0   \n",
       "1               3            1.54               0               0   \n",
       "2              78            1.00               0               0   \n",
       "3              44            2.00               0               2   \n",
       "4              91            1.88               0               0   \n",
       "\n",
       "   var_Assurance4  var_Assurance5  var_Assurance6  var_Assurance7  \\\n",
       "0               0               0               0               0   \n",
       "1               0               0               0               0   \n",
       "2               0               0               0               0   \n",
       "3               0               0               0               1   \n",
       "4               0               0               0               0   \n",
       "\n",
       "   var_Assurance8  var_Assurance9  var_Assurance10  var_Assurance11  \\\n",
       "0               0               0                0                0   \n",
       "1               0               0                0                0   \n",
       "2               0               0                0                0   \n",
       "3               3               0                0                0   \n",
       "4               0               0                0                0   \n",
       "\n",
       "   var_Assurance12  var_Assurance13  var_Assurance14  var_Assurance15  \\\n",
       "0                0                0                0                0   \n",
       "1                0                0                0                0   \n",
       "2                0                0                0                0   \n",
       "3                0                0                0                0   \n",
       "4                0                0                0                0   \n",
       "\n",
       "   facteur1   facteur2   facteur3  \n",
       "0  1.837339   2.159837  29.258821  \n",
       "1 -8.336267  -0.476025  22.595692  \n",
       "2  1.800313   3.490731  29.080462  \n",
       "3 -8.192768  -1.574194  34.350758  \n",
       "4  1.790425  10.415071  17.511938  "
      ]
     },
     "execution_count": 57,
     "metadata": {},
     "output_type": "execute_result"
    }
   ],
   "source": [
    "#construction de la nouvelle base\n",
    "nom_facteur=[\"facteur{}\".format(i) for i in np.arange(1,4)]\n",
    "col_to_delete = base_AE.columns.drop(\"first_theory_activity_date\")\n",
    "base = df_new.drop(col_to_delete, axis=1)\n",
    "base[nom_facteur]=encoded_imgs\n",
    "base.head()"
   ]
  },
  {
   "cell_type": "code",
   "execution_count": 59,
   "metadata": {},
   "outputs": [],
   "source": [
    " # suppression des variables constantes\n",
    "base=base.drop([\"var_Assurance11\",\"var_Assurance12\",\"var_Assurance13\",\"var_Assurance14\"],axis=1)"
   ]
  },
  {
   "cell_type": "markdown",
   "metadata": {},
   "source": [
    "Etant donnée que la variable cible est une variable de comptage, on fera l'hypothèse qu'elle suit une loi discrète classique. "
   ]
  },
  {
   "cell_type": "code",
   "execution_count": 60,
   "metadata": {},
   "outputs": [
    {
     "data": {
      "text/plain": [
       "0.006642376261376756"
      ]
     },
     "execution_count": 60,
     "metadata": {},
     "output_type": "execute_result"
    }
   ],
   "source": [
    "df_new[\"var_Assurance2\"].mean()"
   ]
  },
  {
   "cell_type": "code",
   "execution_count": 61,
   "metadata": {},
   "outputs": [
    {
     "data": {
      "text/plain": [
       "0.007348069143468633"
      ]
     },
     "execution_count": 61,
     "metadata": {},
     "output_type": "execute_result"
    }
   ],
   "source": [
    "df_new[\"var_Assurance2\"].var()"
   ]
  },
  {
   "cell_type": "markdown",
   "metadata": {},
   "source": [
    "# exportons à présent les données que nous utiliserons pour nos modélisation"
   ]
  },
  {
   "cell_type": "code",
   "execution_count": 62,
   "metadata": {},
   "outputs": [],
   "source": [
    "base.to_csv(\"C:/Users/damso/Documents/data/base_model.csv\", index=False,header=True,sep=\";\")"
   ]
  },
  {
   "cell_type": "markdown",
   "metadata": {},
   "source": [
    "Etant donnée que la différence entre la moyenne et la variance de cette variable est négligeable (pas de surdispersion), nous allons considéré une distribution de poisson avec une fonction de lien logarithmique pour le modèle linéaire généralisé. "
   ]
  },
  {
   "cell_type": "markdown",
   "metadata": {},
   "source": [
    "### Implémentation d'un GLM poisson"
   ]
  },
  {
   "cell_type": "markdown",
   "metadata": {},
   "source": [
    "<br/>\n",
    "<br/>\n",
    "\n",
    "<h2 style=\"font-family: 'Georgia', serif; text-align: center; font-size: 30px; color: #3498db\"> <u> Implémentation d'un GLM poisson(lisa)</u></h2>\n",
    "<br/>\n",
    "    "
   ]
  },
  {
   "cell_type": "markdown",
   "metadata": {},
   "source": [
    "<br/>\n",
    "<br/>\n",
    "\n",
    "<h2 style=\"font-family: 'Georgia', serif; text-align: center; font-size: 30px; color: #3498db\"> <u> Implémentation d'un modèle XGBoost(briand)</u></h2>\n",
    "<br/>\n",
    "    "
   ]
  },
  {
   "cell_type": "code",
   "execution_count": 63,
   "metadata": {},
   "outputs": [],
   "source": [
    "base = pd.read_csv(\"C:/Users/damso/Documents/data/base_model.csv\")"
   ]
  },
  {
   "cell_type": "code",
   "execution_count": 71,
   "metadata": {},
   "outputs": [
    {
     "name": "stdout",
     "output_type": "stream",
     "text": [
      "<class 'pandas.core.frame.DataFrame'>\n",
      "RangeIndex: 66693 entries, 0 to 66692\n",
      "Data columns (total 1 columns):\n",
      " #   Column                                                                                                                                                                                                            Non-Null Count  Dtype \n",
      "---  ------                                                                                                                                                                                                            --------------  ----- \n",
      " 0   var_Assurance0;var_Assurance1;var_Assurance2;var_Assurance3;var_Assurance4;var_Assurance5;var_Assurance6;var_Assurance7;var_Assurance8;var_Assurance9;var_Assurance10;var_Assurance15;facteur1;facteur2;facteur3  66693 non-null  object\n",
      "dtypes: object(1)\n",
      "memory usage: 521.2+ KB\n"
     ]
    }
   ],
   "source": [
    "base = pd.DataFrame(base)\n",
    "base.info()"
   ]
  },
  {
   "cell_type": "code",
   "execution_count": null,
   "metadata": {},
   "outputs": [],
   "source": []
  },
  {
   "cell_type": "code",
   "execution_count": null,
   "metadata": {},
   "outputs": [],
   "source": []
  },
  {
   "cell_type": "code",
   "execution_count": 72,
   "metadata": {},
   "outputs": [
    {
     "ename": "KeyError",
     "evalue": "'var_Assurance2'",
     "output_type": "error",
     "traceback": [
      "\u001b[1;31m---------------------------------------------------------------------------\u001b[0m",
      "\u001b[1;31mKeyError\u001b[0m                                  Traceback (most recent call last)",
      "File \u001b[1;32mc:\\ProgramData\\anaconda3\\Lib\\site-packages\\pandas\\core\\indexes\\base.py:3805\u001b[0m, in \u001b[0;36mIndex.get_loc\u001b[1;34m(self, key)\u001b[0m\n\u001b[0;32m   3804\u001b[0m \u001b[38;5;28;01mtry\u001b[39;00m:\n\u001b[1;32m-> 3805\u001b[0m     \u001b[38;5;28;01mreturn\u001b[39;00m \u001b[38;5;28mself\u001b[39m\u001b[38;5;241m.\u001b[39m_engine\u001b[38;5;241m.\u001b[39mget_loc(casted_key)\n\u001b[0;32m   3806\u001b[0m \u001b[38;5;28;01mexcept\u001b[39;00m \u001b[38;5;167;01mKeyError\u001b[39;00m \u001b[38;5;28;01mas\u001b[39;00m err:\n",
      "File \u001b[1;32mindex.pyx:167\u001b[0m, in \u001b[0;36mpandas._libs.index.IndexEngine.get_loc\u001b[1;34m()\u001b[0m\n",
      "File \u001b[1;32mindex.pyx:196\u001b[0m, in \u001b[0;36mpandas._libs.index.IndexEngine.get_loc\u001b[1;34m()\u001b[0m\n",
      "File \u001b[1;32mpandas\\\\_libs\\\\hashtable_class_helper.pxi:7081\u001b[0m, in \u001b[0;36mpandas._libs.hashtable.PyObjectHashTable.get_item\u001b[1;34m()\u001b[0m\n",
      "File \u001b[1;32mpandas\\\\_libs\\\\hashtable_class_helper.pxi:7089\u001b[0m, in \u001b[0;36mpandas._libs.hashtable.PyObjectHashTable.get_item\u001b[1;34m()\u001b[0m\n",
      "\u001b[1;31mKeyError\u001b[0m: 'var_Assurance2'",
      "\nThe above exception was the direct cause of the following exception:\n",
      "\u001b[1;31mKeyError\u001b[0m                                  Traceback (most recent call last)",
      "Cell \u001b[1;32mIn[72], line 2\u001b[0m\n\u001b[0;32m      1\u001b[0m \u001b[38;5;66;03m# les variables var_assurance11 ... var_assurance14 sont constantes et ne contiennent que des 0\u001b[39;00m\n\u001b[1;32m----> 2\u001b[0m bodily\u001b[38;5;241m=\u001b[39mbase[\u001b[38;5;124m\"\u001b[39m\u001b[38;5;124mvar_Assurance2\u001b[39m\u001b[38;5;124m\"\u001b[39m]\n\u001b[0;32m      3\u001b[0m material\u001b[38;5;241m=\u001b[39mbase[\u001b[38;5;124m\"\u001b[39m\u001b[38;5;124mvar_Assurance3\u001b[39m\u001b[38;5;124m\"\u001b[39m]\n\u001b[0;32m      4\u001b[0m base\u001b[38;5;241m=\u001b[39mbase\u001b[38;5;241m.\u001b[39mdrop([\u001b[38;5;124m\"\u001b[39m\u001b[38;5;124mvar_Assurance2\u001b[39m\u001b[38;5;124m\"\u001b[39m,\u001b[38;5;124m\"\u001b[39m\u001b[38;5;124mvar_Assurance3\u001b[39m\u001b[38;5;124m\"\u001b[39m],axis\u001b[38;5;241m=\u001b[39m\u001b[38;5;241m1\u001b[39m)\n",
      "File \u001b[1;32mc:\\ProgramData\\anaconda3\\Lib\\site-packages\\pandas\\core\\frame.py:4102\u001b[0m, in \u001b[0;36mDataFrame.__getitem__\u001b[1;34m(self, key)\u001b[0m\n\u001b[0;32m   4100\u001b[0m \u001b[38;5;28;01mif\u001b[39;00m \u001b[38;5;28mself\u001b[39m\u001b[38;5;241m.\u001b[39mcolumns\u001b[38;5;241m.\u001b[39mnlevels \u001b[38;5;241m>\u001b[39m \u001b[38;5;241m1\u001b[39m:\n\u001b[0;32m   4101\u001b[0m     \u001b[38;5;28;01mreturn\u001b[39;00m \u001b[38;5;28mself\u001b[39m\u001b[38;5;241m.\u001b[39m_getitem_multilevel(key)\n\u001b[1;32m-> 4102\u001b[0m indexer \u001b[38;5;241m=\u001b[39m \u001b[38;5;28mself\u001b[39m\u001b[38;5;241m.\u001b[39mcolumns\u001b[38;5;241m.\u001b[39mget_loc(key)\n\u001b[0;32m   4103\u001b[0m \u001b[38;5;28;01mif\u001b[39;00m is_integer(indexer):\n\u001b[0;32m   4104\u001b[0m     indexer \u001b[38;5;241m=\u001b[39m [indexer]\n",
      "File \u001b[1;32mc:\\ProgramData\\anaconda3\\Lib\\site-packages\\pandas\\core\\indexes\\base.py:3812\u001b[0m, in \u001b[0;36mIndex.get_loc\u001b[1;34m(self, key)\u001b[0m\n\u001b[0;32m   3807\u001b[0m     \u001b[38;5;28;01mif\u001b[39;00m \u001b[38;5;28misinstance\u001b[39m(casted_key, \u001b[38;5;28mslice\u001b[39m) \u001b[38;5;129;01mor\u001b[39;00m (\n\u001b[0;32m   3808\u001b[0m         \u001b[38;5;28misinstance\u001b[39m(casted_key, abc\u001b[38;5;241m.\u001b[39mIterable)\n\u001b[0;32m   3809\u001b[0m         \u001b[38;5;129;01mand\u001b[39;00m \u001b[38;5;28many\u001b[39m(\u001b[38;5;28misinstance\u001b[39m(x, \u001b[38;5;28mslice\u001b[39m) \u001b[38;5;28;01mfor\u001b[39;00m x \u001b[38;5;129;01min\u001b[39;00m casted_key)\n\u001b[0;32m   3810\u001b[0m     ):\n\u001b[0;32m   3811\u001b[0m         \u001b[38;5;28;01mraise\u001b[39;00m InvalidIndexError(key)\n\u001b[1;32m-> 3812\u001b[0m     \u001b[38;5;28;01mraise\u001b[39;00m \u001b[38;5;167;01mKeyError\u001b[39;00m(key) \u001b[38;5;28;01mfrom\u001b[39;00m \u001b[38;5;21;01merr\u001b[39;00m\n\u001b[0;32m   3813\u001b[0m \u001b[38;5;28;01mexcept\u001b[39;00m \u001b[38;5;167;01mTypeError\u001b[39;00m:\n\u001b[0;32m   3814\u001b[0m     \u001b[38;5;66;03m# If we have a listlike key, _check_indexing_error will raise\u001b[39;00m\n\u001b[0;32m   3815\u001b[0m     \u001b[38;5;66;03m#  InvalidIndexError. Otherwise we fall through and re-raise\u001b[39;00m\n\u001b[0;32m   3816\u001b[0m     \u001b[38;5;66;03m#  the TypeError.\u001b[39;00m\n\u001b[0;32m   3817\u001b[0m     \u001b[38;5;28mself\u001b[39m\u001b[38;5;241m.\u001b[39m_check_indexing_error(key)\n",
      "\u001b[1;31mKeyError\u001b[0m: 'var_Assurance2'"
     ]
    }
   ],
   "source": [
    "# les variables var_assurance11 ... var_assurance14 sont constantes et ne contiennent que des 0\n",
    "bodily=base[\"var_Assurance2\"]\n",
    "material=base[\"var_Assurance3\"]\n",
    "base=base.drop([\"var_Assurance2\",\"var_Assurance3\"],axis=1)\n",
    "base = base.astype(np.float64)\n",
    "#base = np.asarray(base, dtype=np.float64)\n"
   ]
  },
  {
   "cell_type": "code",
   "execution_count": 548,
   "metadata": {},
   "outputs": [
    {
     "data": {
      "image/png": "[encoded data removed]",
      "text/plain": [
       "<Figure size 600x500 with 2 Axes>"
      ]
     },
     "metadata": {},
     "output_type": "display_data"
    }
   ],
   "source": [
    "base_corr=base.drop([\"facteur1\",\"facteur2\",\"facteur3\"], axis=1)\n",
    "base_corr.columns=[\"md_edu_score\",\"exposition_previous_insurance_year\",\"broken_glass\",\"fire\",\"theft\",\"other\",\"all_claims\",\"bodily_accident_responsible\",\"material_accident_responsible\",\"all_claims_responsible\"]\n",
    "corr_matrix=base_corr.corr()\n",
    "import seaborn as sns\n",
    "plt.figure(figsize=(6,5))\n",
    "sns.heatmap(corr_matrix, annot=True, cmap='coolwarm', fmt=\".2f\", linewidths=0.5)\n",
    "plt.title(\"Matrice de Corrélation\")\n",
    "plt.show()"
   ]
  },
  {
   "cell_type": "markdown",
   "metadata": {},
   "source": [
    "La variable var_Assurance15 (all_claims_responsible) est tres fortement correlée avec la variable var_Assurance10(\"material_accident_responsible\") ce qui pourrait entrainer un problème de multicolinéarité dans le modèle. Aussi, la variable var_assurance8 est corréleé avec plusieurs variables. Analysons le VIF pour confirmer le fait que ces variables vont entrainer une forte colinéarité dans le modèle."
   ]
  },
  {
   "cell_type": "code",
   "execution_count": 549,
   "metadata": {},
   "outputs": [
    {
     "name": "stderr",
     "output_type": "stream",
     "text": [
      "c:\\Users\\lisaw\\anaconda3\\Lib\\site-packages\\statsmodels\\stats\\outliers_influence.py:197: RuntimeWarning: divide by zero encountered in scalar divide\n",
      "  vif = 1. / (1. - r_squared_i)\n"
     ]
    },
    {
     "name": "stdout",
     "output_type": "stream",
     "text": [
      "           Variable       VIF\n",
      "0    var_Assurance0  2.566259\n",
      "1    var_Assurance1  3.312197\n",
      "2    var_Assurance4  2.168289\n",
      "3    var_Assurance5  1.033903\n",
      "4    var_Assurance6  1.072066\n",
      "5    var_Assurance7  1.416430\n",
      "6    var_Assurance8  5.110304\n",
      "7    var_Assurance9       inf\n",
      "8   var_Assurance10       inf\n",
      "9   var_Assurance15       inf\n",
      "10         facteur1  1.234241\n",
      "11         facteur2  2.166556\n",
      "12         facteur3  3.448045\n"
     ]
    }
   ],
   "source": [
    "from statsmodels.stats.outliers_influence import variance_inflation_factor\n",
    "def compute_vif(X):\n",
    "    vif_data = pd.DataFrame()\n",
    "    vif_data[\"Variable\"] = X.columns\n",
    "    vif_data[\"VIF\"] = [variance_inflation_factor(X.values, i) for i in range(X.shape[1])]\n",
    "    return vif_data\n",
    "\n",
    "# Calcul des VIF\n",
    "print(compute_vif(base))"
   ]
  },
  {
   "cell_type": "markdown",
   "metadata": {},
   "source": [
    "Un VIF= infini signifie que la variable est parfaitement corrélée avec une ou plusieurs autres variables. un VIF >5 suggère l'existence d'une forte multicolinéarité. On va donc supprimer les variables var_assurance15 et var_assurance8."
   ]
  },
  {
   "cell_type": "code",
   "execution_count": 550,
   "metadata": {},
   "outputs": [],
   "source": [
    "base=base.drop([\"var_Assurance15\",\"var_Assurance8\"], axis=1)"
   ]
  },
  {
   "cell_type": "code",
   "execution_count": 551,
   "metadata": {},
   "outputs": [
    {
     "name": "stdout",
     "output_type": "stream",
     "text": [
      "           Variable       VIF\n",
      "0    var_Assurance0  2.565425\n",
      "1    var_Assurance1  3.286015\n",
      "2    var_Assurance4  1.082060\n",
      "3    var_Assurance5  1.004473\n",
      "4    var_Assurance6  1.009719\n",
      "5    var_Assurance7  1.032190\n",
      "6    var_Assurance9  1.004634\n",
      "7   var_Assurance10  1.092824\n",
      "8          facteur1  1.234219\n",
      "9          facteur2  2.165971\n",
      "10         facteur3  3.446533\n"
     ]
    }
   ],
   "source": [
    "from statsmodels.stats.outliers_influence import variance_inflation_factor\n",
    "def compute_vif(X):\n",
    "    vif_data = pd.DataFrame()\n",
    "    vif_data[\"Variable\"] = X.columns\n",
    "    vif_data[\"VIF\"] = [variance_inflation_factor(X.values, i) for i in range(X.shape[1])]\n",
    "    return vif_data\n",
    "\n",
    "# Calcul des VIF\n",
    "print(compute_vif(base))"
   ]
  },
  {
   "cell_type": "code",
   "execution_count": null,
   "metadata": {},
   "outputs": [],
   "source": [
    "Après suppression de ces variables, on a plus de problèmes de multicolinéarité forte."
   ]
  },
  {
   "cell_type": "code",
   "execution_count": 589,
   "metadata": {},
   "outputs": [
    {
     "data": {
      "text/plain": [
       "var_Assurance2\n",
       "0    46391\n",
       "1      279\n",
       "2       13\n",
       "3        2\n",
       "Name: count, dtype: Int64"
      ]
     },
     "execution_count": 589,
     "metadata": {},
     "output_type": "execute_result"
    }
   ],
   "source": [
    "# Diviser les données en ensembles d'entraînement et de test\n",
    "x_train, x_test, y_train, y_test = train_test_split(base, bodily, test_size=0.3, stratify=bodily, random_state=40)\n",
    "#x_train = scaler.fit_transform(x_train)\n",
    "y_train.value_counts()"
   ]
  },
  {
   "cell_type": "code",
   "execution_count": 439,
   "metadata": {},
   "outputs": [],
   "source": [
    "#from sklearn.model_selection import StratifiedShuffleSplit\n",
    "# Création du split en respectant les proportions des classes\n",
    "#sss = StratifiedShuffleSplit(n_splits=1, test_size=0.2, random_state=42)\n",
    "\n",
    "#for train_index, test_index in sss.split(base, bodily):\n",
    "    #X_train, X_test = X.iloc[train_index], X.iloc[test_index]\n",
    "#    y_train, y_test = y.iloc[train_index], y.iloc[test_index]\n",
    "\n",
    " #Vérification de la distribution des classes\n",
    "#print(y_train.value_counts(normalize=True))\n",
    "#print(y_test.value_counts(normalize=True))"
   ]
  },
  {
   "cell_type": "code",
   "execution_count": 553,
   "metadata": {},
   "outputs": [
    {
     "data": {
      "text/plain": [
       "[1704.08,\n",
       " 1722.75,\n",
       " 1715.18,\n",
       " 1705.31,\n",
       " 1704.11,\n",
       " 1707.76,\n",
       " 3100.72,\n",
       " 1714.9,\n",
       " 1705.71,\n",
       " 1708.06,\n",
       " 1734.6]"
      ]
     },
     "execution_count": 553,
     "metadata": {},
     "output_type": "execute_result"
    }
   ],
   "source": [
    "# suppression des variables une à une pour voir si l'on peut améliorer le modèle\n",
    "import statsmodels.api as sm\n",
    "deviance_glm_poisson=[]\n",
    "for col in x_train.columns:\n",
    "    glm_poisson = sm.GLM(np.asarray(y_train), np.asarray(sm.add_constant(x_train.drop(col,axis=1))), family=sm.families.Poisson()).fit()\n",
    "    deviance_glm_poisson.append(round(glm_poisson.deviance,2))\n",
    "deviance_glm_poisson"
   ]
  },
  {
   "cell_type": "markdown",
   "metadata": {},
   "source": [
    "On constate qu'en partant du modèle complet, aucune variable ne semble détériorer le modèle. On va donc retenir toutes ces variables pour la suite."
   ]
  },
  {
   "cell_type": "code",
   "execution_count": 595,
   "metadata": {},
   "outputs": [
    {
     "name": "stdout",
     "output_type": "stream",
     "text": [
      "                 Generalized Linear Model Regression Results                  \n",
      "==============================================================================\n",
      "Dep. Variable:                      y   No. Observations:                46685\n",
      "Model:                            GLM   Df Residuals:                    46673\n",
      "Model Family:                 Poisson   Df Model:                           11\n",
      "Link Function:                    Log   Scale:                          1.0000\n",
      "Method:                          IRLS   Log-Likelihood:                -1151.0\n",
      "Date:                Sat, 29 Mar 2025   Deviance:                       1704.1\n",
      "Time:                        21:28:20   Pearson chi2:                 3.72e+04\n",
      "No. Iterations:                     7   Pseudo R-squ. (CS):            0.03084\n",
      "Covariance Type:            nonrobust                                         \n",
      "==============================================================================\n",
      "                 coef    std err          z      P>|z|      [0.025      0.975]\n",
      "------------------------------------------------------------------------------\n",
      "const         -5.7829      0.212    -27.311      0.000      -6.198      -5.368\n",
      "x1            -0.0001      0.002     -0.057      0.954      -0.004       0.004\n",
      "x2             0.2976      0.069      4.317      0.000       0.163       0.433\n",
      "x3             0.4621      0.128      3.613      0.000       0.211       0.713\n",
      "x4             0.9070      0.712      1.273      0.203      -0.489       2.303\n",
      "x5            -0.1209      0.690     -0.175      0.861      -1.474       1.232\n",
      "x6             0.4357      0.206      2.115      0.034       0.032       0.839\n",
      "x7             4.5257      0.084     53.592      0.000       4.360       4.691\n",
      "x8             0.4160      0.117      3.560      0.000       0.187       0.645\n",
      "x9            -0.0101      0.008     -1.274      0.203      -0.026       0.005\n",
      "x10            0.0129      0.006      2.020      0.043       0.000       0.025\n",
      "x11           -0.0295      0.005     -5.535      0.000      -0.040      -0.019\n",
      "==============================================================================\n"
     ]
    }
   ],
   "source": [
    "glm_poisson = sm.GLM(np.asarray(y_train), np.asarray(sm.add_constant(x_train)), family=sm.families.Poisson()).fit()\n",
    "print(glm_poisson.summary())"
   ]
  },
  {
   "cell_type": "code",
   "execution_count": null,
   "metadata": {},
   "outputs": [],
   "source": [
    "# prédiction\n",
    "#x_test = sm.add_constant(x_test)\n",
    "pred_sinistres = glm_poisson.predict(sm.add_constant(x_test))"
   ]
  },
  {
   "cell_type": "code",
   "execution_count": 541,
   "metadata": {},
   "outputs": [
    {
     "data": {
      "text/plain": [
       "730.9509414861565"
      ]
     },
     "execution_count": 541,
     "metadata": {},
     "output_type": "execute_result"
    }
   ],
   "source": [
    "# calcul de la déviance sur les données de test\n",
    "epsilon = 1e-10  # Pour éviter log(0)\n",
    "deviance = 2 * np.sum(y_test * np.log((y_test + epsilon) / (pred_sinistres + epsilon)) - (y_test - pred_sinistres))\n",
    "deviance"
   ]
  },
  {
   "cell_type": "code",
   "execution_count": 542,
   "metadata": {},
   "outputs": [
    {
     "data": {
      "text/plain": [
       "<Figure size 600x1000 with 0 Axes>"
      ]
     },
     "metadata": {},
     "output_type": "display_data"
    },
    {
     "data": {
      "image/png": "[encoded data removed]",
      "text/plain": [
       "<Figure size 640x480 with 2 Axes>"
      ]
     },
     "metadata": {},
     "output_type": "display_data"
    }
   ],
   "source": [
    "from sklearn.metrics import confusion_matrix, ConfusionMatrixDisplay\n",
    "plt.figure(figsize=(6,10))\n",
    "cm = confusion_matrix(y_test, np.round(pred_sinistres))\n",
    "disp = ConfusionMatrixDisplay(confusion_matrix=cm)\n",
    "disp.plot(cmap='Blues')\n",
    "plt.show()"
   ]
  },
  {
   "cell_type": "markdown",
   "metadata": {},
   "source": [
    "le modèle prédit des valeurs positives représentant des comptages attendus.\n",
    "Le modèle prédit très mal les classes déséquilibrés."
   ]
  },
  {
   "cell_type": "markdown",
   "metadata": {},
   "source": [
    "### GLM avec XGBOOST"
   ]
  },
  {
   "cell_type": "code",
   "execution_count": 567,
   "metadata": {},
   "outputs": [
    {
     "name": "stdout",
     "output_type": "stream",
     "text": [
      "Mean Squared Error (MSE) : 1.7623430512030957e-08\n"
     ]
    }
   ],
   "source": [
    "## ESSAI D'un GLM boosté\n",
    "from xgboost import XGBRegressor\n",
    "from sklearn.linear_model import PoissonRegressor\n",
    "\n",
    "xgb = XGBRegressor(max_depth=1, objective='count:poisson')\n",
    "xgb.fit(x_train, y_train)\n",
    "\n",
    "y_pred_boosted = xgb.predict(x_test)\n",
    "mse = mean_squared_error(y_test, y_pred_boosted)\n",
    "print(f\"Mean Squared Error (MSE) : {mse}\")"
   ]
  },
  {
   "cell_type": "code",
   "execution_count": 568,
   "metadata": {},
   "outputs": [
    {
     "data": {
      "image/png": "[encoded data removed]",
      "text/plain": [
       "<Figure size 640x480 with 2 Axes>"
      ]
     },
     "metadata": {},
     "output_type": "display_data"
    }
   ],
   "source": [
    "from sklearn.metrics import confusion_matrix, ConfusionMatrixDisplay\n",
    "cm = confusion_matrix(y_test, np.round(y_pred_boosted))\n",
    "disp = ConfusionMatrixDisplay(confusion_matrix=cm)\n",
    "disp.plot(cmap='Blues')\n",
    "plt.show()"
   ]
  },
  {
   "cell_type": "code",
   "execution_count": null,
   "metadata": {},
   "outputs": [
    {
     "name": "stdout",
     "output_type": "stream",
     "text": [
      "Checking whether there is an H2O instance running at http://localhost:54321. connected.\n",
      "Warning: Your H2O cluster version is (4 months and 27 days) old.  There may be a newer version available.\n",
      "Please download and install the latest version from: https://h2o-release.s3.amazonaws.com/h2o/latest_stable.html\n"
     ]
    },
    {
     "data": {
      "text/html": [
       "\n",
       "<style>\n",
       "\n",
       "#h2o-table-8.h2o-container {\n",
       "  overflow-x: auto;\n",
       "}\n",
       "#h2o-table-8 .h2o-table {\n",
       "  /* width: 100%; */\n",
       "  margin-top: 1em;\n",
       "  margin-bottom: 1em;\n",
       "}\n",
       "#h2o-table-8 .h2o-table caption {\n",
       "  white-space: nowrap;\n",
       "  caption-side: top;\n",
       "  text-align: left;\n",
       "  /* margin-left: 1em; */\n",
       "  margin: 0;\n",
       "  font-size: larger;\n",
       "}\n",
       "#h2o-table-8 .h2o-table thead {\n",
       "  white-space: nowrap; \n",
       "  position: sticky;\n",
       "  top: 0;\n",
       "  box-shadow: 0 -1px inset;\n",
       "}\n",
       "#h2o-table-8 .h2o-table tbody {\n",
       "  overflow: auto;\n",
       "}\n",
       "#h2o-table-8 .h2o-table th,\n",
       "#h2o-table-8 .h2o-table td {\n",
       "  text-align: right;\n",
       "  /* border: 1px solid; */\n",
       "}\n",
       "#h2o-table-8 .h2o-table tr:nth-child(even) {\n",
       "  /* background: #F5F5F5 */\n",
       "}\n",
       "\n",
       "</style>      \n",
       "<div id=\"h2o-table-8\" class=\"h2o-container\">\n",
       "  <table class=\"h2o-table\">\n",
       "    <caption></caption>\n",
       "    <thead></thead>\n",
       "    <tbody><tr><td>H2O_cluster_uptime:</td>\n",
       "<td>1 day 23 hours 45 mins</td></tr>\n",
       "<tr><td>H2O_cluster_timezone:</td>\n",
       "<td>Europe/Paris</td></tr>\n",
       "<tr><td>H2O_data_parsing_timezone:</td>\n",
       "<td>UTC</td></tr>\n",
       "<tr><td>H2O_cluster_version:</td>\n",
       "<td>3.46.0.6</td></tr>\n",
       "<tr><td>H2O_cluster_version_age:</td>\n",
       "<td>4 months and 27 days</td></tr>\n",
       "<tr><td>H2O_cluster_name:</td>\n",
       "<td>H2O_from_python_lisaw_3h5qh6</td></tr>\n",
       "<tr><td>H2O_cluster_total_nodes:</td>\n",
       "<td>1</td></tr>\n",
       "<tr><td>H2O_cluster_free_memory:</td>\n",
       "<td>3.390 Gb</td></tr>\n",
       "<tr><td>H2O_cluster_total_cores:</td>\n",
       "<td>12</td></tr>\n",
       "<tr><td>H2O_cluster_allowed_cores:</td>\n",
       "<td>12</td></tr>\n",
       "<tr><td>H2O_cluster_status:</td>\n",
       "<td>locked, healthy</td></tr>\n",
       "<tr><td>H2O_connection_url:</td>\n",
       "<td>http://localhost:54321</td></tr>\n",
       "<tr><td>H2O_connection_proxy:</td>\n",
       "<td>{\"http\": null, \"https\": null}</td></tr>\n",
       "<tr><td>H2O_internal_security:</td>\n",
       "<td>False</td></tr>\n",
       "<tr><td>Python_version:</td>\n",
       "<td>3.12.4 final</td></tr></tbody>\n",
       "  </table>\n",
       "</div>\n"
      ],
      "text/plain": [
       "--------------------------  -----------------------------\n",
       "H2O_cluster_uptime:         1 day 23 hours 45 mins\n",
       "H2O_cluster_timezone:       Europe/Paris\n",
       "H2O_data_parsing_timezone:  UTC\n",
       "H2O_cluster_version:        3.46.0.6\n",
       "H2O_cluster_version_age:    4 months and 27 days\n",
       "H2O_cluster_name:           H2O_from_python_lisaw_3h5qh6\n",
       "H2O_cluster_total_nodes:    1\n",
       "H2O_cluster_free_memory:    3.390 Gb\n",
       "H2O_cluster_total_cores:    12\n",
       "H2O_cluster_allowed_cores:  12\n",
       "H2O_cluster_status:         locked, healthy\n",
       "H2O_connection_url:         http://localhost:54321\n",
       "H2O_connection_proxy:       {\"http\": null, \"https\": null}\n",
       "H2O_internal_security:      False\n",
       "Python_version:             3.12.4 final\n",
       "--------------------------  -----------------------------"
      ]
     },
     "metadata": {},
     "output_type": "display_data"
    },
    {
     "name": "stdout",
     "output_type": "stream",
     "text": [
      "Parse progress: |████████████████████████████████████████████████████████████████| (done) 100%\n",
      "Parse progress: |████████████████████████████████████████████████████████████████| (done) 100%\n",
      "gbm Model Build progress: |██████████████████████████████████████████████████████| (done) 100%\n",
      "gbm prediction progress: |███████████████████████████████████████████████████████| (done) 100%\n"
     ]
    }
   ],
   "source": [
    "import h2o\n",
    "from h2o.estimators.gbm import H2OGradientBoostingEstimator\n",
    "from h2o.frame import H2OFrame\n",
    "\n",
    "# Initialisation de H2O\n",
    "h2o.init()\n",
    "x_train[\"nb_sinistres\"]=y_train\n",
    "x_test[\"nb_sinistres\"]=y_test\n",
    "# Conversion des données en format H2O\n",
    "train_h2o = H2OFrame(x_train)\n",
    "test_h2o = H2OFrame(x_test)\n",
    "\n",
    "# Définition du modèle de Gradient Boosting avec une fonction de lien GLM (Poisson par ex.)\n",
    "gbm_glm = H2OGradientBoostingEstimator(distribution=\"poisson\",\n",
    "                                       ntrees=200,\n",
    "                                       learn_rate=0.1,\n",
    "                                       max_depth=3)\n",
    "\n",
    "# Entraînement du modèle\n",
    "gbm_glm.train(x=list(x_train.columns), y=\"nb_sinistres\", training_frame=train_h2o)\n",
    "\n",
    "# Prédictions\n",
    "predictions = gbm_glm.predict(test_h2o)\n",
    "mse = mean_squared_error(y_test, predictions)\n",
    "print(f\"Mean Squared Error (MSE) : {mse}\")"
   ]
  },
  {
   "cell_type": "code",
   "execution_count": 564,
   "metadata": {},
   "outputs": [
    {
     "name": "stderr",
     "output_type": "stream",
     "text": [
      "c:\\Users\\lisaw\\anaconda3\\Lib\\site-packages\\h2o\\frame.py:1983: H2ODependencyWarning: Converting H2O frame to pandas dataframe using single-thread.  For faster conversion using multi-thread, install polars and pyarrow and use it as pandas_df = h2o_df.as_data_frame(use_multi_thread=True)\n",
      "\n",
      "  warnings.warn(\"Converting H2O frame to pandas dataframe using single-thread.  For faster conversion using\"\n"
     ]
    },
    {
     "data": {
      "image/png": "[encoded data removed]",
      "text/plain": [
       "<Figure size 640x480 with 2 Axes>"
      ]
     },
     "metadata": {},
     "output_type": "display_data"
    }
   ],
   "source": [
    "from sklearn.metrics import confusion_matrix, ConfusionMatrixDisplay\n",
    "cm = confusion_matrix(y_test, np.round(predictions.as_data_frame().values.flatten()))\n",
    "disp = ConfusionMatrixDisplay(confusion_matrix=cm)\n",
    "disp.plot(cmap='Blues')\n",
    "plt.show()"
   ]
  },
  {
   "cell_type": "code",
   "execution_count": 581,
   "metadata": {},
   "outputs": [
    {
     "name": "stdout",
     "output_type": "stream",
     "text": [
      "Mean Squared Error (MSE) : 0.007442439135873882\n"
     ]
    }
   ],
   "source": [
    "from sklearn.ensemble import AdaBoostRegressor\n",
    "from sklearn.linear_model import PoissonRegressor\n",
    "from sklearn.model_selection import train_test_split\n",
    "from sklearn.metrics import mean_squared_error\n",
    "import numpy as np\n",
    "import pandas as pd\n",
    "\n",
    "# Définition du modèle de base : GLM Poisson\n",
    "glm_base = PoissonRegressor()\n",
    "\n",
    "# Application d'AdaBoost.R2 avec le GLM Poisson comme estimateur de base\n",
    "adaboost_glm = AdaBoostRegressor(estimator=glm_base, n_estimators=10, learning_rate=0.2,random_state=42)\n",
    "adaboost_glm.fit(pd.DataFrame(scaler.fit_transform(x_train),columns=x_train.columns), y_train)\n",
    "\n",
    "# Prédictions\n",
    "y_pred = adaboost_glm.predict(x_test)\n",
    "\n",
    "# Évaluation des performances\n",
    "mse = mean_squared_error(y_test, y_pred)\n",
    "print(f\"Mean Squared Error (MSE) : {mse}\")"
   ]
  },
  {
   "cell_type": "code",
   "execution_count": 582,
   "metadata": {},
   "outputs": [
    {
     "data": {
      "image/png": "[encoded data removed]",
      "text/plain": [
       "<Figure size 640x480 with 2 Axes>"
      ]
     },
     "metadata": {},
     "output_type": "display_data"
    }
   ],
   "source": [
    "from sklearn.metrics import confusion_matrix, ConfusionMatrixDisplay\n",
    "cm = confusion_matrix(y_test, np.round(y_pred))\n",
    "disp = ConfusionMatrixDisplay(confusion_matrix=cm)\n",
    "disp.plot(cmap='Blues')\n",
    "plt.show()"
   ]
  },
  {
   "cell_type": "markdown",
   "metadata": {},
   "source": [
    "### Utilisation des GLM avec le rééchantillonage SMOTE"
   ]
  },
  {
   "cell_type": "code",
   "execution_count": 584,
   "metadata": {},
   "outputs": [
    {
     "name": "stdout",
     "output_type": "stream",
     "text": [
      "var_Assurance2\n",
      "0    0.993702\n",
      "1    0.005979\n",
      "2    0.000281\n",
      "3    0.000037\n",
      "Name: proportion, dtype: Float64\n",
      "var_Assurance2\n",
      "0    0.993703\n",
      "1    0.005997\n",
      "2      0.0003\n",
      "Name: proportion, dtype: Float64\n"
     ]
    }
   ],
   "source": [
    "from sklearn.model_selection import StratifiedShuffleSplit\n",
    "#Création du split en respectant les proportions des classes\n",
    "sss = StratifiedShuffleSplit(n_splits=1, test_size=0.2, random_state=42)\n",
    "\n",
    "for train_index, test_index in sss.split(base, bodily):\n",
    "    X_train, X_test = base.iloc[train_index], base.iloc[test_index]\n",
    "    y_train, y_test = bodily.iloc[train_index], bodily.iloc[test_index]\n",
    "\n",
    "#Vérification de la distribution des classes\n",
    "print(y_train.value_counts(normalize=True))\n",
    "print(y_test.value_counts(normalize=True))"
   ]
  },
  {
   "cell_type": "markdown",
   "metadata": {},
   "source": [
    "### **Prédiction du risque matériel** "
   ]
  },
  {
   "cell_type": "code",
   "execution_count": null,
   "metadata": {},
   "outputs": [],
   "source": [
    "## il semble mieux d'utiliser une loi binomiale négative pour cette variable"
   ]
  },
  {
   "cell_type": "code",
   "execution_count": 593,
   "metadata": {},
   "outputs": [
    {
     "data": {
      "text/plain": [
       "var_Assurance3\n",
       "0    40117\n",
       "1     5326\n",
       "2     1023\n",
       "3      189\n",
       "4       24\n",
       "5        6\n",
       "Name: count, dtype: Int64"
      ]
     },
     "execution_count": 593,
     "metadata": {},
     "output_type": "execute_result"
    }
   ],
   "source": [
    "# Diviser les données en ensembles d'entraînement et de test\n",
    "x_train_m, x_test_m, y_train_m, y_test_m = train_test_split(base, material, test_size=0.3, stratify=material, random_state=40)\n",
    "#x_train = scaler.fit_transform(x_train)\n",
    "y_train_m.value_counts()"
   ]
  },
  {
   "cell_type": "code",
   "execution_count": 597,
   "metadata": {},
   "outputs": [
    {
     "data": {
      "text/plain": [
       "[20600.48,\n",
       " 20917.77,\n",
       " 20697.53,\n",
       " 20612.5,\n",
       " 20599.47,\n",
       " 20631.76,\n",
       " 20603.75,\n",
       " 31399.76,\n",
       " 20607.79,\n",
       " 20600.32,\n",
       " 20605.04]"
      ]
     },
     "execution_count": 597,
     "metadata": {},
     "output_type": "execute_result"
    }
   ],
   "source": [
    "# suppression des variables une à une pour voir si l'on peut améliorer le modèle\n",
    "import statsmodels.api as sm\n",
    "deviance_glm_poisson=[]\n",
    "for col in x_train_m.columns:\n",
    "    glm_poisson = sm.GLM(np.asarray(y_train_m), np.asarray(sm.add_constant(x_train_m.drop(col,axis=1))), family=sm.families.Poisson()).fit()\n",
    "    deviance_glm_poisson.append(round(glm_poisson.deviance,2))\n",
    "deviance_glm_poisson"
   ]
  },
  {
   "cell_type": "code",
   "execution_count": 612,
   "metadata": {},
   "outputs": [
    {
     "name": "stdout",
     "output_type": "stream",
     "text": [
      "                 Generalized Linear Model Regression Results                  \n",
      "==============================================================================\n",
      "Dep. Variable:                      y   No. Observations:                46685\n",
      "Model:                            GLM   Df Residuals:                    46673\n",
      "Model Family:                 Poisson   Df Model:                           11\n",
      "Link Function:                    Log   Scale:                          1.0000\n",
      "Method:                          IRLS   Log-Likelihood:                -17294.\n",
      "Date:                Sat, 29 Mar 2025   Deviance:                       20597.\n",
      "Time:                        21:55:30   Pearson chi2:                 3.77e+04\n",
      "No. Iterations:                     7   Pseudo R-squ. (CS):             0.2295\n",
      "Covariance Type:            nonrobust                                         \n",
      "==============================================================================\n",
      "                 coef    std err          z      P>|z|      [0.025      0.975]\n",
      "------------------------------------------------------------------------------\n",
      "const         -2.7690      0.041    -67.071      0.000      -2.850      -2.688\n",
      "x1             0.0007      0.000      1.776      0.076   -7.03e-05       0.001\n",
      "x2             0.2256      0.013     17.826      0.000       0.201       0.250\n",
      "x3             0.2796      0.026     10.600      0.000       0.228       0.331\n",
      "x4             0.6889      0.159      4.334      0.000       0.377       1.000\n",
      "x5             0.1499      0.099      1.517      0.129      -0.044       0.344\n",
      "x6             0.2950      0.047      6.237      0.000       0.202       0.388\n",
      "x7             0.3117      0.116      2.677      0.007       0.083       0.540\n",
      "x8             1.4849      0.010    147.401      0.000       1.465       1.505\n",
      "x9            -0.0053      0.002     -3.233      0.001      -0.008      -0.002\n",
      "x10            0.0021      0.001      1.736      0.083      -0.000       0.005\n",
      "x11            0.0028      0.001      2.774      0.006       0.001       0.005\n",
      "==============================================================================\n"
     ]
    }
   ],
   "source": [
    "glm_poisson = sm.GLM(np.asarray(y_train_m), np.asarray(sm.add_constant(x_train_m)), family=sm.families.Poisson()).fit()\n",
    "print(glm_poisson.summary())"
   ]
  },
  {
   "cell_type": "code",
   "execution_count": 613,
   "metadata": {},
   "outputs": [],
   "source": [
    "pred_sinistres = glm_poisson.predict(sm.add_constant(x_test_m))"
   ]
  },
  {
   "cell_type": "code",
   "execution_count": 614,
   "metadata": {},
   "outputs": [
    {
     "data": {
      "text/plain": [
       "<Figure size 600x1000 with 0 Axes>"
      ]
     },
     "metadata": {},
     "output_type": "display_data"
    },
    {
     "data": {
      "image/png": "[encoded data removed]",
      "text/plain": [
       "<Figure size 640x480 with 2 Axes>"
      ]
     },
     "metadata": {},
     "output_type": "display_data"
    }
   ],
   "source": [
    "from sklearn.metrics import confusion_matrix, ConfusionMatrixDisplay\n",
    "plt.figure(figsize=(6,10))\n",
    "cm = confusion_matrix(y_test_m, np.round(pred_sinistres))\n",
    "disp = ConfusionMatrixDisplay(confusion_matrix=cm)\n",
    "disp.plot(cmap='Blues')\n",
    "plt.show()"
   ]
  },
  {
   "cell_type": "code",
   "execution_count": 640,
   "metadata": {},
   "outputs": [
    {
     "name": "stdout",
     "output_type": "stream",
     "text": [
      "Mean Squared Error (MSE) : 0.08971501776943283\n"
     ]
    }
   ],
   "source": [
    "## ESSAI D'un GLM boosté\n",
    "from xgboost import XGBRegressor\n",
    "from sklearn.linear_model import PoissonRegressor\n",
    "\n",
    "xgb = XGBRegressor(max_depth=5, objective='count:poisson')\n",
    "xgb.fit(x_train_m, y_train_m)\n",
    "\n",
    "y_pred_boosted = xgb.predict(x_test_m)\n",
    "mse = mean_squared_error(y_test_m, y_pred_boosted)\n",
    "print(f\"Mean Squared Error (MSE) : {mse}\")"
   ]
  },
  {
   "cell_type": "code",
   "execution_count": 641,
   "metadata": {},
   "outputs": [
    {
     "data": {
      "image/png": "[encoded data removed]",
      "text/plain": [
       "<Figure size 640x480 with 2 Axes>"
      ]
     },
     "metadata": {},
     "output_type": "display_data"
    }
   ],
   "source": [
    "from sklearn.metrics import confusion_matrix, ConfusionMatrixDisplay\n",
    "cm = confusion_matrix(y_test_m, np.round(y_pred_boosted))\n",
    "disp = ConfusionMatrixDisplay(confusion_matrix=cm)\n",
    "disp.plot(cmap='Blues')\n",
    "plt.show()"
   ]
  },
  {
   "cell_type": "markdown",
   "metadata": {},
   "source": [
    "### GLM avec SMOTE"
   ]
  },
  {
   "cell_type": "code",
   "execution_count": 646,
   "metadata": {},
   "outputs": [],
   "source": [
    "# Application de SMOTE sur les données d'entraînement\n",
    "from imblearn.over_sampling import SMOTE\n",
    "smote = SMOTE(sampling_strategy={2: 5000, 3: 3000, 4:3000, 5:2000}, random_state=42)\n",
    "x_train_resampled, y_train_resampled = smote.fit_resample(x_train_m, y_train_m)"
   ]
  },
  {
   "cell_type": "code",
   "execution_count": 661,
   "metadata": {},
   "outputs": [
    {
     "name": "stdout",
     "output_type": "stream",
     "text": [
      "Mean Squared Error (MSE) : 0.10297267678533864\n"
     ]
    }
   ],
   "source": [
    "from xgboost import XGBRegressor\n",
    "from sklearn.linear_model import PoissonRegressor\n",
    "\n",
    "xgb = XGBRegressor(max_depth=5, objective='count:poisson')\n",
    "xgb.fit(X_resampled, y_resampled)\n",
    "\n",
    "y_pred_boosted = xgb.predict(x_test_m)\n",
    "mse = mean_squared_error(y_test_m, y_pred_boosted)\n",
    "print(f\"Mean Squared Error (MSE) : {mse}\")"
   ]
  },
  {
   "cell_type": "code",
   "execution_count": 662,
   "metadata": {},
   "outputs": [
    {
     "data": {
      "image/png": "[encoded data removed]",
      "text/plain": [
       "<Figure size 640x480 with 2 Axes>"
      ]
     },
     "metadata": {},
     "output_type": "display_data"
    }
   ],
   "source": [
    "from sklearn.metrics import confusion_matrix, ConfusionMatrixDisplay\n",
    "cm = confusion_matrix(y_test_m, np.round(y_pred_boosted))\n",
    "disp = ConfusionMatrixDisplay(confusion_matrix=cm)\n",
    "disp.plot(cmap='Blues')\n",
    "plt.show()"
   ]
  },
  {
   "cell_type": "code",
   "execution_count": null,
   "metadata": {},
   "outputs": [],
   "source": []
  },
  {
   "cell_type": "code",
   "execution_count": 651,
   "metadata": {},
   "outputs": [
    {
     "data": {
      "text/plain": [
       "var_Assurance3\n",
       "0    40117\n",
       "1     5326\n",
       "2     1023\n",
       "3      189\n",
       "4       24\n",
       "5        6\n",
       "Name: count, dtype: Int64"
      ]
     },
     "execution_count": 651,
     "metadata": {},
     "output_type": "execute_result"
    }
   ],
   "source": [
    "y_train_m.value_counts()"
   ]
  },
  {
   "cell_type": "code",
   "execution_count": null,
   "metadata": {},
   "outputs": [],
   "source": []
  },
  {
   "cell_type": "code",
   "execution_count": null,
   "metadata": {},
   "outputs": [],
   "source": []
  },
  {
   "cell_type": "code",
   "execution_count": 660,
   "metadata": {},
   "outputs": [],
   "source": [
    "from imblearn.under_sampling import RandomUnderSampler\n",
    "from imblearn.pipeline import Pipeline\n",
    "\n",
    "# SMOTE pour suréchantillonner les classes minoritaires\n",
    "smote = SMOTE(sampling_strategy={1: 7000, 2: 4000,3:3000,4:2000,5:1000}, random_state=42)\n",
    "\n",
    "# Downsampling de la classe majoritaire pour équilibrer le tout\n",
    "undersample = RandomUnderSampler(sampling_strategy={0: 25000}, random_state=42)\n",
    "\n",
    "# Pipeline combinant SMOTE + UnderSampling\n",
    "pipeline = Pipeline([('smote', smote), ('undersample', undersample)])\n",
    "\n",
    "# Application du pipeline\n",
    "X_resampled, y_resampled = pipeline.fit_resample(x_train_m, y_train_m)"
   ]
  },
  {
   "cell_type": "code",
   "execution_count": 605,
   "metadata": {},
   "outputs": [
    {
     "name": "stdout",
     "output_type": "stream",
     "text": [
      "                 Generalized Linear Model Regression Results                  \n",
      "==============================================================================\n",
      "Dep. Variable:                      y   No. Observations:                46685\n",
      "Model:                            GLM   Df Residuals:                    46673\n",
      "Model Family:        NegativeBinomial   Df Model:                           11\n",
      "Link Function:                    Log   Scale:                          1.0000\n",
      "Method:                          IRLS   Log-Likelihood:                -17527.\n",
      "Date:                Sat, 29 Mar 2025   Deviance:                       15378.\n",
      "Time:                        21:48:31   Pearson chi2:                 4.09e+04\n",
      "No. Iterations:                    12   Pseudo R-squ. (CS):             0.2051\n",
      "Covariance Type:            nonrobust                                         \n",
      "==============================================================================\n",
      "                 coef    std err          z      P>|z|      [0.025      0.975]\n",
      "------------------------------------------------------------------------------\n",
      "const         -3.0333      0.050    -60.612      0.000      -3.131      -2.935\n",
      "x1             0.0003      0.000      0.653      0.514      -0.001       0.001\n",
      "x2             0.2104      0.016     13.411      0.000       0.180       0.241\n",
      "x3             0.3735      0.035     10.724      0.000       0.305       0.442\n",
      "x4             0.7995      0.205      3.899      0.000       0.398       1.201\n",
      "x5             0.2187      0.138      1.590      0.112      -0.051       0.488\n",
      "x6             0.3721      0.061      6.053      0.000       0.252       0.493\n",
      "x7             0.2089      0.157      1.329      0.184      -0.099       0.517\n",
      "x8             2.1947      0.021    105.342      0.000       2.154       2.236\n",
      "x9            -0.0061      0.002     -3.017      0.003      -0.010      -0.002\n",
      "x10            0.0024      0.002      1.553      0.120      -0.001       0.005\n",
      "x11            0.0037      0.001      2.980      0.003       0.001       0.006\n",
      "==============================================================================\n"
     ]
    }
   ],
   "source": [
    "# modélisation avec une loi binomiale négative\n",
    "\n",
    "model = sm.GLM(np.asarray(y_train_m), np.asarray(sm.add_constant(x_train_m)), family=sm.families.NegativeBinomial(alpha=1)).fit()\n",
    "print(model.summary())"
   ]
  },
  {
   "cell_type": "code",
   "execution_count": 606,
   "metadata": {},
   "outputs": [],
   "source": [
    "pred_sinistres = model.predict(sm.add_constant(x_test_m))"
   ]
  },
  {
   "cell_type": "code",
   "execution_count": 664,
   "metadata": {},
   "outputs": [
    {
     "data": {
      "text/plain": [
       "<Figure size 3000x1600 with 0 Axes>"
      ]
     },
     "metadata": {},
     "output_type": "display_data"
    },
    {
     "data": {
      "image/png": "[encoded data removed]",
      "text/plain": [
       "<Figure size 640x480 with 2 Axes>"
      ]
     },
     "metadata": {},
     "output_type": "display_data"
    }
   ],
   "source": [
    "from sklearn.metrics import confusion_matrix, ConfusionMatrixDisplay\n",
    "plt.figure(figsize=(30,16))\n",
    "cm = confusion_matrix(y_test, np.round(pred_sinistres))\n",
    "disp = ConfusionMatrixDisplay(confusion_matrix=cm)\n",
    "disp.plot(cmap='Blues')\n",
    "plt.show()"
   ]
  },
  {
   "cell_type": "markdown",
   "metadata": {},
   "source": [
    "<br/>\n",
    "<br/>\n",
    "\n",
    "<h2 style=\"font-family: 'Georgia', serif; text-align: center; font-size: 30px; color: #3498db\"> <u> Implémentation d'une regression logistique (deeson)</u></h2>\n",
    "<br/>\n",
    "    "
   ]
  }
 ],
 "metadata": {
  "kernelspec": {
   "display_name": "base",
   "language": "python",
   "name": "python3"
  },
  "language_info": {
   "codemirror_mode": {
    "name": "ipython",
    "version": 3
   },
   "file_extension": ".py",
   "mimetype": "text/x-python",
   "name": "python",
   "nbconvert_exporter": "python",
   "pygments_lexer": "ipython3",
   "version": "3.12.7"
  }
 },
 "nbformat": 4,
 "nbformat_minor": 2
}
