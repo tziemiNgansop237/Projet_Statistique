{
 "cells": [
  {
   "cell_type": "markdown",
   "metadata": {},
   "source": [
    "<h1 style=\"font-family: 'Georgia', serif; text-align: center; font-size: 30px; color:rgb(52, 152, 219); text-shadow: 2px 2px 5px rgba(0, 0, 0, 0.3)\">Préparation des données</h1>\n",
    "<br/>\n",
    "<br/>\n",
    "  "
   ]
  },
  {
   "cell_type": "markdown",
   "metadata": {},
   "source": [
    "<h1 style=\"font-family: 'Georgia', serif; text-align: center; font-size: 25px; color: #3498db\">1- <u>reduction du nombre de variable de base_edu </u></h1>\n",
    "    "
   ]
  },
  {
   "cell_type": "code",
   "execution_count": null,
   "metadata": {},
   "outputs": [],
   "source": [
    "import pandas as pd\n",
    "import matplotlib.pyplot as plt\n",
    "base_Edu=pd.read_parquet(\"D:\\\\2AD ENSAE\\\\Projet de statistique appliquée\\\\Dossier travail\\\\base_Edu.parquet\")\n",
    "base_Edu"
   ]
  },
  {
   "cell_type": "code",
   "execution_count": null,
   "metadata": {},
   "outputs": [],
   "source": [
    "print(base_Edu.info())"
   ]
  },
  {
   "cell_type": "markdown",
   "metadata": {},
   "source": [
    "La base de données compte donc 477 variables dont 72 de type Int, 254 de type boolean, 1 de type datetime et 150 de type float soit au total 254 variables qualitatives (**boolean**) et 221 variables quantitatives(**float + int** en excluant les identifiants) sans oublier la variable de type **datetime**."
   ]
  },
  {
   "cell_type": "markdown",
   "metadata": {},
   "source": [
    "Nous commencons par épurer la base données avant de passer à la réduction de dimension. On s'intéressera essentiellement ici aux données erronnées et valeurs manquantes. La nature de nos variables c'est à dire leur sens laisse supposer des valeurs négatives comme potentielles valeurs erronées pour nos variables numérique (int + float+ datetime). Aucune opération ne sera faite au niveau des booléen concernant les données erronées puisque leur type impose déjà les valeurs possibles. "
   ]
  },
  {
   "cell_type": "code",
   "execution_count": null,
   "metadata": {},
   "outputs": [
    {
     "name": "stdout",
     "output_type": "stream",
     "text": [
      "unique_learner_id                               0.49958\n",
      "days_between_order_and_first_activity           0.10299\n",
      "days_between_first_activity_and_exam            0.03113\n",
      "days_between_order_and_exam                     0.00052\n",
      "avg_self_assessment_gap                         0.24112\n",
      "exam_series_increment_avg                      0.217945\n",
      "delay_annulation_lesson_days_min               0.000025\n",
      "delay_annulation_lesson_days_avg               0.000015\n",
      "score_pct__mean_change                         0.228525\n",
      "score_pct__mean_second_derivative_central       0.45819\n",
      "score_pct__skewness                             0.57913\n",
      "score_pct__kurtosis                            0.398365\n",
      "score_pct__fft_aggregated__aggtype_kurtosis    0.001985\n",
      "score_pct__linear_trend__attr_intercept        0.000005\n",
      "score_pct__linear_trend__attr_slope            0.199035\n",
      "dtype: Float64\n",
      "Les types concernés par les valeurs négatives sont:  float64    10\n",
      "Int64       5\n",
      "Name: count, dtype: int64\n"
     ]
    }
   ],
   "source": [
    "neg=(base_Edu.select_dtypes(exclude=\"datetime\")<0).sum()/len(base_Edu)\n",
    "print(neg[neg>0])\n",
    "print(\"Les types concernés par les valeurs négatives sont: \",base_Edu[neg[neg>0].index].dtypes.value_counts())\n"
   ]
  },
  {
   "cell_type": "markdown",
   "metadata": {},
   "source": [
    "15 variables numériques présentent donc des valeurs négatives potentiellement erronnées.Ces valeurs négatives n'ont pas de raison d'être présentent dans la base.  Seul les variables de types **int** et **float** sont concernées. On laisse de coté la variable **unique_learner_id** qui représente l'identifiant de notre base qui ne nous sera d'ailleurs d'aucune utilité pour nos analyses. On pourrait penser à supprimer les observations correspondantes au valeurs manqantes. Mais cela entrainerait une perte considérable d'informations. La variable **score_pct__skewness** présente à elle seul 57%  de valeurs négatives. On risque donc de perdre environ 60% des observations voire plus si on décide de supprimer des observations associés. On choisit ici de remplacer ces valeurs par la médiane de la variable correspondante pour éviter de distordre significativement la structure de nos données. "
   ]
  },
  {
   "cell_type": "code",
   "execution_count": null,
   "metadata": {},
   "outputs": [],
   "source": [
    "#Récupération des variables concernées sauf l'identifiant\n",
    "neg=neg.drop(\"unique_learner_id\")"
   ]
  },
  {
   "cell_type": "code",
   "execution_count": null,
   "metadata": {},
   "outputs": [],
   "source": [
    "def replace_negatives_with_median(df):\n",
    "    # Filtrer uniquement les colonnes numériques\n",
    "    numerical_df = df.select_dtypes(include=['number'])\n",
    "    \n",
    "    # Remplacer les valeurs négatives par la médiane\n",
    "    for column in numerical_df.columns:\n",
    "        # Calculer la médiane sans les valeurs négatives\n",
    "        median_without_negatives = numerical_df.loc[numerical_df[column] >= 0, column].median()\n",
    "        \n",
    "        # Remplacer les valeurs négatives par cette médiane\n",
    "        df[column] = df[column].apply(lambda x: median_without_negatives if x < 0 else x)\n",
    "    \n",
    "    return df\n",
    "\n",
    "# Application de la fonction\n",
    "base_Edu[neg[neg>0].index] = replace_negatives_with_median(base_Edu[neg[neg>0].index])\n"
   ]
  },
  {
   "cell_type": "markdown",
   "metadata": {},
   "source": [
    "Interessons nous maintenant aux valeurs manquantes. "
   ]
  },
  {
   "cell_type": "code",
   "execution_count": null,
   "metadata": {},
   "outputs": [
    {
     "data": {
      "text/plain": [
       "count    404.000000\n",
       "mean       0.743390\n",
       "std        0.279055\n",
       "min        0.047720\n",
       "25%        0.666710\n",
       "50%        0.842345\n",
       "75%        0.918625\n",
       "max        1.000000\n",
       "dtype: float64"
      ]
     },
     "metadata": {},
     "output_type": "display_data"
    }
   ],
   "source": [
    "missing_value=(base_Edu.isnull().sum()/len(base_Edu))\n",
    "missing_value[missing_value>0]\n",
    "missing_value[missing_value>0].describe()"
   ]
  },
  {
   "cell_type": "markdown",
   "metadata": {},
   "source": [
    "La base de données comporte donc 404 variables avec valeurs manquantes sur le total des 476 variables de la base ce qui n'est pas du tout négligeable. Voyons combien de valeurs manquantes at-on par type de variables. "
   ]
  },
  {
   "cell_type": "code",
   "execution_count": null,
   "metadata": {},
   "outputs": [
    {
     "name": "stdout",
     "output_type": "stream",
     "text": [
      "48  variable de type int ont des valeurs manquantes\n",
      "103  variable de type float ont des valeurs manquantes\n",
      "253  variable de type boolean ont des valeurs manquantes\n",
      "0  variable de type datetime ont des valeurs manquantes\n"
     ]
    }
   ],
   "source": [
    "print(base_Edu.select_dtypes(\"int\").isnull().any().sum(),\" variable de type int ont des valeurs manquantes\")\n",
    "print(base_Edu.select_dtypes(\"float\").isnull().any().sum(),\" variable de type float ont des valeurs manquantes\")\n",
    "print(base_Edu.select_dtypes(\"boolean\").isnull().any().sum(),\" variable de type boolean ont des valeurs manquantes\")\n",
    "print(base_Edu.select_dtypes(\"datetime\").isnull().any().sum(),\" variable de type datetime ont des valeurs manquantes\")"
   ]
  },
  {
   "cell_type": "markdown",
   "metadata": {},
   "source": [
    "La seule variable de type datetime n'a donc pas de valeurs manquantes.  Analysons de plus près les proportions de valeurs manquantes des autres types"
   ]
  },
  {
   "cell_type": "code",
   "execution_count": null,
   "metadata": {},
   "outputs": [
    {
     "data": {
      "text/plain": [
       "count    253.000000\n",
       "mean       0.903116\n",
       "std        0.072136\n",
       "min        0.695085\n",
       "25%        0.837765\n",
       "50%        0.883305\n",
       "75%        1.000000\n",
       "max        1.000000\n",
       "dtype: float64"
      ]
     },
     "metadata": {},
     "output_type": "display_data"
    }
   ],
   "source": [
    "miss_bool=base_Edu.select_dtypes(\"boolean\").isnull().sum()/len(base_Edu)\n",
    "miss_bool[miss_bool>0].describe()"
   ]
  },
  {
   "cell_type": "markdown",
   "metadata": {},
   "source": [
    "Les variables de type boolean comporte pratiquement tous assez de valeurs manquantes avec un minimum de 69% et un maximum de 100% du total des observations"
   ]
  },
  {
   "cell_type": "markdown",
   "metadata": {},
   "source": [
    "Les valeurs manquantes de la base ne sont pas complètement aléatoires. Elles ne sont pas pour la plupart le fruit d'une mauvaise collecte de données. La présence de valeurs manquantes dans cette base est due à diverses raisons notamment le fait que plusieurs individus de la base n'ont pas encore passé d'examen pour le permis. Plusieurs questions(variables) n'ont de sens que dans le cas où le premier examen est passé. Il y a donc une part d'information apporté par ces valeurs manquantes que nous devons inclure dans nos analyses. Pour les variables booléenne, nous pouvons régler ce prblème c'est à dire prendre en compte l'information apportée par ces valeurs manquantes en transformant les variables booléennes en variable catégorielles en considérant les valeurs manquantes comme une catégorie(True=1,False=0 et NA=2)."
   ]
  },
  {
   "cell_type": "code",
   "execution_count": null,
   "metadata": {},
   "outputs": [],
   "source": [
    "#print(base_Edu.select_dtypes('category'))\n",
    "def encode_column_with_na(col):\n",
    "    mapping = {True: 1, False: 0, pd.NA: 2}  # Encoder les valeurs booléennes et <NA>\n",
    "    return col.map(mapping)\n",
    "colboo=base_Edu.select_dtypes(\"boolean\").columns\n",
    "for col in colboo:\n",
    "    base_Edu[col] = encode_column_with_na(base_Edu[col]).astype(\"category\")\n",
    "#base_Edu[\"is_first_exam_success\"].cat.categories\n"
   ]
  },
  {
   "cell_type": "markdown",
   "metadata": {},
   "source": [
    "Passons maintenant aux variables quantitatives (int+float)"
   ]
  },
  {
   "cell_type": "code",
   "execution_count": null,
   "metadata": {},
   "outputs": [
    {
     "data": {
      "text/plain": [
       "count    151.000000\n",
       "mean       0.475770\n",
       "std        0.292138\n",
       "min        0.047720\n",
       "25%        0.184915\n",
       "50%        0.483995\n",
       "75%        0.736010\n",
       "max        0.941710\n",
       "dtype: float64"
      ]
     },
     "metadata": {},
     "output_type": "display_data"
    }
   ],
   "source": [
    "miss_quant=base_Edu.select_dtypes(include=[\"int\",\"float\"]).isnull().sum()/len(base_Edu)\n",
    "miss_quant[miss_quant>0].describe()"
   ]
  },
  {
   "cell_type": "markdown",
   "metadata": {},
   "source": [
    "Pour les variables quantitatives, la distribution des valeurs manquantes est plus étendue. On enregistre 151 variables qualitatives avec valeurs manquantes. On a un minimum de 4% et un maximum de 94% de valeurs manquantes par rapport au total d'observation(nous rappelons 200000 obervations). La nature des variables et la distribution des valeurs manquantes dans ce cas ne facilite pas la capture de l'information apportée par la présence de ces valeurs manquantes. On pourrait opter pour une imputation par KNN ou par imputation itérative (MICE) mais cela risque de modifier et significativement les corrélations existant déjà entre les variables introduisant ainsi un important biais et au vue de la taille de l'echantillon, cela demanderait un temps d'excution énorme. On choisit ici donc de procéder à une imputation par la médiane après suppression des variables avant un taux élevé de valeurs manquantes pour minimiser le biais. Cela permettra de ne pas trop distordre les distributions existentes."
   ]
  },
  {
   "cell_type": "code",
   "execution_count": null,
   "metadata": {},
   "outputs": [
    {
     "data": {
      "text/plain": [
       "count    118.000000\n",
       "mean       0.054362\n",
       "std        0.074368\n",
       "min        0.000000\n",
       "25%        0.000000\n",
       "50%        0.000000\n",
       "75%        0.106310\n",
       "max        0.194530\n",
       "dtype: float64"
      ]
     },
     "metadata": {},
     "output_type": "display_data"
    }
   ],
   "source": [
    "miss_quant[miss_quant<=0.20].describe()"
   ]
  },
  {
   "cell_type": "markdown",
   "metadata": {},
   "source": [
    "Nous choisissons le seuil de 20% de valeurs manquantes. Ce seuil nous parait raisonnable puisqu'il est relativement faible et n'entraine pas la suppression d'un grand nombre de variables quantitatives (118 sont conservées sur un total de 151)"
   ]
  },
  {
   "cell_type": "code",
   "execution_count": null,
   "metadata": {},
   "outputs": [],
   "source": [
    "#suppression des variables avec plus de 20% de valeurs manquantes\n",
    "base_Edu=base_Edu.drop(columns=miss_quant[miss_quant>0.20].index)\n",
    "#Imputation par la médiane\n",
    "col=base_Edu.select_dtypes(exclude='category').columns\n",
    "base_Edu[col] = base_Edu[col].fillna(base_Edu[col].median())"
   ]
  },
  {
   "cell_type": "code",
   "execution_count": null,
   "metadata": {},
   "outputs": [
    {
     "data": {
      "text/plain": [
       "0"
      ]
     },
     "metadata": {},
     "output_type": "display_data"
    }
   ],
   "source": [
    "base_Edu.isnull().any().sum()"
   ]
  },
  {
   "cell_type": "markdown",
   "metadata": {},
   "source": [
    "Plus aucune valeur manquante. La base de données enfin prête, on peut passer aux opérations de réduction de dimension"
   ]
  }
 ],
 "metadata": {
  "language_info": {
   "name": "python"
  }
 },
 "nbformat": 4,
 "nbformat_minor": 2
}
